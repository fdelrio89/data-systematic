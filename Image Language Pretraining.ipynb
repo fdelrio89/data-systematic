{
 "cells": [
  {
   "cell_type": "code",
   "execution_count": 1,
   "id": "f4254556",
   "metadata": {},
   "outputs": [],
   "source": [
    "# add command for jupyter to reload modules automatically\n",
    "%load_ext autoreload\n",
    "%autoreload 2"
   ]
  },
  {
   "cell_type": "code",
   "execution_count": 2,
   "id": "5618990d",
   "metadata": {},
   "outputs": [],
   "source": [
    "import os\n",
    "\n",
    "import comet_ml\n",
    "\n",
    "import torch\n",
    "from torch.utils.data import DataLoader\n",
    "import torch.nn.functional as F\n",
    "\n",
    "from config import Config, load_config\n",
    "from data import CLEVRSplit, CLEVRTextSplit, CLEVRMultimodalSplit, CollatorForMaskedLanguageModeling\n",
    "from model import Model, TextualModel, TrainingModel, MultimodalModel\n",
    "\n",
    "\n",
    "import lightning as L\n",
    "from lightning import Trainer\n",
    "from lightning.pytorch.loggers.comet import CometLogger\n",
    "from lightning.pytorch.callbacks import ModelCheckpoint"
   ]
  },
  {
   "cell_type": "code",
   "execution_count": 3,
   "id": "3fc8ca06",
   "metadata": {},
   "outputs": [],
   "source": [
    "def log_to_comet(): return False"
   ]
  },
  {
   "cell_type": "code",
   "execution_count": 4,
   "id": "1403891c",
   "metadata": {},
   "outputs": [],
   "source": [
    "torch.backends.cudnn.benchmark = True\n",
    "device = torch.device(\"cuda\" if torch.cuda.is_available() else \"cpu\")\n",
    "\n",
    "# config = Config()\n",
    "config = load_config()\n",
    "config.multimodal_pretraining = True"
   ]
  },
  {
   "cell_type": "code",
   "execution_count": null,
   "id": "86e0438f",
   "metadata": {},
   "outputs": [],
   "source": []
  },
  {
   "cell_type": "code",
   "execution_count": 5,
   "id": "8bc68fc5",
   "metadata": {},
   "outputs": [],
   "source": [
    "if config.use_txt_scene:\n",
    "    train_dataset, test_dataset, systematic_dataset = CLEVRTextSplit.build_splits(config)\n",
    "elif config.multimodal_pretraining:\n",
    "    train_dataset, test_dataset, systematic_dataset = CLEVRMultimodalSplit.build_splits(config)\n",
    "else:\n",
    "    train_dataset, test_dataset, systematic_dataset = CLEVRSplit.build_splits(config)\n",
    "\n",
    "config.pad_idx = train_dataset.pad_idx"
   ]
  },
  {
   "cell_type": "code",
   "execution_count": null,
   "id": "bbb54d51",
   "metadata": {},
   "outputs": [],
   "source": []
  },
  {
   "cell_type": "code",
   "execution_count": 6,
   "id": "1f7b4579",
   "metadata": {},
   "outputs": [
    {
     "name": "stderr",
     "output_type": "stream",
     "text": [
      "/home/fidelrio/.pyenv/versions/systematicity/lib/python3.7/site-packages/lightning/pytorch/utilities/parsing.py:270: UserWarning: Attribute 'model' is an instance of `nn.Module` and is already saved during checkpointing. It is recommended to ignore them using `self.save_hyperparameters(ignore=['model'])`.\n",
      "  f\"Attribute {k!r} is an instance of `nn.Module` and is already saved during checkpointing.\"\n"
     ]
    }
   ],
   "source": [
    "dlkwargs = {\n",
    "    'batch_size': config.batch_size,\n",
    "    'num_workers': int(os.environ.get(\"SLURM_JOB_CPUS_PER_NODE\", 4)),\n",
    "    'pin_memory': torch.cuda.is_available(),\n",
    "}\n",
    "\n",
    "collator = CollatorForMaskedLanguageModeling(config, train_dataset.processor, mlm_probability=0.15)\n",
    "train_loader = DataLoader(train_dataset, shuffle=True, collate_fn=collator, **dlkwargs)\n",
    "test_loader = DataLoader(test_dataset, shuffle=False, collate_fn=collator, **dlkwargs)\n",
    "systematic_loader = DataLoader(systematic_dataset, shuffle=False, collate_fn=collator, **dlkwargs)\n",
    "\n",
    "if config.use_txt_scene:\n",
    "    model = TextualModel(config)\n",
    "else:\n",
    "    model = Model(config)\n",
    "training_model = TrainingModel(model, config)"
   ]
  },
  {
   "cell_type": "code",
   "execution_count": null,
   "id": "a6030a67",
   "metadata": {},
   "outputs": [],
   "source": []
  },
  {
   "cell_type": "code",
   "execution_count": 7,
   "id": "3dd5c9f1",
   "metadata": {},
   "outputs": [],
   "source": [
    "if config.multimodal_pretraining:\n",
    "    model = MultimodalModel(config)\n",
    "elif config.use_txt_scene:\n",
    "    model = TextualModel(config)\n",
    "else:\n",
    "    model = Model(config)\n",
    "    \n",
    "model = model.to(device)"
   ]
  },
  {
   "cell_type": "code",
   "execution_count": 8,
   "id": "33e3a3a7",
   "metadata": {},
   "outputs": [],
   "source": [
    "batch = [b.to(device) for b in next(iter(train_loader))]\n",
    "# processor = train_dataset.processor"
   ]
  },
  {
   "cell_type": "code",
   "execution_count": 11,
   "id": "949f0cf2",
   "metadata": {},
   "outputs": [
    {
     "data": {
      "text/plain": [
       "(torch.Size([64, 359, 96]), torch.Size([64, 359]))"
      ]
     },
     "execution_count": 11,
     "metadata": {},
     "output_type": "execute_result"
    }
   ],
   "source": [
    "output.shape, labels.shape"
   ]
  },
  {
   "cell_type": "code",
   "execution_count": 12,
   "id": "3c1620a3",
   "metadata": {},
   "outputs": [
    {
     "data": {
      "text/plain": [
       "(tensor(4.4971, device='cuda:0', grad_fn=<NllLoss2DBackward0>),\n",
       " tensor(0.0213, device='cuda:0'))"
      ]
     },
     "execution_count": 12,
     "metadata": {},
     "output_type": "execute_result"
    }
   ],
   "source": [
    "images, scenes, labels = batch\n",
    "output = model(images, scenes)\n",
    "loss = F.cross_entropy(output.transpose(1,2), labels)\n",
    "\n",
    "pred = output.argmax(dim=-1, keepdim=True)  # get the index of the max log-probability\n",
    "masked = labels != -100\n",
    "correct = pred.eq(labels.view_as(pred))\n",
    "correct = correct[masked].sum().detach()\n",
    "count = torch.ones_like(pred)\n",
    "count = count[masked].sum().detach()\n",
    "acc = correct / count\n",
    "\n",
    "loss, acc"
   ]
  },
  {
   "cell_type": "code",
   "execution_count": 15,
   "id": "6d06def6",
   "metadata": {},
   "outputs": [
    {
     "data": {
      "text/plain": [
       "torch.Size([64, 359, 96])"
      ]
     },
     "execution_count": 15,
     "metadata": {},
     "output_type": "execute_result"
    }
   ],
   "source": [
    "output.shape"
   ]
  },
  {
   "cell_type": "code",
   "execution_count": 14,
   "id": "2109f0c2",
   "metadata": {},
   "outputs": [
    {
     "data": {
      "text/plain": [
       "22976"
      ]
     },
     "execution_count": 14,
     "metadata": {},
     "output_type": "execute_result"
    }
   ],
   "source": [
    "labels.numel()"
   ]
  },
  {
   "cell_type": "code",
   "execution_count": null,
   "id": "9a6f8fa3",
   "metadata": {},
   "outputs": [],
   "source": []
  }
 ],
 "metadata": {
  "kernelspec": {
   "display_name": "Python 3 (ipykernel)",
   "language": "python",
   "name": "python3"
  },
  "language_info": {
   "codemirror_mode": {
    "name": "ipython",
    "version": 3
   },
   "file_extension": ".py",
   "mimetype": "text/x-python",
   "name": "python",
   "nbconvert_exporter": "python",
   "pygments_lexer": "ipython3",
   "version": "3.7.5"
  }
 },
 "nbformat": 4,
 "nbformat_minor": 5
}

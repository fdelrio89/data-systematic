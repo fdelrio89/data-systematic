{
 "cells": [
  {
   "cell_type": "code",
   "execution_count": 1,
   "id": "a804b5af",
   "metadata": {},
   "outputs": [],
   "source": [
    "import json\n",
    "from pathlib import Path\n",
    "import random\n",
    "\n",
    "import matplotlib\n",
    "import matplotlib.pyplot as plt\n",
    "\n",
    "import os\n",
    "\n",
    "import torch\n",
    "\n",
    "from data import CLEVRTextSplit, CLEVRMultimodalSplit, Scene"
   ]
  },
  {
   "cell_type": "code",
   "execution_count": 2,
   "id": "b1c8c4e6",
   "metadata": {},
   "outputs": [],
   "source": [
    "from config import load_config\n",
    "    \n",
    "config = load_config()\n",
    "# config.shuffle_object_identities = True\n",
    "config.display_object_properties = False\n",
    "config.batch_size = 256"
   ]
  },
  {
   "cell_type": "code",
   "execution_count": 3,
   "id": "1d923029",
   "metadata": {},
   "outputs": [
    {
     "data": {
      "text/plain": [
       "'/workspace1/fidelrio/CLEVR_CoGenT_v1.0/vocab.txt'"
      ]
     },
     "execution_count": 3,
     "metadata": {},
     "output_type": "execute_result"
    }
   ],
   "source": [
    "config.vocabulary_path"
   ]
  },
  {
   "cell_type": "code",
   "execution_count": 4,
   "id": "386f258e",
   "metadata": {},
   "outputs": [],
   "source": [
    "train_dataset, test_dataset, systematic_dataset = CLEVRMultimodalSplit.build_splits(\n",
    "    config\n",
    ")"
   ]
  },
  {
   "cell_type": "code",
   "execution_count": null,
   "id": "9e56d1b1",
   "metadata": {},
   "outputs": [],
   "source": []
  },
  {
   "cell_type": "code",
   "execution_count": 5,
   "id": "5c4b46dc",
   "metadata": {},
   "outputs": [],
   "source": [
    "object_lens = []\n",
    "for i in range(len(train_dataset)):\n",
    "    scene = train_dataset.scenes[i]\n",
    "    object_lens.append(len(scene['objects']))"
   ]
  },
  {
   "cell_type": "code",
   "execution_count": null,
   "id": "ed9dc09f",
   "metadata": {},
   "outputs": [],
   "source": []
  },
  {
   "cell_type": "code",
   "execution_count": 6,
   "id": "e2dc44bd",
   "metadata": {},
   "outputs": [],
   "source": [
    "max_epochs = 1000\n",
    "schedule = [tuple(range(3,i+1)) for i in range(3,10)] + [(0,)]\n",
    "\n",
    "n_segments = len(schedule) # uniform segments"
   ]
  },
  {
   "cell_type": "code",
   "execution_count": 7,
   "id": "ca28b982",
   "metadata": {},
   "outputs": [
    {
     "data": {
      "text/plain": [
       "[(3,),\n",
       " (3, 4),\n",
       " (3, 4, 5),\n",
       " (3, 4, 5, 6),\n",
       " (3, 4, 5, 6, 7),\n",
       " (3, 4, 5, 6, 7, 8),\n",
       " (3, 4, 5, 6, 7, 8, 9),\n",
       " (0,)]"
      ]
     },
     "execution_count": 7,
     "metadata": {},
     "output_type": "execute_result"
    }
   ],
   "source": [
    "schedule"
   ]
  },
  {
   "cell_type": "code",
   "execution_count": 8,
   "id": "addacb1b",
   "metadata": {},
   "outputs": [],
   "source": [
    "segment_len = max_epochs // n_segments"
   ]
  },
  {
   "cell_type": "code",
   "execution_count": 9,
   "id": "c4ad3623",
   "metadata": {},
   "outputs": [
    {
     "data": {
      "text/plain": [
       "(8, 125)"
      ]
     },
     "execution_count": 9,
     "metadata": {},
     "output_type": "execute_result"
    }
   ],
   "source": [
    "n_segments, segment_len"
   ]
  },
  {
   "cell_type": "code",
   "execution_count": 10,
   "id": "7f66abd8",
   "metadata": {},
   "outputs": [],
   "source": [
    "intervals = list(zip(range(0, max_epochs, segment_len),range(segment_len, max_epochs+segment_len, segment_len)))"
   ]
  },
  {
   "cell_type": "code",
   "execution_count": 11,
   "id": "26278b12",
   "metadata": {},
   "outputs": [
    {
     "data": {
      "text/plain": [
       "[(0, 125),\n",
       " (125, 250),\n",
       " (250, 375),\n",
       " (375, 500),\n",
       " (500, 625),\n",
       " (625, 750),\n",
       " (750, 875),\n",
       " (875, 1000)]"
      ]
     },
     "execution_count": 11,
     "metadata": {},
     "output_type": "execute_result"
    }
   ],
   "source": [
    "intervals"
   ]
  },
  {
   "cell_type": "code",
   "execution_count": 12,
   "id": "0eaaac93",
   "metadata": {},
   "outputs": [
    {
     "data": {
      "text/plain": [
       "[(0, 125),\n",
       " (125, 250),\n",
       " (250, 375),\n",
       " (375, 500),\n",
       " (500, 625),\n",
       " (625, 750),\n",
       " (750, 875),\n",
       " (875, 1000)]"
      ]
     },
     "execution_count": 12,
     "metadata": {},
     "output_type": "execute_result"
    }
   ],
   "source": [
    "import numpy as np\n",
    "\n",
    "[(s[0],s[-1]+1) for s in np.array_split(range(max_epochs), n_segments)]"
   ]
  },
  {
   "cell_type": "code",
   "execution_count": null,
   "id": "b772c179",
   "metadata": {},
   "outputs": [],
   "source": []
  },
  {
   "cell_type": "code",
   "execution_count": 13,
   "id": "c2c845fe",
   "metadata": {},
   "outputs": [],
   "source": [
    "current_epoch = 999\n",
    "\n",
    "current_stage = [stage for stage, interval in enumerate(intervals) if current_epoch in range(*interval)][0]"
   ]
  },
  {
   "cell_type": "code",
   "execution_count": 14,
   "id": "066410b4",
   "metadata": {},
   "outputs": [
    {
     "data": {
      "text/plain": [
       "7"
      ]
     },
     "execution_count": 14,
     "metadata": {},
     "output_type": "execute_result"
    }
   ],
   "source": [
    "current_stage"
   ]
  },
  {
   "cell_type": "code",
   "execution_count": null,
   "id": "a6990a30",
   "metadata": {},
   "outputs": [],
   "source": []
  },
  {
   "cell_type": "code",
   "execution_count": null,
   "id": "73b9f1ef",
   "metadata": {},
   "outputs": [],
   "source": []
  },
  {
   "cell_type": "code",
   "execution_count": 15,
   "id": "6c83d283",
   "metadata": {},
   "outputs": [],
   "source": [
    "from data import CurriculumData"
   ]
  },
  {
   "cell_type": "code",
   "execution_count": 16,
   "id": "d9c2bfd0",
   "metadata": {},
   "outputs": [],
   "source": [
    "config.multimodal_pretraining = True\n",
    "\n",
    "data = CurriculumData(config)\n",
    "data.setup('fit')"
   ]
  },
  {
   "cell_type": "code",
   "execution_count": 17,
   "id": "bce339d5",
   "metadata": {},
   "outputs": [],
   "source": [
    "# data.train_with_n_objects = 0,\n",
    "data.train_with_n_objects = tuple(range(3,11))"
   ]
  },
  {
   "cell_type": "code",
   "execution_count": 18,
   "id": "7c71e1e6",
   "metadata": {},
   "outputs": [
    {
     "name": "stdout",
     "output_type": "stream",
     "text": [
      "CPU times: user 6.54 s, sys: 633 ms, total: 7.18 s\n",
      "Wall time: 7.19 s\n"
     ]
    }
   ],
   "source": [
    "%%time\n",
    "ds = data.train_dataloader().dataset"
   ]
  },
  {
   "cell_type": "code",
   "execution_count": 19,
   "id": "68051aa8",
   "metadata": {},
   "outputs": [],
   "source": [
    "object_lens = []\n",
    "for i in range(len(ds)):\n",
    "    scene = ds.scenes[i]\n",
    "    object_lens.append(len(scene['objects']))"
   ]
  },
  {
   "cell_type": "code",
   "execution_count": 20,
   "id": "7dc89d17",
   "metadata": {},
   "outputs": [
    {
     "data": {
      "text/plain": [
       "[(5, 8826),\n",
       " (6, 8813),\n",
       " (10, 8775),\n",
       " (8, 8766),\n",
       " (4, 8754),\n",
       " (9, 8702),\n",
       " (3, 8686),\n",
       " (7, 8678)]"
      ]
     },
     "execution_count": 20,
     "metadata": {},
     "output_type": "execute_result"
    }
   ],
   "source": [
    "from collections import Counter\n",
    "Counter(object_lens).most_common()"
   ]
  },
  {
   "cell_type": "code",
   "execution_count": null,
   "id": "85805452",
   "metadata": {},
   "outputs": [],
   "source": []
  },
  {
   "cell_type": "code",
   "execution_count": null,
   "id": "21c19c65",
   "metadata": {},
   "outputs": [],
   "source": []
  },
  {
   "cell_type": "code",
   "execution_count": 23,
   "id": "cf1f86c4",
   "metadata": {},
   "outputs": [
    {
     "name": "stdout",
     "output_type": "stream",
     "text": [
      "(3,) 34\n",
      "(3, 4) 69\n",
      "(3, 4, 5) 103\n",
      "(3, 4, 5, 6) 138\n",
      "(3, 4, 5, 6, 7) 171\n",
      "(3, 4, 5, 6, 7, 8) 206\n",
      "(3, 4, 5, 6, 7, 8, 9) 240\n",
      "(0,) 274\n"
     ]
    }
   ],
   "source": [
    "for n_objects in schedule:\n",
    "    data.train_with_n_objects = n_objects\n",
    "    print(n_objects, len(data.train_dataloader()))"
   ]
  },
  {
   "cell_type": "code",
   "execution_count": 22,
   "id": "8c316386",
   "metadata": {},
   "outputs": [],
   "source": [
    "ds = data.train_dataloader().dataset"
   ]
  },
  {
   "cell_type": "code",
   "execution_count": null,
   "id": "79b8f1ed",
   "metadata": {},
   "outputs": [],
   "source": []
  }
 ],
 "metadata": {
  "kernelspec": {
   "display_name": "Python 3 (ipykernel)",
   "language": "python",
   "name": "python3"
  },
  "language_info": {
   "codemirror_mode": {
    "name": "ipython",
    "version": 3
   },
   "file_extension": ".py",
   "mimetype": "text/x-python",
   "name": "python",
   "nbconvert_exporter": "python",
   "pygments_lexer": "ipython3",
   "version": "3.7.5"
  }
 },
 "nbformat": 4,
 "nbformat_minor": 5
}

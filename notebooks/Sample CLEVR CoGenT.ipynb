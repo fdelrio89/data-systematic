{
 "cells": [
  {
   "cell_type": "code",
   "execution_count": 21,
   "id": "dbc0467d",
   "metadata": {},
   "outputs": [],
   "source": [
    "import json\n",
    "import os\n",
    "import random\n",
    "import shutil\n",
    "from tqdm import tqdm"
   ]
  },
  {
   "cell_type": "code",
   "execution_count": 26,
   "id": "74e3a03a",
   "metadata": {},
   "outputs": [
    {
     "name": "stdout",
     "output_type": "stream",
     "text": [
      "trainA\n",
      "sampled_scenes 5000\n",
      "sampled_images 5000\n",
      "sampled_questions 49999\n",
      "\n"
     ]
    },
    {
     "name": "stderr",
     "output_type": "stream",
     "text": [
      "100%|██████████| 5000/5000 [04:59<00:00, 16.69it/s]\n"
     ]
    },
    {
     "name": "stdout",
     "output_type": "stream",
     "text": [
      "valA\n",
      "sampled_scenes 1000\n",
      "sampled_images 1000\n",
      "sampled_questions 10000\n",
      "\n"
     ]
    },
    {
     "name": "stderr",
     "output_type": "stream",
     "text": [
      "100%|██████████| 1000/1000 [00:29<00:00, 34.03it/s]\n"
     ]
    },
    {
     "name": "stdout",
     "output_type": "stream",
     "text": [
      "valB\n",
      "sampled_scenes 1000\n",
      "sampled_images 1000\n",
      "sampled_questions 10000\n",
      "\n"
     ]
    },
    {
     "name": "stderr",
     "output_type": "stream",
     "text": [
      "100%|██████████| 1000/1000 [00:28<00:00, 34.86it/s]\n"
     ]
    }
   ],
   "source": [
    "base_path = '/mnt/ialabnas/datasets/CLEVR_CoGenT_v1.0'\n",
    "output_path = '/mnt/ialabnas/datasets/CLEVR_CoGenT_v1.0/sample_2'\n",
    "\n",
    "# for split, k_to_sample in [('trainA', 10_000), ('valA', 2_000), ('valB', 2_000)]:\n",
    "for split, k_to_sample in [('trainA', 5_000), ('valA', 1_000), ('valB', 1_000)]:\n",
    "\n",
    "    image_dir = base_path + f'/images/{split}/'\n",
    "    output_image_dir = output_path + f'/images/{split}/'\n",
    "\n",
    "    with open(base_path + f'/questions/CLEVR_{split}_questions.json') as fp:\n",
    "        questions = json.load(fp)\n",
    "\n",
    "    with open(base_path + f'/scenes/CLEVR_{split}_scenes.json') as fp:\n",
    "        scenes = json.load(fp)\n",
    "\n",
    "\n",
    "    sampled_scenes = random.sample(scenes['scenes'], k=k_to_sample)\n",
    "    sampled_scenes = sorted(sampled_scenes, key=lambda s: s['image_filename'])\n",
    "    sampled_images = [s['image_filename'] for s in sampled_scenes]\n",
    "    sampled_images_set = set(sampled_images)\n",
    "    sampled_questions = [q for q in questions['questions'] if q['image_filename'] in sampled_images_set]\n",
    "\n",
    "\n",
    "    print(split)\n",
    "    print('sampled_scenes', len(sampled_scenes))\n",
    "    print('sampled_images', len(sampled_images))\n",
    "    print('sampled_questions', len(sampled_questions))\n",
    "    print()\n",
    "\n",
    "    if not os.path.exists(output_path + '/questions'):\n",
    "        os.makedirs(output_path + '/questions')\n",
    "    with open(output_path + f'/questions/CLEVR_{split}_questions.json', 'w') as fp:\n",
    "        json.dump({'questions': sampled_questions, 'info': questions['info']}, fp)\n",
    "\n",
    "    if not os.path.exists(output_path + '/scenes'):\n",
    "        os.makedirs(output_path + '/scenes')\n",
    "    with open(output_path + f'/scenes/CLEVR_{split}_scenes.json', 'w') as fp:\n",
    "        json.dump({'scenes': sampled_scenes, 'info': scenes['info']}, fp)\n",
    "\n",
    "    for image_filename in tqdm(sampled_images):\n",
    "        if not os.path.exists(output_image_dir):\n",
    "            os.makedirs(output_image_dir)\n",
    "\n",
    "        shutil.copyfile(image_dir + image_filename, output_image_dir + image_filename)"
   ]
  },
  {
   "cell_type": "code",
   "execution_count": null,
   "id": "fa282c36",
   "metadata": {},
   "outputs": [],
   "source": []
  }
 ],
 "metadata": {
  "kernelspec": {
   "display_name": "Python 3 (ipykernel)",
   "language": "python",
   "name": "python3"
  },
  "language_info": {
   "codemirror_mode": {
    "name": "ipython",
    "version": 3
   },
   "file_extension": ".py",
   "mimetype": "text/x-python",
   "name": "python",
   "nbconvert_exporter": "python",
   "pygments_lexer": "ipython3",
   "version": "3.7.5"
  }
 },
 "nbformat": 4,
 "nbformat_minor": 5
}

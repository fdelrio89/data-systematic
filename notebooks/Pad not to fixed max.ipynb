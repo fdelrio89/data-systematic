{
 "cells": [
  {
   "cell_type": "code",
   "execution_count": 1,
   "id": "35ccd1b6",
   "metadata": {},
   "outputs": [],
   "source": [
    "import os\n",
    "\n",
    "import comet_ml\n",
    "\n",
    "import torch\n",
    "from torch.utils.data import DataLoader\n",
    "\n",
    "from config import Config, load_config\n",
    "from data import CLEVRSplit, CLEVRTextSplit\n",
    "from model import Model, TextualModel, TrainingModel\n",
    "\n",
    "from tqdm.auto import tqdm \n",
    "\n",
    "import lightning as L\n",
    "from lightning import Trainer\n",
    "from lightning.pytorch.loggers.comet import CometLogger\n",
    "from lightning.pytorch.callbacks import ModelCheckpoint\n",
    "\n",
    "\n",
    "def log_to_comet():\n",
    "    return False"
   ]
  },
  {
   "cell_type": "code",
   "execution_count": 2,
   "id": "aac90eef",
   "metadata": {},
   "outputs": [
    {
     "name": "stdout",
     "output_type": "stream",
     "text": [
      "Building vocabulary\n"
     ]
    },
    {
     "data": {
      "application/vnd.jupyter.widget-view+json": {
       "model_id": "7c220d0e2d834e07a04dbe0ab735dcfd",
       "version_major": 2,
       "version_minor": 0
      },
      "text/plain": [
       "  0%|          | 0/699960 [00:00<?, ?it/s]"
      ]
     },
     "metadata": {},
     "output_type": "display_data"
    },
    {
     "name": "stdout",
     "output_type": "stream",
     "text": [
      "Building answers index\n"
     ]
    },
    {
     "data": {
      "application/vnd.jupyter.widget-view+json": {
       "model_id": "5399ac8c3a5b4cf39c612f82bf543576",
       "version_major": 2,
       "version_minor": 0
      },
      "text/plain": [
       "  0%|          | 0/699960 [00:00<?, ?it/s]"
      ]
     },
     "metadata": {},
     "output_type": "display_data"
    }
   ],
   "source": [
    "torch.backends.cudnn.benchmark = True\n",
    "device = torch.device(\"cuda\" if torch.cuda.is_available() else \"cpu\")\n",
    "\n",
    "config = load_config()\n",
    "config.use_txt_scene = True\n",
    "\n",
    "if config.use_txt_scene:\n",
    "    train_dataset, test_dataset, systematic_dataset = CLEVRTextSplit.build_splits(config)\n",
    "else:\n",
    "    train_dataset, test_dataset, systematic_dataset = CLEVRSplit.build_splits(config)\n",
    "    \n",
    "config.pad_idx = train_dataset.pad_idx\n",
    "\n",
    "experiment_name = \"notebook\""
   ]
  },
  {
   "cell_type": "code",
   "execution_count": 55,
   "id": "a0436477",
   "metadata": {},
   "outputs": [],
   "source": [
    "from torch.nn.utils.rnn import pad_sequence\n",
    "\n",
    "def collate_fn(batch):\n",
    "#     print(batch[0])\n",
    "    scenes, questions, answers = zip(*batch)\n",
    "    inputs = [torch.cat(comb) for comb in zip(questions, scenes)]\n",
    "    inputs = pad_sequence(inputs, batch_first=True, padding_value=config.pad_idx)\n",
    "    answers = torch.tensor(answers)\n",
    "    return inputs, answers"
   ]
  },
  {
   "cell_type": "code",
   "execution_count": 56,
   "id": "f3e303d4",
   "metadata": {},
   "outputs": [],
   "source": [
    "dlkwargs = {\n",
    "    'batch_size': config.batch_size,\n",
    "    'num_workers': int(os.environ.get(\"SLURM_JOB_CPUS_PER_NODE\", 4)),\n",
    "    'pin_memory': torch.cuda.is_available(),\n",
    "}\n",
    "\n",
    "train_loader = DataLoader(train_dataset, shuffle=True, collate_fn=collate_fn, **dlkwargs)\n",
    "test_loader = DataLoader(test_dataset, shuffle=False, collate_fn=collate_fn, **dlkwargs)\n",
    "systematic_loader = DataLoader(systematic_dataset, shuffle=False, collate_fn=collate_fn, **dlkwargs)"
   ]
  },
  {
   "cell_type": "code",
   "execution_count": 57,
   "id": "b0cb6f8e",
   "metadata": {},
   "outputs": [],
   "source": [
    "for ds in train_dataset, test_dataset, systematic_dataset:\n",
    "    ds.processor.pad_questions = False\n",
    "    ds.processor.pad_scenes = False"
   ]
  },
  {
   "cell_type": "code",
   "execution_count": null,
   "id": "1093d6f2",
   "metadata": {},
   "outputs": [],
   "source": []
  },
  {
   "cell_type": "code",
   "execution_count": 58,
   "id": "de61cb27",
   "metadata": {},
   "outputs": [
    {
     "data": {
      "application/vnd.jupyter.widget-view+json": {
       "model_id": "7868ed299ed74432bd382c8abcdadb75",
       "version_major": 2,
       "version_minor": 0
      },
      "text/plain": [
       "  0%|          | 0/10937 [00:03<?, ?it/s]"
      ]
     },
     "metadata": {},
     "output_type": "display_data"
    },
    {
     "name": "stdout",
     "output_type": "stream",
     "text": [
      "CPU times: user 15.9 s, sys: 7.2 s, total: 23.1 s\n",
      "Wall time: 3min 44s\n"
     ]
    }
   ],
   "source": [
    "%%time\n",
    "[_ for _ in tqdm(train_loader)]\n",
    "None"
   ]
  },
  {
   "cell_type": "code",
   "execution_count": 68,
   "id": "3e2a12a1",
   "metadata": {},
   "outputs": [],
   "source": [
    "batch = next(iter(train_loader))"
   ]
  },
  {
   "cell_type": "code",
   "execution_count": 69,
   "id": "29c5cfee",
   "metadata": {},
   "outputs": [
    {
     "data": {
      "text/plain": [
       "[tensor([[ 0, 86, 26,  ...,  5, 74, 11],\n",
       "         [ 0, 93, 65,  ...,  1,  1,  1],\n",
       "         [ 0, 39, 86,  ...,  1,  1,  1],\n",
       "         ...,\n",
       "         [ 0, 93, 77,  ...,  1,  1,  1],\n",
       "         [ 0, 93, 65,  ...,  1,  1,  1],\n",
       "         [ 0, 21, 87,  ...,  1,  1,  1]]),\n",
       " tensor([15,  1, 20,  0, 24, 27, 20, 20, 18,  1, 23, 15, 20, 15, 27,  0, 20,  1,\n",
       "         19, 23,  1, 20, 27,  0, 27, 27, 27, 11,  1,  1, 23, 19, 17, 24, 20,  1,\n",
       "         27, 20,  5, 26, 13, 27,  3,  3, 24, 13, 20,  1, 27, 20, 20, 27, 20, 20,\n",
       "         20,  0, 20, 18, 21, 25, 23, 25,  1, 20])]"
      ]
     },
     "execution_count": 69,
     "metadata": {},
     "output_type": "execute_result"
    }
   ],
   "source": [
    "batch"
   ]
  },
  {
   "cell_type": "code",
   "execution_count": 70,
   "id": "9d42b508",
   "metadata": {},
   "outputs": [
    {
     "data": {
      "text/plain": [
       "(torch.Size([64, 292]), torch.Size([64]))"
      ]
     },
     "execution_count": 70,
     "metadata": {},
     "output_type": "execute_result"
    }
   ],
   "source": [
    "batch[0].shape, batch[1].shape"
   ]
  },
  {
   "cell_type": "code",
   "execution_count": 71,
   "id": "1d572a27",
   "metadata": {},
   "outputs": [
    {
     "data": {
      "text/plain": [
       "tensor(0.3469)"
      ]
     },
     "execution_count": 71,
     "metadata": {},
     "output_type": "execute_result"
    }
   ],
   "source": [
    "(batch[0] == config.pad_idx).sum() / batch[0].numel()"
   ]
  },
  {
   "cell_type": "code",
   "execution_count": 72,
   "id": "84f28733",
   "metadata": {},
   "outputs": [
    {
     "data": {
      "text/plain": [
       "tensor(0.0005)"
      ]
     },
     "execution_count": 72,
     "metadata": {},
     "output_type": "execute_result"
    }
   ],
   "source": [
    "(batch[1] == config.pad_idx).sum() / batch[0].numel()"
   ]
  },
  {
   "cell_type": "code",
   "execution_count": 73,
   "id": "6cfc2e1c",
   "metadata": {},
   "outputs": [],
   "source": [
    "# (torch.cat((batch[0], batch[1]), dim=1) == config.pad_idx).sum() / torch.cat((batch[0], batch[1]), dim=1).numel()"
   ]
  },
  {
   "cell_type": "code",
   "execution_count": 74,
   "id": "89d0398e",
   "metadata": {},
   "outputs": [],
   "source": [
    "# torch.cat((batch[0], batch[1]), dim=1).numel()"
   ]
  },
  {
   "cell_type": "code",
   "execution_count": 75,
   "id": "a1aa696d",
   "metadata": {},
   "outputs": [
    {
     "data": {
      "text/plain": [
       "18688"
      ]
     },
     "execution_count": 75,
     "metadata": {},
     "output_type": "execute_result"
    }
   ],
   "source": [
    "batch[0].numel()"
   ]
  },
  {
   "cell_type": "code",
   "execution_count": null,
   "id": "bba32e57",
   "metadata": {},
   "outputs": [],
   "source": []
  }
 ],
 "metadata": {
  "kernelspec": {
   "display_name": "Python 3 (ipykernel)",
   "language": "python",
   "name": "python3"
  },
  "language_info": {
   "codemirror_mode": {
    "name": "ipython",
    "version": 3
   },
   "file_extension": ".py",
   "mimetype": "text/x-python",
   "name": "python",
   "nbconvert_exporter": "python",
   "pygments_lexer": "ipython3",
   "version": "3.7.5"
  }
 },
 "nbformat": 4,
 "nbformat_minor": 5
}

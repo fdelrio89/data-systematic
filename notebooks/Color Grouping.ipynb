{
 "cells": [
  {
   "cell_type": "code",
   "execution_count": 1,
   "id": "25c9023d",
   "metadata": {},
   "outputs": [],
   "source": [
    "import colorsys\n",
    "import json\n",
    "import numpy as np"
   ]
  },
  {
   "cell_type": "code",
   "execution_count": 2,
   "id": "f13ab9d6",
   "metadata": {},
   "outputs": [],
   "source": [
    "n_colors = '216c'\n",
    "\n",
    "properties_dir = '/mnt/ialabnas/homes/fidelrio/clevr-dataset-gen/image_generation/data/multicolored-v2'\n",
    "properties_path = f'{properties_dir}/properties-{n_colors}.json'\n",
    "\n",
    "with open(properties_path) as fp:\n",
    "    properties = json.load(fp)\n",
    "    named_colors = properties['colors']"
   ]
  },
  {
   "cell_type": "code",
   "execution_count": 3,
   "id": "2ecb4d64",
   "metadata": {},
   "outputs": [],
   "source": [
    "color_names = list(named_colors.keys())\n",
    "raw_color_values = [named_colors[cn] for cn in color_names]"
   ]
  },
  {
   "cell_type": "code",
   "execution_count": 4,
   "id": "ca51bee3",
   "metadata": {},
   "outputs": [],
   "source": [
    "rgb_color_values = np.array(raw_color_values) / 255\n",
    "\n",
    "hls_color_values = np.array([colorsys.rgb_to_hls(*c) for c in raw_color_values])\n",
    "hls_max_min = (hls_color_values.max(0) - hls_color_values.min(0))\n",
    "hls_min = hls_color_values.min(0)\n",
    "hls_color_values = (hls_color_values - hls_min) / hls_max_min\n",
    "\n",
    "hsv_color_values = np.array([colorsys.rgb_to_hsv(*c) for c in raw_color_values])\n",
    "hsv_max_min = (hsv_color_values.max(0) - hsv_color_values.min(0))\n",
    "hsv_min = hsv_color_values.min(0)\n",
    "hsv_color_values = (hsv_color_values - hsv_min) / hsv_max_min\n",
    "\n",
    "color_values_by_repr = {\n",
    "    'rgb': rgb_color_values,\n",
    "    'hls': hls_color_values,\n",
    "    'hsv': hsv_color_values,\n",
    "}\n",
    "\n",
    "raw_color_values = np.array(raw_color_values)"
   ]
  },
  {
   "cell_type": "code",
   "execution_count": 5,
   "id": "60bf5592",
   "metadata": {},
   "outputs": [
    {
     "data": {
      "text/plain": [
       "((216, 3), (216, 3), (216, 3))"
      ]
     },
     "execution_count": 5,
     "metadata": {},
     "output_type": "execute_result"
    }
   ],
   "source": [
    "rgb_color_values.shape, hls_color_values.shape, hsv_color_values.shape"
   ]
  },
  {
   "cell_type": "code",
   "execution_count": null,
   "id": "f0057426",
   "metadata": {},
   "outputs": [],
   "source": []
  },
  {
   "cell_type": "code",
   "execution_count": 6,
   "id": "774aefb0",
   "metadata": {},
   "outputs": [],
   "source": [
    "num_clusters = 8\n",
    "balanced = True\n",
    "representation = 'hls'\n",
    "\n",
    "color_values = color_values_by_repr[representation]"
   ]
  },
  {
   "cell_type": "code",
   "execution_count": 7,
   "id": "6b093e17",
   "metadata": {},
   "outputs": [],
   "source": [
    "from sklearn.cluster import KMeans\n",
    "from sklearn.metrics import pairwise_distances_argmin_min\n",
    "\n",
    "def balanced_k_means(X, n_clusters, max_iter=100, random_state=None):\n",
    "    np.random.seed(random_state)\n",
    "    n_samples, n_features = X.shape\n",
    "    size_per_cluster = n_samples // n_clusters\n",
    "\n",
    "    # Initialize centroids by randomly selecting k unique points\n",
    "    initial_indices = np.random.choice(n_samples, n_clusters, replace=False)\n",
    "    centroids = X[initial_indices]\n",
    "\n",
    "    for iteration in range(max_iter):\n",
    "        # Assign each sample to the nearest centroid\n",
    "        labels, _ = pairwise_distances_argmin_min(X, centroids)\n",
    "        \n",
    "        # Create clusters ensuring balance\n",
    "        clusters = [[] for _ in range(n_clusters)]\n",
    "        for idx, label in enumerate(labels):\n",
    "            clusters[label].append(idx)\n",
    "        \n",
    "        # Balance clusters by redistributing samples if necessary\n",
    "        for cluster in clusters:\n",
    "            while len(cluster) > size_per_cluster+1:\n",
    "                for target_cluster in clusters:\n",
    "                    if len(target_cluster) < size_per_cluster:\n",
    "                        target_cluster.append(cluster.pop())\n",
    "                        if len(cluster) == size_per_cluster or len(cluster) == (size_per_cluster+1):\n",
    "                            break\n",
    "                if len(cluster) == size_per_cluster or len(cluster) == (size_per_cluster+1):\n",
    "                    break\n",
    "        \n",
    "        # Calculate new centroids\n",
    "        new_centroids = np.array([X[cluster].mean(axis=0) for cluster in clusters])\n",
    "        \n",
    "        # Check for convergence\n",
    "        if np.all(centroids == new_centroids):\n",
    "            break\n",
    "        centroids = new_centroids\n",
    "    \n",
    "    assignation = np.zeros(len(X), dtype=int)\n",
    "    for cluster_idx, cluster in enumerate(clusters):\n",
    "        assignation[cluster] = cluster_idx\n",
    "    return assignation, centroids\n",
    "\n",
    "def k_means(X, num_clusters):\n",
    "    kmeans = KMeans(n_clusters=num_clusters)\n",
    "    y = kmeans.fit_predict(X)\n",
    "    cluster_centers = kmeans.cluster_centers_\n",
    "    return y, cluster_centers\n",
    "\n",
    "\n",
    "if balanced:\n",
    "    color_assign, cluster_centers = balanced_k_means(color_values, n_clusters=num_clusters, max_iter=100)\n",
    "else:\n",
    "    color_assign, cluster_centers = k_means(color_values, n_clusters=num_clusters)"
   ]
  },
  {
   "cell_type": "code",
   "execution_count": null,
   "id": "d4001170",
   "metadata": {},
   "outputs": [],
   "source": []
  },
  {
   "cell_type": "code",
   "execution_count": 8,
   "id": "e41c2c41",
   "metadata": {},
   "outputs": [],
   "source": [
    "centroid_closest_colors, _ = pairwise_distances_argmin_min(cluster_centers, color_values)\n",
    "\n",
    "centroid_color_names = [color_names[cidx] for cidx in centroid_closest_colors]\n",
    "\n",
    "color_translation = {}\n",
    "for cname, cluster in zip(color_names, color_assign.tolist()):\n",
    "    color_translation[cname] = centroid_color_names[cluster]"
   ]
  },
  {
   "cell_type": "code",
   "execution_count": 9,
   "id": "2fe5b174",
   "metadata": {},
   "outputs": [],
   "source": [
    "# cluster_centers, color_values[centroid_closest_colors]"
   ]
  },
  {
   "cell_type": "code",
   "execution_count": null,
   "id": "016d2728",
   "metadata": {},
   "outputs": [],
   "source": []
  },
  {
   "cell_type": "code",
   "execution_count": 10,
   "id": "beff7270",
   "metadata": {},
   "outputs": [
    {
     "data": {
      "text/plain": [
       "['#99cc33',\n",
       " '#cccc99',\n",
       " '#009999',\n",
       " '#9900cc',\n",
       " '#6633cc',\n",
       " '#6666cc',\n",
       " '#cc9900',\n",
       " '#33cc99']"
      ]
     },
     "execution_count": 10,
     "metadata": {},
     "output_type": "execute_result"
    }
   ],
   "source": [
    "centroid_color_names"
   ]
  },
  {
   "cell_type": "code",
   "execution_count": 11,
   "id": "97eafc10",
   "metadata": {},
   "outputs": [
    {
     "data": {
      "text/plain": [
       "{'#000000': '#cccc99',\n",
       " '#000033': '#009999',\n",
       " '#000066': '#009999',\n",
       " '#000099': '#9900cc',\n",
       " '#0000cc': '#9900cc',\n",
       " '#0000ff': '#9900cc',\n",
       " '#003300': '#009999',\n",
       " '#003333': '#009999',\n",
       " '#003366': '#009999',\n",
       " '#003399': '#009999',\n",
       " '#0033cc': '#009999',\n",
       " '#0033ff': '#9900cc',\n",
       " '#006600': '#009999',\n",
       " '#006633': '#009999',\n",
       " '#006666': '#009999',\n",
       " '#006699': '#009999',\n",
       " '#0066cc': '#009999',\n",
       " '#0066ff': '#009999',\n",
       " '#009900': '#009999',\n",
       " '#009933': '#009999',\n",
       " '#009966': '#009999',\n",
       " '#009999': '#009999',\n",
       " '#0099cc': '#009999',\n",
       " '#0099ff': '#009999',\n",
       " '#00cc00': '#009999',\n",
       " '#00cc33': '#009999',\n",
       " '#00cc66': '#009999',\n",
       " '#00cc99': '#009999',\n",
       " '#00cccc': '#009999',\n",
       " '#00ccff': '#009999',\n",
       " '#00ff00': '#009999',\n",
       " '#00ff33': '#009999',\n",
       " '#00ff66': '#009999',\n",
       " '#00ff99': '#33cc99',\n",
       " '#00ffcc': '#6633cc',\n",
       " '#00ffff': '#99cc33',\n",
       " '#330000': '#cc9900',\n",
       " '#330033': '#9900cc',\n",
       " '#330066': '#9900cc',\n",
       " '#330099': '#9900cc',\n",
       " '#3300cc': '#9900cc',\n",
       " '#3300ff': '#9900cc',\n",
       " '#333300': '#cc9900',\n",
       " '#333333': '#cccc99',\n",
       " '#333366': '#6633cc',\n",
       " '#333399': '#6633cc',\n",
       " '#3333cc': '#6633cc',\n",
       " '#3333ff': '#6633cc',\n",
       " '#336600': '#cc9900',\n",
       " '#336633': '#99cc33',\n",
       " '#336666': '#33cc99',\n",
       " '#336699': '#6633cc',\n",
       " '#3366cc': '#6633cc',\n",
       " '#3366ff': '#6633cc',\n",
       " '#339900': '#cc9900',\n",
       " '#339933': '#99cc33',\n",
       " '#339966': '#33cc99',\n",
       " '#339999': '#33cc99',\n",
       " '#3399cc': '#33cc99',\n",
       " '#3399ff': '#33cc99',\n",
       " '#33cc00': '#cc9900',\n",
       " '#33cc33': '#33cc99',\n",
       " '#33cc66': '#33cc99',\n",
       " '#33cc99': '#33cc99',\n",
       " '#33cccc': '#33cc99',\n",
       " '#33ccff': '#33cc99',\n",
       " '#33ff00': '#cc9900',\n",
       " '#33ff33': '#33cc99',\n",
       " '#33ff66': '#33cc99',\n",
       " '#33ff99': '#33cc99',\n",
       " '#33ffcc': '#33cc99',\n",
       " '#33ffff': '#33cc99',\n",
       " '#660000': '#cc9900',\n",
       " '#660033': '#9900cc',\n",
       " '#660066': '#9900cc',\n",
       " '#660099': '#9900cc',\n",
       " '#6600cc': '#9900cc',\n",
       " '#6600ff': '#9900cc',\n",
       " '#663300': '#cc9900',\n",
       " '#663333': '#99cc33',\n",
       " '#663366': '#6633cc',\n",
       " '#663399': '#6633cc',\n",
       " '#6633cc': '#6633cc',\n",
       " '#6633ff': '#6633cc',\n",
       " '#666600': '#cc9900',\n",
       " '#666633': '#99cc33',\n",
       " '#666666': '#cccc99',\n",
       " '#666699': '#6666cc',\n",
       " '#6666cc': '#6666cc',\n",
       " '#6666ff': '#6666cc',\n",
       " '#669900': '#cc9900',\n",
       " '#669933': '#99cc33',\n",
       " '#669966': '#cccc99',\n",
       " '#669999': '#6666cc',\n",
       " '#6699cc': '#6666cc',\n",
       " '#6699ff': '#6666cc',\n",
       " '#66cc00': '#cc9900',\n",
       " '#66cc33': '#99cc33',\n",
       " '#66cc66': '#33cc99',\n",
       " '#66cc99': '#33cc99',\n",
       " '#66cccc': '#6666cc',\n",
       " '#66ccff': '#6666cc',\n",
       " '#66ff00': '#cc9900',\n",
       " '#66ff33': '#99cc33',\n",
       " '#66ff66': '#33cc99',\n",
       " '#66ff99': '#33cc99',\n",
       " '#66ffcc': '#33cc99',\n",
       " '#66ffff': '#33cc99',\n",
       " '#990000': '#cc9900',\n",
       " '#990033': '#9900cc',\n",
       " '#990066': '#9900cc',\n",
       " '#990099': '#9900cc',\n",
       " '#9900cc': '#9900cc',\n",
       " '#9900ff': '#9900cc',\n",
       " '#993300': '#cc9900',\n",
       " '#993333': '#99cc33',\n",
       " '#993366': '#6633cc',\n",
       " '#993399': '#6633cc',\n",
       " '#9933cc': '#6633cc',\n",
       " '#9933ff': '#6633cc',\n",
       " '#996600': '#cc9900',\n",
       " '#996633': '#99cc33',\n",
       " '#996666': '#cccc99',\n",
       " '#996699': '#6666cc',\n",
       " '#9966cc': '#6666cc',\n",
       " '#9966ff': '#6666cc',\n",
       " '#999900': '#cc9900',\n",
       " '#999933': '#99cc33',\n",
       " '#999966': '#cccc99',\n",
       " '#999999': '#cccc99',\n",
       " '#9999cc': '#6666cc',\n",
       " '#9999ff': '#6666cc',\n",
       " '#99cc00': '#cc9900',\n",
       " '#99cc33': '#99cc33',\n",
       " '#99cc66': '#cccc99',\n",
       " '#99cc99': '#cccc99',\n",
       " '#99cccc': '#6666cc',\n",
       " '#99ccff': '#6666cc',\n",
       " '#99ff00': '#cc9900',\n",
       " '#99ff33': '#99cc33',\n",
       " '#99ff66': '#99cc33',\n",
       " '#99ff99': '#cccc99',\n",
       " '#99ffcc': '#6666cc',\n",
       " '#99ffff': '#6666cc',\n",
       " '#cc0000': '#cc9900',\n",
       " '#cc0033': '#9900cc',\n",
       " '#cc0066': '#9900cc',\n",
       " '#cc0099': '#9900cc',\n",
       " '#cc00cc': '#9900cc',\n",
       " '#cc00ff': '#9900cc',\n",
       " '#cc3300': '#cc9900',\n",
       " '#cc3333': '#99cc33',\n",
       " '#cc3366': '#6633cc',\n",
       " '#cc3399': '#6633cc',\n",
       " '#cc33cc': '#6633cc',\n",
       " '#cc33ff': '#6633cc',\n",
       " '#cc6600': '#cc9900',\n",
       " '#cc6633': '#99cc33',\n",
       " '#cc6666': '#cccc99',\n",
       " '#cc6699': '#6666cc',\n",
       " '#cc66cc': '#6666cc',\n",
       " '#cc66ff': '#6666cc',\n",
       " '#cc9900': '#cc9900',\n",
       " '#cc9933': '#99cc33',\n",
       " '#cc9966': '#cccc99',\n",
       " '#cc9999': '#cccc99',\n",
       " '#cc99cc': '#6666cc',\n",
       " '#cc99ff': '#6666cc',\n",
       " '#cccc00': '#cc9900',\n",
       " '#cccc33': '#99cc33',\n",
       " '#cccc66': '#cccc99',\n",
       " '#cccc99': '#cccc99',\n",
       " '#cccccc': '#cccc99',\n",
       " '#ccccff': '#6666cc',\n",
       " '#ccff00': '#cc9900',\n",
       " '#ccff33': '#99cc33',\n",
       " '#ccff66': '#99cc33',\n",
       " '#ccff99': '#cccc99',\n",
       " '#ccffcc': '#cccc99',\n",
       " '#ccffff': '#6666cc',\n",
       " '#ff0000': '#cc9900',\n",
       " '#ff0033': '#9900cc',\n",
       " '#ff0066': '#9900cc',\n",
       " '#ff0099': '#9900cc',\n",
       " '#ff00cc': '#9900cc',\n",
       " '#ff00ff': '#99cc33',\n",
       " '#ff3300': '#cc9900',\n",
       " '#ff3333': '#99cc33',\n",
       " '#ff3366': '#6633cc',\n",
       " '#ff3399': '#6633cc',\n",
       " '#ff33cc': '#6633cc',\n",
       " '#ff33ff': '#6633cc',\n",
       " '#ff6600': '#cc9900',\n",
       " '#ff6633': '#99cc33',\n",
       " '#ff6666': '#cccc99',\n",
       " '#ff6699': '#6666cc',\n",
       " '#ff66cc': '#6666cc',\n",
       " '#ff66ff': '#6666cc',\n",
       " '#ff9900': '#cc9900',\n",
       " '#ff9933': '#99cc33',\n",
       " '#ff9966': '#cccc99',\n",
       " '#ff9999': '#cccc99',\n",
       " '#ff99cc': '#6666cc',\n",
       " '#ff99ff': '#6633cc',\n",
       " '#ffcc00': '#33cc99',\n",
       " '#ffcc33': '#99cc33',\n",
       " '#ffcc66': '#cccc99',\n",
       " '#ffcc99': '#cccc99',\n",
       " '#ffcccc': '#cccc99',\n",
       " '#ffccff': '#99cc33',\n",
       " '#ffff00': '#6633cc',\n",
       " '#ffff33': '#99cc33',\n",
       " '#ffff66': '#cccc99',\n",
       " '#ffff99': '#cccc99',\n",
       " '#ffffcc': '#cccc99',\n",
       " '#ffffff': '#cccc99'}"
      ]
     },
     "execution_count": 11,
     "metadata": {},
     "output_type": "execute_result"
    }
   ],
   "source": [
    "color_translation"
   ]
  },
  {
   "cell_type": "code",
   "execution_count": 12,
   "id": "6b56d7b0",
   "metadata": {},
   "outputs": [],
   "source": [
    "# with open(f'data/color_translation_{representation}_169b_to_{num_clusters}.json', 'w') as fp:\n",
    "#     json.dump(color_translation, fp)"
   ]
  },
  {
   "cell_type": "code",
   "execution_count": null,
   "id": "69c4f93d",
   "metadata": {},
   "outputs": [],
   "source": []
  },
  {
   "cell_type": "code",
   "execution_count": 13,
   "id": "3d25caaf",
   "metadata": {},
   "outputs": [],
   "source": [
    "import math\n",
    "import matplotlib.pyplot as plt\n",
    "\n",
    "def display_colors(color_array, patches_per_row=10, patch_size=1):\n",
    "    \"\"\"\n",
    "    Display a list of colors using matplotlib in multiple rows and larger patches.\n",
    "    \n",
    "    Parameters:\n",
    "    color_array (numpy.ndarray): A 2D NumPy array with shape (n, 3), where each row represents an RGB color.\n",
    "    patches_per_row (int): The number of color patches per row.\n",
    "    patch_size (int or float): The size of each color patch.\n",
    "    \"\"\"\n",
    "    num_colors = color_array.shape[0]\n",
    "    num_rows = math.ceil(num_colors / patches_per_row)\n",
    "    \n",
    "    # Create a figure and a set of subplots\n",
    "    fig, ax = plt.subplots(figsize=(patches_per_row * patch_size, num_rows * patch_size))\n",
    "    \n",
    "    # Create a patch for each color\n",
    "    for idx, color in enumerate(color_array):\n",
    "        # Normalize the RGB values to the range [0, 1]\n",
    "        normalized_color = color / 255.0\n",
    "        row = idx // patches_per_row\n",
    "        col = idx % patches_per_row\n",
    "        ax.add_patch(\n",
    "            plt.Rectangle(\n",
    "                (col * patch_size, row * patch_size), patch_size, patch_size, color=normalized_color))\n",
    "    \n",
    "    # Set the limits and hide the axes\n",
    "    ax.set_xlim(0, patches_per_row * patch_size)\n",
    "    ax.set_ylim(0, num_rows * patch_size)\n",
    "    ax.invert_yaxis()\n",
    "    ax.axis('off')\n",
    "    \n",
    "    plt.show()"
   ]
  },
  {
   "cell_type": "code",
   "execution_count": null,
   "id": "cb03a62b",
   "metadata": {},
   "outputs": [],
   "source": []
  },
  {
   "cell_type": "code",
   "execution_count": 14,
   "id": "84a7a52d",
   "metadata": {},
   "outputs": [
    {
     "data": {
      "image/png": "[encoded data removed]",
      "text/plain": [
       "<Figure size 720x72 with 1 Axes>"
      ]
     },
     "metadata": {
      "needs_background": "light"
     },
     "output_type": "display_data"
    }
   ],
   "source": [
    "hls_cluster_centers = cluster_centers*hls_max_min + hls_min\n",
    "hls_cluster_centers = [np.clip(colorsys.hls_to_rgb(*c),0,255) for c in hls_cluster_centers]\n",
    "\n",
    "hsv_cluster_centers = cluster_centers*hsv_max_min + hsv_min\n",
    "hsv_cluster_centers = [np.clip(colorsys.hsv_to_rgb(*c),0,255) for c in hsv_cluster_centers]\n",
    "\n",
    "cluster_centers_rgb = {\n",
    "    'rgb': cluster_centers*255,\n",
    "    'hls': np.array(hls_cluster_centers),\n",
    "    'hsv': np.array(hsv_cluster_centers),\n",
    "}[representation] \n",
    "display_colors(cluster_centers_rgb)"
   ]
  },
  {
   "cell_type": "code",
   "execution_count": 15,
   "id": "3bbc76f1",
   "metadata": {},
   "outputs": [
    {
     "data": {
      "image/png": "[encoded data removed]",
      "text/plain": [
       "<Figure size 720x72 with 1 Axes>"
      ]
     },
     "metadata": {
      "needs_background": "light"
     },
     "output_type": "display_data"
    }
   ],
   "source": [
    "display_colors(np.array([named_colors[cname] for cname in centroid_color_names]))"
   ]
  },
  {
   "cell_type": "code",
   "execution_count": 16,
   "id": "d6f4cc13",
   "metadata": {},
   "outputs": [
    {
     "data": {
      "image/png": "[encoded data removed]",
      "text/plain": [
       "<Figure size 720x216 with 1 Axes>"
      ]
     },
     "metadata": {
      "needs_background": "light"
     },
     "output_type": "display_data"
    }
   ],
   "source": [
    "display_colors(raw_color_values[color_assign == 0])"
   ]
  },
  {
   "cell_type": "code",
   "execution_count": 17,
   "id": "633445df",
   "metadata": {},
   "outputs": [
    {
     "data": {
      "image/png": "[encoded data removed]",
      "text/plain": [
       "<Figure size 720x216 with 1 Axes>"
      ]
     },
     "metadata": {
      "needs_background": "light"
     },
     "output_type": "display_data"
    }
   ],
   "source": [
    "display_colors(raw_color_values[color_assign == 1])"
   ]
  },
  {
   "cell_type": "code",
   "execution_count": 18,
   "id": "8e04a99a",
   "metadata": {},
   "outputs": [
    {
     "data": {
      "image/png": "[encoded data removed]",
      "text/plain": [
       "<Figure size 720x216 with 1 Axes>"
      ]
     },
     "metadata": {
      "needs_background": "light"
     },
     "output_type": "display_data"
    }
   ],
   "source": [
    "display_colors(raw_color_values[color_assign == 2])"
   ]
  },
  {
   "cell_type": "code",
   "execution_count": 19,
   "id": "ac21b470",
   "metadata": {},
   "outputs": [
    {
     "data": {
      "image/png": "[encoded data removed]",
      "text/plain": [
       "<Figure size 720x216 with 1 Axes>"
      ]
     },
     "metadata": {
      "needs_background": "light"
     },
     "output_type": "display_data"
    }
   ],
   "source": [
    "display_colors(raw_color_values[color_assign == 3])"
   ]
  },
  {
   "cell_type": "code",
   "execution_count": 20,
   "id": "fc8914d8",
   "metadata": {},
   "outputs": [
    {
     "data": {
      "image/png": "[encoded data removed]",
      "text/plain": [
       "<Figure size 720x216 with 1 Axes>"
      ]
     },
     "metadata": {
      "needs_background": "light"
     },
     "output_type": "display_data"
    }
   ],
   "source": [
    "display_colors(raw_color_values[color_assign == 4])"
   ]
  },
  {
   "cell_type": "code",
   "execution_count": 21,
   "id": "9b34b5ac",
   "metadata": {},
   "outputs": [
    {
     "data": {
      "image/png": "[encoded data removed]",
      "text/plain": [
       "<Figure size 720x216 with 1 Axes>"
      ]
     },
     "metadata": {
      "needs_background": "light"
     },
     "output_type": "display_data"
    }
   ],
   "source": [
    "display_colors(raw_color_values[color_assign == 5])"
   ]
  },
  {
   "cell_type": "code",
   "execution_count": 22,
   "id": "c0abc850",
   "metadata": {},
   "outputs": [
    {
     "data": {
      "image/png": "[encoded data removed]",
      "text/plain": [
       "<Figure size 720x216 with 1 Axes>"
      ]
     },
     "metadata": {
      "needs_background": "light"
     },
     "output_type": "display_data"
    }
   ],
   "source": [
    "display_colors(raw_color_values[color_assign == 6])"
   ]
  },
  {
   "cell_type": "code",
   "execution_count": 23,
   "id": "d1d5dd0e",
   "metadata": {},
   "outputs": [
    {
     "data": {
      "image/png": "[encoded data removed]",
      "text/plain": [
       "<Figure size 720x216 with 1 Axes>"
      ]
     },
     "metadata": {
      "needs_background": "light"
     },
     "output_type": "display_data"
    }
   ],
   "source": [
    "display_colors(raw_color_values[color_assign == 7])"
   ]
  },
  {
   "cell_type": "code",
   "execution_count": null,
   "id": "cac8d607",
   "metadata": {},
   "outputs": [],
   "source": []
  },
  {
   "cell_type": "code",
   "execution_count": 24,
   "id": "721691ee",
   "metadata": {},
   "outputs": [
    {
     "name": "stdout",
     "output_type": "stream",
     "text": [
      "['sienna', 'dark-slate-gray', 'dark-orchid', 'medium-turquoise']\n",
      "['light-steel-blue', 'dark-slate-gray', 'sienna', 'golden-rod']\n",
      "\n",
      "['golden-rod', 'lime', 'dark-violet', 'lime']\n",
      "['rosy-brown', 'dark-violet', 'golden-rod', 'lime']\n",
      "\n",
      "['golden-rod', 'teal', 'teal', 'turquoise']\n",
      "['dark-khaki', 'turquoise', 'golden-rod', 'golden-rod']\n",
      "\n"
     ]
    }
   ],
   "source": [
    "num_clusters = 8\n",
    "for rep in ['rgb','hls','hsv']:\n",
    "    with open(f'data/color_translation_{rep}_169b_to_{num_clusters}.json') as fp:\n",
    "        color_hash = json.load(fp)\n",
    "\n",
    "    print([color_hash[c] for c in [\"red\", \"green\", \"purple\", \"cyan\"]])\n",
    "    print([color_hash[c] for c in [\"dim-grey\", \"blue\", \"brown\", \"yellow\"]])\n",
    "    print()\n"
   ]
  },
  {
   "cell_type": "code",
   "execution_count": null,
   "id": "0bb2fe1d",
   "metadata": {},
   "outputs": [],
   "source": []
  },
  {
   "cell_type": "code",
   "execution_count": null,
   "id": "6b412e68",
   "metadata": {},
   "outputs": [],
   "source": []
  },
  {
   "cell_type": "code",
   "execution_count": null,
   "id": "32bcbdd0",
   "metadata": {},
   "outputs": [],
   "source": []
  },
  {
   "cell_type": "code",
   "execution_count": 25,
   "id": "0b8a91b7",
   "metadata": {},
   "outputs": [],
   "source": [
    "import random \n",
    "\n",
    "def random_copy(list_):\n",
    "    shffld_list = list_.copy()\n",
    "    random.shuffle(shffld_list)\n",
    "    return shffld_list\n",
    "    \n",
    "def split_in_groups(list_, n_groups):\n",
    "    groups = np.array_split(list_, n_groups)\n",
    "    return [g.tolist() for g in groups]\n",
    "\n",
    "def get_targets_of_groups(groups):\n",
    "    return [random_copy(g)[0] for g in groups]"
   ]
  },
  {
   "cell_type": "code",
   "execution_count": null,
   "id": "a7b38645",
   "metadata": {},
   "outputs": [],
   "source": []
  },
  {
   "cell_type": "code",
   "execution_count": 26,
   "id": "a2640ca8",
   "metadata": {},
   "outputs": [],
   "source": [
    "num_clusters = 8\n",
    "n_colors = '216c'"
   ]
  },
  {
   "cell_type": "code",
   "execution_count": 27,
   "id": "b7923b6f",
   "metadata": {},
   "outputs": [],
   "source": [
    "if n_colors == '8':\n",
    "    properties_dir = '/mnt/ialabnas/homes/fidelrio/clevr-dataset-gen/image_generation/data/'\n",
    "    properties_path = f'{properties_dir}/properties.json'\n",
    "else:\n",
    "    properties_dir = '/mnt/ialabnas/homes/fidelrio/clevr-dataset-gen/image_generation/data/multicolored-v2'\n",
    "    properties_path = f'{properties_dir}/properties-{n_colors}.json'\n",
    "\n",
    "with open(properties_path) as fp:\n",
    "    properties = json.load(fp)\n",
    "    named_colors = properties['colors']"
   ]
  },
  {
   "cell_type": "code",
   "execution_count": 28,
   "id": "fc7aa01e",
   "metadata": {},
   "outputs": [],
   "source": [
    "color_names = list(named_colors.keys())\n",
    "raw_color_values = [named_colors[cn] for cn in color_names]"
   ]
  },
  {
   "cell_type": "code",
   "execution_count": null,
   "id": "520eb295",
   "metadata": {},
   "outputs": [],
   "source": []
  },
  {
   "cell_type": "code",
   "execution_count": 29,
   "id": "4bc9d80f",
   "metadata": {},
   "outputs": [],
   "source": [
    "if n_colors == '8':\n",
    "    base_dir = '/mnt/ialabnas/homes/fidelrio/clevr-dataset-gen/image_generation/data/'\n",
    "    B_split_path = f'{base_dir}/CoGenT_B.json'\n",
    "else:\n",
    "    base_dir = '/mnt/ialabnas/homes/fidelrio/clevr-dataset-gen/image_generation/data/multicolored-v2'\n",
    "    B_split_path = f'{base_dir}/CoGenT_A-{n_colors}.json'\n",
    "\n",
    "with open(B_split_path) as fp:\n",
    "    split_prop = json.load(fp)\n",
    "    systematic_color_groups = [\n",
    "        list(set(split_prop[\"sphere\"]) - set(split_prop[\"cube\"])),\n",
    "        list(set(split_prop[\"sphere\"]) - set(split_prop[\"cylinder\"])),\n",
    "    ]"
   ]
  },
  {
   "cell_type": "code",
   "execution_count": null,
   "id": "50c69d00",
   "metadata": {},
   "outputs": [],
   "source": []
  },
  {
   "cell_type": "code",
   "execution_count": 30,
   "id": "d77ae92b",
   "metadata": {},
   "outputs": [],
   "source": [
    "from itertools import chain\n",
    "\n",
    "systematic_colors = list(chain(*systematic_color_groups))\n",
    "non_systematic_colors = [c for c in color_names if c not in systematic_colors]"
   ]
  },
  {
   "cell_type": "code",
   "execution_count": 31,
   "id": "db4adcc8",
   "metadata": {},
   "outputs": [
    {
     "data": {
      "text/plain": [
       "(16, 200)"
      ]
     },
     "execution_count": 31,
     "metadata": {},
     "output_type": "execute_result"
    }
   ],
   "source": [
    "len(systematic_colors), len(non_systematic_colors)"
   ]
  },
  {
   "cell_type": "code",
   "execution_count": 34,
   "id": "f7556e19",
   "metadata": {},
   "outputs": [
    {
     "name": "stdout",
     "output_type": "stream",
     "text": [
      "27 colors per cluster\n",
      "n_systematic_clusters 2\n",
      "n_common_clusters 6\n"
     ]
    }
   ],
   "source": [
    "colors_per_cluster = len(color_names) // num_clusters\n",
    "print(colors_per_cluster, 'colors per cluster')\n",
    "\n",
    "# n_systematic_clusters = len(systematic_colors)  // colors_per_cluster\n",
    "# n_common_clusters = len(non_systematic_colors) // colors_per_cluster\n",
    "n_systematic_clusters = max(len(systematic_colors)  // colors_per_cluster, 2)\n",
    "n_common_clusters = num_clusters - n_systematic_clusters\n",
    "\n",
    "print('n_systematic_clusters', n_systematic_clusters)\n",
    "print('n_common_clusters', n_common_clusters)"
   ]
  },
  {
   "cell_type": "code",
   "execution_count": 36,
   "id": "d0806c49",
   "metadata": {},
   "outputs": [],
   "source": [
    "# assert colors_per_cluster <= len(systematic_colors) "
   ]
  },
  {
   "cell_type": "code",
   "execution_count": 37,
   "id": "9c5d7ac5",
   "metadata": {},
   "outputs": [],
   "source": [
    "target_colors = []\n",
    "color_groups = []\n",
    "\n",
    "systematic_color_groups = split_in_groups(random_copy(systematic_colors), n_systematic_clusters)\n",
    "target_colors.extend(get_targets_of_groups(systematic_color_groups))\n",
    "\n",
    "common_colors_groups = split_in_groups(random_copy(non_systematic_colors), n_common_clusters)\n",
    "target_colors.extend(get_targets_of_groups(common_colors_groups))\n",
    "\n",
    "color_groups = [*systematic_color_groups, *common_colors_groups]"
   ]
  },
  {
   "cell_type": "code",
   "execution_count": 38,
   "id": "12fe5e07",
   "metadata": {},
   "outputs": [
    {
     "data": {
      "text/plain": [
       "(8, 8)"
      ]
     },
     "execution_count": 38,
     "metadata": {},
     "output_type": "execute_result"
    }
   ],
   "source": [
    "len(target_colors), num_clusters"
   ]
  },
  {
   "cell_type": "code",
   "execution_count": 39,
   "id": "4d611e5b",
   "metadata": {},
   "outputs": [],
   "source": [
    "color_translation = {}\n",
    "for tcolor, group in zip(target_colors, color_groups):\n",
    "    for color in group:\n",
    "        color_translation[color] = tcolor"
   ]
  },
  {
   "cell_type": "code",
   "execution_count": null,
   "id": "a1bf557e",
   "metadata": {},
   "outputs": [],
   "source": []
  },
  {
   "cell_type": "code",
   "execution_count": 48,
   "id": "8bf61b39",
   "metadata": {},
   "outputs": [
    {
     "data": {
      "text/plain": [
       "([('#cc33cc', 34),\n",
       "  ('#cc3399', 34),\n",
       "  ('#993333', 33),\n",
       "  ('#006666', 33),\n",
       "  ('#33cc00', 33),\n",
       "  ('#66cc00', 33),\n",
       "  ('#00ff00', 8),\n",
       "  ('#009966', 8)],\n",
       " 216)"
      ]
     },
     "execution_count": 48,
     "metadata": {},
     "output_type": "execute_result"
    }
   ],
   "source": [
    "from collections import Counter\n",
    "\n",
    "Counter(color_translation.values()).most_common(), sum(y for x, y in Counter(color_translation.values()).most_common())"
   ]
  },
  {
   "cell_type": "markdown",
   "id": "97cd9b2d",
   "metadata": {},
   "source": [
    "### Check all groups have only one label"
   ]
  },
  {
   "cell_type": "code",
   "execution_count": 49,
   "id": "a3e09a45",
   "metadata": {
    "scrolled": true
   },
   "outputs": [],
   "source": [
    "for g in color_groups:\n",
    "    assert len(set(color_translation[c] for c in g)) == 1"
   ]
  },
  {
   "cell_type": "markdown",
   "id": "7ca97ffb",
   "metadata": {},
   "source": [
    "### Check all colors have translation"
   ]
  },
  {
   "cell_type": "code",
   "execution_count": 50,
   "id": "5fa64d87",
   "metadata": {},
   "outputs": [],
   "source": [
    "def to_clean_int(input_str):\n",
    "    return int(''.join(filter(str.isdigit, input_str)))\n",
    "\n",
    "num_keys = len(set(color_translation.keys()))\n",
    "num_values = len(set(color_translation.values()))\n",
    "\n",
    "assert len(color_translation) == int(to_clean_int(n_colors))\n",
    "assert set(color_translation.keys()) == set(color_names)\n",
    "assert num_keys == int(to_clean_int(n_colors)), f\"{num_keys} colors instead of {n_colors}\"\n",
    "assert num_values == num_clusters, f\"{num_values} instead of {num_clusters} clusters\"\n",
    "\n",
    "for v in set(color_translation.values()):\n",
    "    assert v == color_translation[v]"
   ]
  },
  {
   "cell_type": "code",
   "execution_count": null,
   "id": "6c470638",
   "metadata": {},
   "outputs": [],
   "source": []
  },
  {
   "cell_type": "code",
   "execution_count": 51,
   "id": "c03852b8",
   "metadata": {
    "scrolled": true
   },
   "outputs": [
    {
     "name": "stdout",
     "output_type": "stream",
     "text": [
      "data/color_translation_random_216c_to_8.json\n"
     ]
    }
   ],
   "source": [
    "print(f'data/color_translation_random_{n_colors}_to_{num_clusters}.json')\n",
    "with open(f'data/color_translation_random_{n_colors}_to_{num_clusters}.json', 'w') as fp:\n",
    "    json.dump(color_translation, fp)"
   ]
  },
  {
   "cell_type": "code",
   "execution_count": null,
   "id": "7343c9cd",
   "metadata": {},
   "outputs": [],
   "source": []
  },
  {
   "cell_type": "code",
   "execution_count": 148,
   "id": "8bae7695",
   "metadata": {
    "scrolled": true
   },
   "outputs": [
    {
     "data": {
      "text/plain": [
       "(32, 64)"
      ]
     },
     "execution_count": 148,
     "metadata": {},
     "output_type": "execute_result"
    }
   ],
   "source": [
    "len(set(color_translation.values())), len(set(color_translation.keys()))"
   ]
  },
  {
   "cell_type": "code",
   "execution_count": null,
   "id": "11d5791f",
   "metadata": {},
   "outputs": [],
   "source": []
  },
  {
   "cell_type": "code",
   "execution_count": 150,
   "id": "eccf7c65",
   "metadata": {},
   "outputs": [
    {
     "name": "stdout",
     "output_type": "stream",
     "text": [
      "data/color_translation_random_216c_to_108.json\r\n",
      "data/color_translation_random_216c_to_27.json\r\n",
      "data/color_translation_random_216c_to_54.json\r\n",
      "data/color_translation_random_64c_to_16.json\r\n",
      "data/color_translation_random_64c_to_32.json\r\n",
      "data/color_translation_random_64c_to_8.json\r\n"
     ]
    }
   ],
   "source": [
    "!ls data/*c_to_*"
   ]
  },
  {
   "cell_type": "code",
   "execution_count": null,
   "id": "6351fef2",
   "metadata": {},
   "outputs": [],
   "source": []
  },
  {
   "cell_type": "code",
   "execution_count": null,
   "id": "3995e2be",
   "metadata": {},
   "outputs": [],
   "source": []
  },
  {
   "cell_type": "markdown",
   "id": "4e4f0e55",
   "metadata": {},
   "source": [
    "### Get vocabulary sizes"
   ]
  },
  {
   "cell_type": "code",
   "execution_count": 2,
   "id": "44c72648",
   "metadata": {},
   "outputs": [],
   "source": [
    "from config import load_config\n",
    "from data import build_datasets, CollatorForMaskedLanguageModeling, CollatorForMaskedSelectedTokens, CollatorForMaskedRandomSelectedTokens, IdentityCollator"
   ]
  },
  {
   "cell_type": "code",
   "execution_count": 5,
   "id": "4b76bf3a",
   "metadata": {},
   "outputs": [],
   "source": [
    "n_colors = '216c'\n",
    "n_clusters = 27\n",
    "\n",
    "config = load_config()\n",
    "config.multimodal_pretraining = True\n",
    "config.token_translation_path = f\"data/color_translation_random_{n_colors}_to_{n_clusters}.json\"\n",
    "config.base_path = f'/workspace1/fidelrio/CLEVR_CoGenT_v1.0/colored-v2/{n_colors}'\n",
    "config.vocabulary_path = f'/workspace1/fidelrio/CLEVR_CoGenT_v1.0/colored-v2/{n_colors}/vocab.txt'"
   ]
  },
  {
   "cell_type": "code",
   "execution_count": 6,
   "id": "4ee8cc5f",
   "metadata": {},
   "outputs": [
    {
     "name": "stdout",
     "output_type": "stream",
     "text": [
      "Adapting vocab from 304 to 115\n"
     ]
    }
   ],
   "source": [
    "train_dataset, test_dataset, systematic_dataset, common_systematic_dataset = build_datasets(config)\n",
    "config.pad_idx = train_dataset.pad_idx"
   ]
  },
  {
   "cell_type": "code",
   "execution_count": 7,
   "id": "34802a78",
   "metadata": {},
   "outputs": [
    {
     "data": {
      "text/plain": [
       "115"
      ]
     },
     "execution_count": 7,
     "metadata": {},
     "output_type": "execute_result"
    }
   ],
   "source": [
    "len(train_dataset.processor.vocabulary)"
   ]
  },
  {
   "cell_type": "code",
   "execution_count": null,
   "id": "66f9880e",
   "metadata": {},
   "outputs": [],
   "source": []
  },
  {
   "cell_type": "code",
   "execution_count": null,
   "id": "08e9d28e",
   "metadata": {},
   "outputs": [],
   "source": []
  }
 ],
 "metadata": {
  "kernelspec": {
   "display_name": "Python 3",
   "language": "python",
   "name": "python3"
  },
  "language_info": {
   "codemirror_mode": {
    "name": "ipython",
    "version": 3
   },
   "file_extension": ".py",
   "mimetype": "text/x-python",
   "name": "python",
   "nbconvert_exporter": "python",
   "pygments_lexer": "ipython3",
   "version": "3.7.5"
  }
 },
 "nbformat": 4,
 "nbformat_minor": 5
}

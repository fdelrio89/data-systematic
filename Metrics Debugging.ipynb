{
 "cells": [
  {
   "cell_type": "code",
   "execution_count": 1,
   "id": "eb797937",
   "metadata": {},
   "outputs": [],
   "source": [
    "# add command for jupyter to reload modules automatically\n",
    "%load_ext autoreload\n",
    "%autoreload 2"
   ]
  },
  {
   "cell_type": "code",
   "execution_count": 34,
   "id": "bc18d515",
   "metadata": {},
   "outputs": [],
   "source": [
    "import json\n",
    "from pathlib import Path\n",
    "import random\n",
    "import pprint\n",
    "\n",
    "import matplotlib\n",
    "import matplotlib.pyplot as plt\n",
    "\n",
    "import os\n",
    "\n",
    "import torch\n",
    "\n",
    "from config import load_config\n",
    "from data import CLEVRSplit, CLEVRMultimodalSplit, CLEVRTextSplit, Scene, CollatorForMaskedLanguageModeling\n",
    "from model import MultimodalModel, MultimodalPretrainingModel\n",
    "from lightning import Trainer, seed_everything\n",
    "from tqdm.auto import tqdm, trange\n",
    "\n",
    "from PIL import Image\n",
    "\n",
    "from torch.utils.data import DataLoader, Subset\n",
    "import torch.nn.functional as F\n",
    "from torch.nn.functional import softmax\n",
    "\n",
    "\n",
    "pp = pprint.PrettyPrinter(indent=2)"
   ]
  },
  {
   "cell_type": "code",
   "execution_count": null,
   "id": "4b0608ef",
   "metadata": {},
   "outputs": [],
   "source": []
  },
  {
   "cell_type": "code",
   "execution_count": 3,
   "id": "69e32ba1",
   "metadata": {},
   "outputs": [],
   "source": [
    "from torch.utils.data import default_collate\n",
    "\n",
    "class CollatorForMaskedSelectedTokens:\n",
    "    def __init__(self, config, processor, tokens):\n",
    "        self.config = config\n",
    "        self.token_to_mask_idxs = torch.tensor(tokens)\n",
    "        self.special_token_idxs = torch.tensor(processor.special_token_idxs)\n",
    "        self.mask_token_idx = processor.mask_token_idx\n",
    "        self.image_patch_sizes = config.patch_height, config.patch_width\n",
    "\n",
    "    def __call__(self, batch):\n",
    "        images, scenes = default_collate(batch)\n",
    "        scenes, scenes_labels = self.build_targets(scenes)\n",
    "        images_labels = self.build_null_image_targets(images)\n",
    "        labels = torch.cat((images_labels, scenes_labels), dim=1)\n",
    "        return images, scenes, labels\n",
    "\n",
    "    def build_null_image_targets(self, images):\n",
    "        b, c, h, w = images.shape\n",
    "        n_patches = config.n_patches\n",
    "        return torch.full((b, n_patches), -100)\n",
    "\n",
    "    def build_targets(self, inputs):\n",
    "        labels = inputs.clone()\n",
    "        masked_indices = torch.isin(labels, self.token_to_mask_idxs)\n",
    "        labels[~masked_indices] = -100\n",
    "        inputs[masked_indices] = self.mask_token_idx\n",
    "        \n",
    "        return inputs, labels\n",
    "\n",
    "    \n",
    "class CollatorForMaskedRandomSelectedTokens:\n",
    "    def __init__(self, config, processor, tokens, p):\n",
    "        self.config = config\n",
    "        self.token_to_mask_idxs = torch.tensor(tokens)\n",
    "        self.special_token_idxs = torch.tensor(processor.special_token_idxs)\n",
    "        self.mask_token_idx = processor.mask_token_idx\n",
    "        self.image_patch_sizes = config.patch_height, config.patch_width\n",
    "        self.p = p\n",
    "\n",
    "    def __call__(self, batch):\n",
    "        images, scenes = default_collate(batch)\n",
    "        scenes, scenes_labels = self.build_targets(scenes)\n",
    "        images_labels = self.build_null_image_targets(images)\n",
    "        labels = torch.cat((images_labels, scenes_labels), dim=1)\n",
    "        return images, scenes, labels\n",
    "\n",
    "    def build_null_image_targets(self, images):\n",
    "        b, c, h, w = images.shape\n",
    "        n_patches = config.n_patches\n",
    "        return torch.full((b, n_patches), -100)\n",
    "\n",
    "    def build_targets(self, inputs):\n",
    "        labels = inputs.clone()\n",
    "        masked_indices = torch.isin(labels, self.token_to_mask_idxs)\n",
    "        is_selected = torch.bernoulli(torch.full_like(labels, self.p, dtype=torch.float)).bool()\n",
    "        masked_indices = masked_indices & is_selected \n",
    "        labels[~masked_indices] = -100\n",
    "        inputs[masked_indices] = self.mask_token_idx\n",
    "        \n",
    "        return inputs, labels\n",
    "    \n",
    "\n",
    "class IdentityCollator:\n",
    "    def __init__(self, config, processor):\n",
    "        self.config = config\n",
    "        self.special_token_idxs = torch.tensor(processor.special_token_idxs)\n",
    "        self.image_patch_sizes = config.patch_height, config.patch_width\n",
    "\n",
    "    def __call__(self, batch):\n",
    "        images, scenes = default_collate(batch)\n",
    "        scenes, scenes_labels = self.build_targets(scenes)\n",
    "        images_labels = self.build_null_image_targets(images)\n",
    "        labels = torch.cat((images_labels, scenes_labels), dim=1)\n",
    "        return images, scenes, labels\n",
    "\n",
    "    def build_null_image_targets(self, images):\n",
    "        b, c, h, w = images.shape\n",
    "        n_patches = config.n_patches\n",
    "        return torch.full((b, n_patches), -100)\n",
    "\n",
    "    def build_targets(self, inputs):\n",
    "        labels = inputs.clone()\n",
    "        special_token_indices = torch.isin(labels, self.special_token_idxs)\n",
    "        labels[special_token_indices] = -100\n",
    "        \n",
    "        return inputs, labels"
   ]
  },
  {
   "cell_type": "code",
   "execution_count": 4,
   "id": "8b261406",
   "metadata": {},
   "outputs": [],
   "source": [
    "# from config import load_config\n",
    "    \n",
    "# config = load_config()\n",
    "# config.shuffle_object_identities = True\n",
    "# config.display_object_properties = False"
   ]
  },
  {
   "cell_type": "code",
   "execution_count": 5,
   "id": "401f1303",
   "metadata": {},
   "outputs": [],
   "source": [
    "# config_to_copy = {\n",
    "#     'base_path': '/workspace1/fidelrio/CLEVR_CoGenT_v1.0',\n",
    "#     'batch_size': 64,\n",
    "#     'd_hidden': 256,\n",
    "#     'display_object_properties': False,\n",
    "#     'filter_symmetric_relations': True,\n",
    "#     'lr': 0.01,\n",
    "#     'max_epochs': 200,\n",
    "#     'max_question_size': 45,\n",
    "#     'max_scene_size': 659,\n",
    "#     'n_head': 4,\n",
    "#     'n_layers': 4,\n",
    "#     'n_outputs': 28,\n",
    "#     'n_patches': 100,\n",
    "#     'n_tokens': 117,\n",
    "#     'only_front_right_relations': True,\n",
    "#     'pad_idx': 1,\n",
    "#     'patch_height': 32,\n",
    "#     'patch_width': 48,\n",
    "#     'rels_to_sample': 50,\n",
    "#     'resume_training': False,\n",
    "#     'use_txt_scene': True,\n",
    "#  }\n",
    "\n",
    "# for k, v in vars(config).items():\n",
    "#     if k in config_to_copy and config_to_copy[k] != v:\n",
    "#         print(k, v, config_to_copy[k])"
   ]
  },
  {
   "cell_type": "code",
   "execution_count": 6,
   "id": "07b47f2f",
   "metadata": {},
   "outputs": [],
   "source": [
    "def scene_tensor_to_txt(tensor):\n",
    "    return ' '.join([processor.inv_vocabulary[t] for t in tensor.tolist()])\n",
    "\n",
    "def print_scene_tensor(tensor):\n",
    "    scene_text = scene_tensor_to_txt(tensor)\n",
    "    print(scene_text.replace('[PAD]', '').replace('[SEP]','\\n     '))\n",
    "    \n",
    "def print_parallel(tensor0, tensor1, tensor2, confidences, titles):\n",
    "    ttl0, ttl1, ttl2 = titles\n",
    "    print(f'{ttl0:6.6s} {ttl1:6.6s} {ttl2:6.6s}')\n",
    "    for t0, t1, t2, conf in zip(\n",
    "            tensor0.tolist(), tensor1.tolist(), tensor2.tolist(), confidences.tolist()):\n",
    "        w0 = processor.inv_vocabulary[t0]\n",
    "        w1 = processor.inv_vocabulary[t1]\n",
    "        w2 = processor.inv_vocabulary[t2]\n",
    "        \n",
    "        if w0 == '[SEP]':\n",
    "            print()\n",
    "            continue\n",
    "        if w0 == '[PAD]':\n",
    "            break\n",
    "        \n",
    "        print_txt = f'{w0:6.6s} {w1:6.6s} {w2:6.6s} ({conf:.4f})'\n",
    "        if w0 != w2:\n",
    "            print_txt = bold(print_txt)\n",
    "            \n",
    "\n",
    "        print(print_txt)\n",
    "        \n",
    "def bold(text):\n",
    "    return (\"\\033[1m\" + text + \"\\033[0m\")"
   ]
  },
  {
   "cell_type": "code",
   "execution_count": 12,
   "id": "3a64e591",
   "metadata": {},
   "outputs": [
    {
     "name": "stdout",
     "output_type": "stream",
     "text": [
      "Epoch: 632\n"
     ]
    }
   ],
   "source": [
    "exp_name = 'multimodal-pretraining-v2--mlm_probability=0.15--rels_to_sample=5'\n",
    "# exp_name = 'multimodal-pretraining--mlm_probability=0.15--rels_to_sample=5--vit-frozen--long'\n",
    "# exp_name = 'multimodal-pretraining--mlm_probability=0.15--rels_to_sample=5--vit-frozen--aug_zero_indep=100'\n",
    "# exp_name = 'image-pretraining--mp_probability=0.75--rels_to_sample=5'\n",
    "\n",
    "resume_from_path = f'outputs/{exp_name}/last.ckpt'\n",
    "# resume_from_path = f'outputs/{exp_name}/last-v1.ckpt'\n",
    "# resume_from_path = f'outputs/{exp_name}/epoch=500-step=68637.ckpt'\n",
    "\n",
    "checkpoint = torch.load(resume_from_path)\n",
    "\n",
    "print('Epoch:', checkpoint['epoch'])"
   ]
  },
  {
   "cell_type": "code",
   "execution_count": 35,
   "id": "205e47da",
   "metadata": {},
   "outputs": [],
   "source": [
    "# checkpoint"
   ]
  },
  {
   "cell_type": "code",
   "execution_count": 14,
   "id": "e92f3603",
   "metadata": {},
   "outputs": [
    {
     "name": "stdout",
     "output_type": "stream",
     "text": [
      "'epoch=109-step=15070.ckpt'  'epoch=39-step=5480.ckpt'\n",
      "'epoch=119-step=16440.ckpt'  'epoch=409-step=56170.ckpt'\n",
      "'epoch=129-step=17810.ckpt'  'epoch=419-step=57540.ckpt'\n",
      "'epoch=139-step=19180.ckpt'  'epoch=429-step=58910.ckpt'\n",
      "'epoch=149-step=20550.ckpt'  'epoch=439-step=60280.ckpt'\n",
      "'epoch=159-step=21920.ckpt'  'epoch=449-step=61650.ckpt'\n",
      "'epoch=169-step=23290.ckpt'  'epoch=459-step=63020.ckpt'\n",
      "'epoch=179-step=24660.ckpt'  'epoch=469-step=64390.ckpt'\n",
      "'epoch=189-step=26030.ckpt'  'epoch=479-step=65760.ckpt'\n",
      "'epoch=199-step=27400.ckpt'  'epoch=489-step=67130.ckpt'\n",
      "'epoch=19-step=2740.ckpt'    'epoch=499-step=68500.ckpt'\n",
      "'epoch=209-step=28770.ckpt'  'epoch=49-step=6850.ckpt'\n",
      "'epoch=219-step=30140.ckpt'  'epoch=509-step=69870.ckpt'\n",
      "'epoch=229-step=31510.ckpt'  'epoch=519-step=71240.ckpt'\n",
      "'epoch=239-step=32880.ckpt'  'epoch=529-step=72610.ckpt'\n",
      "'epoch=249-step=34250.ckpt'  'epoch=539-step=73980.ckpt'\n",
      "'epoch=259-step=35620.ckpt'  'epoch=549-step=75350.ckpt'\n",
      "'epoch=269-step=36990.ckpt'  'epoch=559-step=76720.ckpt'\n",
      "'epoch=279-step=38360.ckpt'  'epoch=569-step=78090.ckpt'\n",
      "'epoch=289-step=39730.ckpt'  'epoch=579-step=79460.ckpt'\n",
      "'epoch=299-step=41100.ckpt'  'epoch=589-step=80830.ckpt'\n",
      "'epoch=29-step=4110.ckpt'    'epoch=599-step=82200.ckpt'\n",
      "'epoch=309-step=42470.ckpt'  'epoch=59-step=8220.ckpt'\n",
      "'epoch=319-step=43840.ckpt'  'epoch=609-step=83570.ckpt'\n",
      "'epoch=329-step=45210.ckpt'  'epoch=619-step=84940.ckpt'\n",
      "'epoch=339-step=46580.ckpt'  'epoch=629-step=86310.ckpt'\n",
      "'epoch=349-step=47950.ckpt'  'epoch=69-step=9590.ckpt'\n",
      "'epoch=359-step=49320.ckpt'  'epoch=79-step=10960.ckpt'\n",
      "'epoch=369-step=50690.ckpt'  'epoch=89-step=12330.ckpt'\n",
      "'epoch=379-step=52060.ckpt'  'epoch=99-step=13700.ckpt'\n",
      "'epoch=389-step=53430.ckpt'  'epoch=9-step=1370.ckpt'\n",
      "'epoch=399-step=54800.ckpt'   last.ckpt\n",
      " default\n",
      "'default-lr=1e-4--d_hidden=1024'\n",
      "'default-lr=1e-4--d_hidden=256'\n",
      "'default-lr=1e-4--d_hidden=512'\n",
      "'default-lr=1e-4--d_hidden=64'\n",
      "'default-lr=1e-4--n_layers=8'\n",
      "'default-lr=1e-4--n_layers=8--d_hidden=256'\n",
      "'default-lr=1e-4--n_layers=8--d_hidden=256--w-pad'\n",
      "'default-lr=1e-5'\n",
      "'default-txt-scene--d_hidden=1024--bsz=64'\n",
      "'default-txt-scene--d_hidden=256'\n",
      "'default-txt-scene--d_hidden=256--bsz=64'\n",
      "'default-txt-scene--d_hidden=256--bsz=64--unbounded-rels'\n",
      "'default-txt-scene--d_hidden=256--n_layers=8--bsz=64--unbounded-rels'\n",
      "'default-txt-scene--d_hidden=256-real'\n",
      "'default-txt-scene--d_hidden=512--bsz=64'\n",
      "'default-txt-scene--d_hidden=512--bsz=64--unbounded-rels'\n",
      "'default-txt-scene--d_hidden=512--n_head=8--bsz=64'\n",
      "'default-txt-scene--d_hidden=512--n_layers=8--bsz=64'\n",
      " default-txt-scene--more-rel-types\n",
      "'default-txt-scene--more-rel-types--d_hidden=512'\n",
      " default-txt-scene--more-rel-types--obj-desc\n",
      " default-txt-scene--obj-desc\n",
      "'default-txt-scene--obj-desc--aug_zero=10'\n",
      "'default-txt-scene--obj-desc--d_hidden=128'\n",
      "'default-txt-scene--obj-desc--d_hidden=512'\n",
      "'default-txt-scene--obj-desc--d_hidden=64'\n",
      " default-txt-scene--obj-desc-rerun\n",
      " default-txt-scene--obj-desc-rerun-scene_to_text\n",
      " default-txt-scene--obj-desc--shuffle-object-ids\n",
      "'default-txt-scene--obj-desc--shuffle-object-ids--aug_zero=10'\n",
      "'default-txt-scene--obj-desc--shuffle-object-ids--aug_zero=100'\n",
      "'finetune--mlm_probability=0.15--rels_to_sample=10'\n",
      "'finetune--mlm_probability=0.15--rels_to_sample=20'\n",
      "'finetune--mlm_probability=0.15--rels_to_sample=5'\n",
      "'finetune-multimodal-pretraining--mlm_probability=0.15'\n",
      "'finetune-multimodal-pretraining--mlm_probability=0.3'\n",
      "'image-pretraining--mp_probability=0.75--no-scene-v2'\n",
      "'image-pretraining--mp_probability=0.75--rels_to_sample=5'\n",
      "'image-pretraining--mp_probability=0.75--rels_to_sample=5-v2'\n",
      "'multimodal-pretraining--mlm_probability=0.05--rels_to_sample=10'\n",
      "'multimodal-pretraining--mlm_probability=0.05--rels_to_sample=20'\n",
      "'multimodal-pretraining--mlm_probability=0.05--rels_to_sample=5'\n",
      "'multimodal-pretraining--mlm_probability=0.15'\n",
      "'multimodal-pretraining--mlm_probability=0.15--rels_to_sample=0--shuffled-objects'\n",
      "'multimodal-pretraining--mlm_probability=0.15--rels_to_sample=10'\n",
      "'multimodal-pretraining--mlm_probability=0.15--rels_to_sample=20'\n",
      "'multimodal-pretraining--mlm_probability=0.15--rels_to_sample=5'\n",
      "'multimodal-pretraining--mlm_probability=0.15--rels_to_sample=5--aug-zero=100--shuffled-objects'\n",
      "'multimodal-pretraining--mlm_probability=0.15--rels_to_sample=5--aug-zero=10--shuffled-objects'\n",
      "'multimodal-pretraining--mlm_probability=0.15--rels_to_sample=5--d_hidden=128--n_layers=8'\n",
      "'multimodal-pretraining--mlm_probability=0.15--rels_to_sample=5-shuffled-objects'\n",
      "'multimodal-pretraining--mlm_probability=0.15--rels_to_sample=5--vit'\n",
      "'multimodal-pretraining--mlm_probability=0.15--rels_to_sample=5--vit-frozen--aug_zero_indep=10'\n",
      "'multimodal-pretraining--mlm_probability=0.15--rels_to_sample=5--vit-frozen--aug_zero_indep=100'\n",
      "'multimodal-pretraining--mlm_probability=0.15--rels_to_sample=5--vit-frozen--long'\n",
      "'multimodal-pretraining--mlm_probability=0.3'\n",
      "'multimodal-pretraining--mlm_probability=0.30--rels_to_sample=0--shuffled-objects'\n",
      "'multimodal-pretraining--mlm_probability=0.30--rels_to_sample=5-shuffled-objects'\n",
      "'multimodal-pretraining-v2--mlm_probability=0.15--rels_to_sample=5'\n",
      "'multimodal-pretraining-v2--mlm_probability=--rels_to_sample=5'\n",
      "'multimodal-pretraining-v2--n_colors=139--mlm_probability=0.15--rels_to_sample=5'\n",
      "'multimodal--rels_to_sample=50--display_object_properties--not_only_front_right_relations'\n",
      "'profiling--d_hidden=128--batch_size=32'\n",
      "'profiling--d_hidden=128--batch_size=64'\n",
      "'profiling--d_hidden=256--batch_size=32'\n",
      "'profiling--d_hidden=256--batch_size=64'\n",
      " test\n"
     ]
    }
   ],
   "source": [
    "!ls outputs/$exp_name\n",
    "!ls outputs/"
   ]
  },
  {
   "cell_type": "code",
   "execution_count": 15,
   "id": "9d1336bf",
   "metadata": {},
   "outputs": [
    {
     "name": "stdout",
     "output_type": "stream",
     "text": [
      "Loading multimodal-pretraining-v2--mlm_probability=0.15--rels_to_sample=5 last checkpoint config from outputs/multimodal-pretraining-v2--mlm_probability=0.15--rels_to_sample=5/last.ckpt\n",
      "Updating arg: patch_height = 16\n",
      "Updating arg: patch_width = 16\n"
     ]
    }
   ],
   "source": [
    "config = load_config(exp_name)"
   ]
  },
  {
   "cell_type": "code",
   "execution_count": 16,
   "id": "671ee85c",
   "metadata": {},
   "outputs": [
    {
     "name": "stdout",
     "output_type": "stream",
     "text": [
      "{ 'aug_zero': 0,\n",
      "  'aug_zero_independent': False,\n",
      "  'base_path': '/workspace1/fidelrio/CLEVR_CoGenT_v1.0',\n",
      "  'batch_size': 256,\n",
      "  'comet_experiment_key': 'bc8e085f15644ea4bedaab9bd1dd19d5',\n",
      "  'd_hidden': 256,\n",
      "  'display_object_properties': False,\n",
      "  'filter_symmetric_relations': True,\n",
      "  'freeze_vit_embedding': False,\n",
      "  'image_pretraining': False,\n",
      "  'lr': 0.0001,\n",
      "  'max_epochs': 1000,\n",
      "  'max_question_size': 45,\n",
      "  'max_scene_size': 80,\n",
      "  'mlm_probability': 0.15,\n",
      "  'mp_probability': 0.75,\n",
      "  'multimodal_pretraining': True,\n",
      "  'multimodal_training': False,\n",
      "  'n_head': 4,\n",
      "  'n_layers': 4,\n",
      "  'n_outputs': 28,\n",
      "  'n_patches': 196,\n",
      "  'n_tokens': 96,\n",
      "  'not_normalize_image': False,\n",
      "  'only_front_right_relations': False,\n",
      "  'optimizer': 'adam',\n",
      "  'pad_idx': 1,\n",
      "  'patch_height': 16,\n",
      "  'patch_width': 16,\n",
      "  'profile': False,\n",
      "  'rels_to_sample': 5,\n",
      "  'resume_training': False,\n",
      "  'seed': 42,\n",
      "  'shuffle_object_identities': True,\n",
      "  'start_from': '',\n",
      "  'use_txt_scene': False,\n",
      "  'use_vit_embedding': False,\n",
      "  'vocabulary_path': '/workspace1/fidelrio/CLEVR_CoGenT_v1.0/vocab.txt',\n",
      "  'wandb_experiment_id': 'hhknmodo',\n",
      "  'weight_decay': False}\n"
     ]
    }
   ],
   "source": [
    "pp.pprint(vars(config))"
   ]
  },
  {
   "cell_type": "code",
   "execution_count": 17,
   "id": "c5a24a58",
   "metadata": {},
   "outputs": [],
   "source": [
    "config.vocabulary_path =  '/workspace1/fidelrio/CLEVR_CoGenT_v1.0/vocab.txt'\n",
    "config.base_path = '/workspace1/fidelrio/CLEVR_CoGenT_v1.0'"
   ]
  },
  {
   "cell_type": "code",
   "execution_count": 18,
   "id": "e653b46b",
   "metadata": {},
   "outputs": [],
   "source": [
    "train_dataset, test_dataset, systematic_dataset = CLEVRMultimodalSplit.build_splits(\n",
    "    config\n",
    ")"
   ]
  },
  {
   "cell_type": "code",
   "execution_count": 19,
   "id": "06c8fe3b",
   "metadata": {},
   "outputs": [
    {
     "name": "stderr",
     "output_type": "stream",
     "text": [
      "/home/fidelrio/.pyenv/versions/systematicity/lib/python3.7/site-packages/lightning/pytorch/utilities/parsing.py:270: UserWarning: Attribute 'model' is an instance of `nn.Module` and is already saved during checkpointing. It is recommended to ignore them using `self.save_hyperparameters(ignore=['model'])`.\n",
      "  f\"Attribute {k!r} is an instance of `nn.Module` and is already saved during checkpointing.\"\n"
     ]
    },
    {
     "data": {
      "text/plain": [
       "<All keys matched successfully>"
      ]
     },
     "execution_count": 19,
     "metadata": {},
     "output_type": "execute_result"
    }
   ],
   "source": [
    "model = MultimodalModel(config)\n",
    "training_model = MultimodalPretrainingModel(model, config)\n",
    "training_model.load_state_dict(checkpoint['state_dict'])"
   ]
  },
  {
   "cell_type": "code",
   "execution_count": null,
   "id": "f3ba4dfc",
   "metadata": {},
   "outputs": [],
   "source": []
  },
  {
   "cell_type": "code",
   "execution_count": 20,
   "id": "a26f537b",
   "metadata": {},
   "outputs": [],
   "source": [
    "processor = test_dataset.processor"
   ]
  },
  {
   "cell_type": "code",
   "execution_count": 21,
   "id": "aa7f06bf",
   "metadata": {},
   "outputs": [],
   "source": [
    "relation_tokens = sorted([processor.vocabulary[w] for w in ['left', 'right', 'behind', 'front']])\n",
    "color_tokens = sorted([processor.vocabulary[w] for w in \n",
    "                       ['blue', 'brown', 'cyan', 'green', 'red', 'purple', 'yellow', 'gray']])\n",
    "shapes_tokens = sorted([processor.vocabulary[w] for w in ['cylinder', 'sphere', 'cube']])\n",
    "materials_tokens = sorted([processor.vocabulary[w] for w in ['metal', 'rubber']])\n",
    "size_tokens = sorted([processor.vocabulary[w] for w in ['small', 'large']])"
   ]
  },
  {
   "cell_type": "code",
   "execution_count": 22,
   "id": "ca8e55ee",
   "metadata": {},
   "outputs": [
    {
     "data": {
      "text/plain": [
       "[26, 45, 57, 75]"
      ]
     },
     "execution_count": 22,
     "metadata": {},
     "output_type": "execute_result"
    }
   ],
   "source": [
    "relation_tokens"
   ]
  },
  {
   "cell_type": "code",
   "execution_count": 23,
   "id": "884e2101",
   "metadata": {},
   "outputs": [],
   "source": [
    "collator = CollatorForMaskedLanguageModeling(config, processor)\n",
    "# collator = CollatorForMaskedSelectedTokens(config, processor, tokens=materials_tokens)\n",
    "# collator = CollatorForMaskedRandomSelectedTokens(config, processor, tokens=relation_tokens, p=0.2)\n",
    "# collator = IdentityCollator(config, processor)"
   ]
  },
  {
   "cell_type": "code",
   "execution_count": 24,
   "id": "ddee22b9",
   "metadata": {},
   "outputs": [
    {
     "name": "stdout",
     "output_type": "stream",
     "text": [
      "333\n"
     ]
    }
   ],
   "source": [
    "sample_idx = 333\n",
    "# sample_idx = random.randint(0, len(test_dataset))\n",
    "image, scene = test_dataset.retrieve_raw(sample_idx)\n",
    "image_tensor, scene_tensor = test_dataset[sample_idx]\n",
    "\n",
    "collated_images, collated_scenes, collated_labels = collator([(image_tensor, scene_tensor)])\n",
    "\n",
    "\n",
    "# image_tensor0, scene_tensor0 = test_dataset[sample_idx]\n",
    "# image_tensor1, scene_tensor1 = test_dataset[sample_idx+1]\n",
    "\n",
    "# collated_images, collated_scenes, collated_labels = collator([\n",
    "#     (image_tensor0, scene_tensor0), (image_tensor1, scene_tensor1)])\n",
    "\n",
    "print(sample_idx)"
   ]
  },
  {
   "cell_type": "code",
   "execution_count": 25,
   "id": "6d2f3561",
   "metadata": {
    "scrolled": false
   },
   "outputs": [
    {
     "name": "stdout",
     "output_type": "stream",
     "text": [
      "[CLS] [O0] small gray metal sphere \n",
      "      [O5] large blue rubber cube \n",
      "      [O2] large yellow metal cube \n",
      "      [O3] small cyan metal cylinder \n",
      "      [O6] small green rubber sphere \n",
      "      [O1] small brown rubber cube \n",
      "      [O4] small purple metal cylinder \n",
      "      [O4] right [O5] \n",
      "      [O0] behind [O1] \n",
      "      [O3] behind [O5] \n",
      "      [O1] right [O0] \n",
      "      [O1] behind [O6]                  \n",
      "\n",
      "[CLS] [MASK] [MASK] gray metal sphere \n",
      "      [O5] large blue rubber cube \n",
      "      [MASK] large yellow metal cube \n",
      "      [MASK] small cyan [MASK] cylinder \n",
      "      [O6] small green [MASK] sphere \n",
      "      [O1] small brown [MASK] cube \n",
      "      [O4] small purple metal cylinder \n",
      "      [O4] right [O5] \n",
      "      [O0] behind [O1] \n",
      "      [O3] behind [O5] \n",
      "      [O1] right [MASK] \n",
      "      [MASK] behind [O6]                  \n"
     ]
    },
    {
     "data": {
      "image/png": "[encoded data removed]",
      "text/plain": [
       "<PIL.Image.Image image mode=RGB size=480x320 at 0x7F3199A00E10>"
      ]
     },
     "execution_count": 25,
     "metadata": {},
     "output_type": "execute_result"
    }
   ],
   "source": [
    "print_scene_tensor(scene_tensor)\n",
    "print()\n",
    "print_scene_tensor(collated_scenes[0])\n",
    "\n",
    "image"
   ]
  },
  {
   "cell_type": "code",
   "execution_count": 26,
   "id": "0cc27064",
   "metadata": {},
   "outputs": [],
   "source": [
    "output_logits = model(collated_images, collated_scenes)\n",
    "\n",
    "# output_logits.reshape(1,277,101,98).sum(-2)\n",
    "\n",
    "confidences = softmax(output_logits, dim=-1).max(dim=-1).values\n",
    "predictions = output_logits.argmax(dim=-1)"
   ]
  },
  {
   "cell_type": "code",
   "execution_count": 27,
   "id": "c8589538",
   "metadata": {},
   "outputs": [
    {
     "data": {
      "text/plain": [
       "(torch.Size([1, 276, 96]), torch.Size([1, 276]))"
      ]
     },
     "execution_count": 27,
     "metadata": {},
     "output_type": "execute_result"
    }
   ],
   "source": [
    "output_logits.shape, collated_labels.shape"
   ]
  },
  {
   "cell_type": "code",
   "execution_count": 40,
   "id": "7d4caff1",
   "metadata": {},
   "outputs": [],
   "source": [
    "loss = F.cross_entropy(output_logits.transpose(1,2), collated_labels).item()\n",
    "acc = training_model.calc_accuracy(output_logits, collated_labels)\n",
    "mr, mrr = training_model.calc_rank(output_logits, collated_labels)\n",
    "gt_prob, rel_gt_prob = training_model.calc_prob_metrics(output_logits, collated_labels)\n",
    "acc_at_5 = training_model.calc_accuracy_at_perc(output_logits, collated_labels, percentage=0.05)\n",
    "acc_at_10 = training_model.calc_accuracy_at_perc(output_logits, collated_labels, percentage=0.1)"
   ]
  },
  {
   "cell_type": "code",
   "execution_count": 43,
   "id": "b36ae71c",
   "metadata": {},
   "outputs": [
    {
     "name": "stdout",
     "output_type": "stream",
     "text": [
      "loss:        0.6909\n",
      "acc:         0.5000\n",
      "mr:          1.9000\n",
      "mrr:         0.7033\n",
      "gt_prob:     0.6323\n",
      "rel_gt_prob: 0.9624\n",
      "acc_at_5:    0.9000\n",
      "acc_at_10:   1.0000\n"
     ]
    }
   ],
   "source": [
    "print(f'loss:        {loss:.4f}')\n",
    "print(f'acc:         {acc:.4f}')\n",
    "print(f'mr:          {mr:.4f}')\n",
    "print(f'mrr:         {mrr:.4f}')\n",
    "print(f'gt_prob:     {gt_prob:.4f}')\n",
    "print(f'rel_gt_prob: {rel_gt_prob:.4f}')\n",
    "print(f'acc_at_5:    {acc_at_5:.4f}')\n",
    "print(f'acc_at_10:   {acc_at_10:.4f}')"
   ]
  },
  {
   "cell_type": "code",
   "execution_count": 46,
   "id": "043aa97d",
   "metadata": {
    "scrolled": true
   },
   "outputs": [
    {
     "data": {
      "text/plain": [
       "0.501110711762161"
      ]
     },
     "execution_count": 46,
     "metadata": {},
     "output_type": "execute_result"
    }
   ],
   "source": [
    "import math\n",
    "math.exp(-loss)"
   ]
  },
  {
   "cell_type": "code",
   "execution_count": 59,
   "id": "5697cc8b",
   "metadata": {},
   "outputs": [],
   "source": [
    "masked = collated_labels != -100\n",
    "masked_labels = collated_labels[masked]\n",
    "\n",
    "non_reduced_loss = F.cross_entropy(output_logits.transpose(1,2), collated_labels, reduction='none')"
   ]
  },
  {
   "cell_type": "code",
   "execution_count": 55,
   "id": "1a4e78d4",
   "metadata": {},
   "outputs": [
    {
     "data": {
      "text/plain": [
       "tensor([ 4, 82, 76,  6,  7, 63, 76, 76,  4,  5])"
      ]
     },
     "execution_count": 55,
     "metadata": {},
     "output_type": "execute_result"
    }
   ],
   "source": [
    "masked_labels"
   ]
  },
  {
   "cell_type": "code",
   "execution_count": 68,
   "id": "876c6c19",
   "metadata": {},
   "outputs": [
    {
     "name": "stderr",
     "output_type": "stream",
     "text": [
      "/home/fidelrio/.pyenv/versions/systematicity/lib/python3.7/site-packages/ipykernel_launcher.py:1: UserWarning: Implicit dimension choice for softmax has been deprecated. Change the call to include dim=X as an argument.\n",
      "  \"\"\"Entry point for launching an IPython kernel.\n"
     ]
    },
    {
     "data": {
      "text/plain": [
       "tensor(0.6323, grad_fn=<MeanBackward0>)"
      ]
     },
     "execution_count": 68,
     "metadata": {},
     "output_type": "execute_result"
    }
   ],
   "source": [
    "softmax(output_logits[masked])[torch.arange(10),masked_labels].mean()"
   ]
  },
  {
   "cell_type": "code",
   "execution_count": 70,
   "id": "29624067",
   "metadata": {},
   "outputs": [
    {
     "data": {
      "text/plain": [
       "tensor(0.5011)"
      ]
     },
     "execution_count": 70,
     "metadata": {},
     "output_type": "execute_result"
    }
   ],
   "source": [
    "torch.exp(-non_reduced_loss[masked].mean().detach())"
   ]
  },
  {
   "cell_type": "code",
   "execution_count": null,
   "id": "67d26d32",
   "metadata": {},
   "outputs": [],
   "source": []
  },
  {
   "cell_type": "code",
   "execution_count": null,
   "id": "c037ebd5",
   "metadata": {},
   "outputs": [],
   "source": [
    "mask = collated_labels != -100\n",
    "torch.topk(softmax(output_logits[mask]), k=3).values.squeeze(), collated_labels[mask]"
   ]
  },
  {
   "cell_type": "code",
   "execution_count": null,
   "id": "5e4a91a0",
   "metadata": {},
   "outputs": [],
   "source": []
  },
  {
   "cell_type": "code",
   "execution_count": null,
   "id": "d1adf07f",
   "metadata": {},
   "outputs": [],
   "source": [
    "print_parallel(\n",
    "    scene_tensor,\n",
    "    collated_scenes[0],\n",
    "    predictions[0][-80:],\n",
    "    confidences[0][-80:],\n",
    "    titles=['gd_tth', 'input', 'output']\n",
    ")"
   ]
  },
  {
   "cell_type": "code",
   "execution_count": null,
   "id": "ebd8f0ac",
   "metadata": {},
   "outputs": [],
   "source": [
    "print_parallel(\n",
    "    scene_tensor,\n",
    "    collated_scenes[0],\n",
    "    predictions[0][-80:],\n",
    "    confidences[0][-80:],\n",
    "    titles=['gd_tth', 'input', 'output']\n",
    ")"
   ]
  },
  {
   "cell_type": "code",
   "execution_count": null,
   "id": "64345dd8",
   "metadata": {},
   "outputs": [],
   "source": [
    "output_logits.reshape(1,277,101,98).sum(-2).shape"
   ]
  },
  {
   "cell_type": "code",
   "execution_count": null,
   "id": "4620b328",
   "metadata": {},
   "outputs": [],
   "source": [
    "torch.arange(9898)[None,:].reshape(1,101,98)"
   ]
  },
  {
   "cell_type": "code",
   "execution_count": null,
   "id": "c0625a48",
   "metadata": {},
   "outputs": [],
   "source": [
    "config.n_tokens * (config.aug_zero + 1), config.aug_zero"
   ]
  },
  {
   "cell_type": "code",
   "execution_count": null,
   "id": "123a397b",
   "metadata": {},
   "outputs": [],
   "source": []
  },
  {
   "cell_type": "code",
   "execution_count": null,
   "id": "1632e2b3",
   "metadata": {},
   "outputs": [],
   "source": []
  },
  {
   "cell_type": "code",
   "execution_count": null,
   "id": "08be2d2f",
   "metadata": {},
   "outputs": [],
   "source": []
  },
  {
   "cell_type": "code",
   "execution_count": null,
   "id": "4f96f31f",
   "metadata": {},
   "outputs": [],
   "source": []
  },
  {
   "cell_type": "code",
   "execution_count": null,
   "id": "808e3f94",
   "metadata": {},
   "outputs": [],
   "source": [
    "assert False"
   ]
  },
  {
   "cell_type": "code",
   "execution_count": null,
   "id": "ca97753c",
   "metadata": {},
   "outputs": [],
   "source": [
    "trainer = Trainer(max_epochs=config.max_epochs,\n",
    "                  accelerator=\"gpu\",\n",
    "                  devices=torch.cuda.device_count(),\n",
    "#                   strategy='ddp_find_unused_parameters_false',\n",
    "#                   precision=\"16\",\n",
    "#                   deterministic=True,\n",
    "#                   logger=comet_logger,\n",
    "#                   callbacks=[checkpoint_callback]\n",
    ")"
   ]
  },
  {
   "cell_type": "code",
   "execution_count": null,
   "id": "d24c802b",
   "metadata": {},
   "outputs": [],
   "source": [
    "relation_tokens = sorted(\n",
    "    [processor.vocabulary[w] for w in ['left', 'right', 'behind', 'front']])\n",
    "color_tokens = sorted(\n",
    "    [processor.vocabulary[w] for w in ['blue', 'brown', 'cyan', 'green', 'red', 'purple', 'yellow', 'gray']])\n",
    "shapes_tokens = sorted(\n",
    "    [processor.vocabulary[w] for w in ['cylinder', 'sphere', 'cube']])\n",
    "materials_tokens = sorted(\n",
    "    [processor.vocabulary[w] for w in ['metal', 'rubber']])\n",
    "size_tokens = sorted(\n",
    "    [processor.vocabulary[w] for w in ['small', 'large']])\n",
    "\n",
    "random_baseline = {\n",
    "    'relation':  1 / len(relation_tokens),\n",
    "    'color':  1 / len(color_tokens),\n",
    "    'shapes':  1 / len(shapes_tokens),\n",
    "    'materials':  1 / len(materials_tokens),\n",
    "    'size':  1 / len(size_tokens),\n",
    "    'identity':  1 / len(processor.vocabulary),\n",
    "}"
   ]
  },
  {
   "cell_type": "code",
   "execution_count": null,
   "id": "8377cd4c",
   "metadata": {},
   "outputs": [],
   "source": [
    "config.batch_size"
   ]
  },
  {
   "cell_type": "code",
   "execution_count": null,
   "id": "56f065ac",
   "metadata": {},
   "outputs": [],
   "source": []
  },
  {
   "cell_type": "code",
   "execution_count": null,
   "id": "617f6b11",
   "metadata": {},
   "outputs": [],
   "source": [
    "from torch.utils.data import Subset\n",
    "import random"
   ]
  },
  {
   "cell_type": "code",
   "execution_count": null,
   "id": "dd1b03ea",
   "metadata": {},
   "outputs": [],
   "source": [
    "test_dataset_original = test_dataset\n",
    "systematic_dataset_original = systematic_dataset"
   ]
  },
  {
   "cell_type": "code",
   "execution_count": null,
   "id": "73416785",
   "metadata": {},
   "outputs": [],
   "source": [
    "test_indices = random.sample(range(len(test_dataset)), k=1500)\n",
    "test_dataset = Subset(test_dataset, test_indices)\n",
    "systematic_indices = random.sample(range(len(systematic_dataset)), k=1500)\n",
    "systematic_dataset = Subset(systematic_dataset, systematic_indices)"
   ]
  },
  {
   "cell_type": "code",
   "execution_count": null,
   "id": "5ff3a885",
   "metadata": {},
   "outputs": [],
   "source": []
  },
  {
   "cell_type": "code",
   "execution_count": null,
   "id": "c35be82f",
   "metadata": {
    "scrolled": true
   },
   "outputs": [],
   "source": [
    "%%time\n",
    "\n",
    "results = {}\n",
    "\n",
    "collate_fns = [\n",
    "    ('relation', CollatorForMaskedSelectedTokens(config, processor, tokens=relation_tokens)),\n",
    "    ('color', CollatorForMaskedSelectedTokens(config, processor, tokens=color_tokens)),\n",
    "    ('shapes', CollatorForMaskedSelectedTokens(config, processor, tokens=shapes_tokens)),\n",
    "    ('materials', CollatorForMaskedSelectedTokens(config, processor, tokens=materials_tokens)),\n",
    "    ('size', CollatorForMaskedSelectedTokens(config, processor, tokens=size_tokens)),\n",
    "    ('identity', IdentityCollator(config, processor)),\n",
    "]\n",
    "# collate_fns = [\n",
    "#     ('relation', CollatorForMaskedRandomSelectedTokens(config, processor, tokens=relation_tokens, p=0.2)),\n",
    "#     ('color', CollatorForMaskedRandomSelectedTokens(config, processor, tokens=color_tokens, p=0.2)),\n",
    "#     ('shapes', CollatorForMaskedRandomSelectedTokens(config, processor, tokens=shapes_tokens, p=0.2)),\n",
    "#     ('materials', CollatorForMaskedRandomSelectedTokens(config, processor, tokens=materials_tokens, p=0.2)),\n",
    "#     ('size', CollatorForMaskedRandomSelectedTokens(config, processor, tokens=size_tokens, p=0.2)),\n",
    "#     ('identity', IdentityCollator(config, processor)),\n",
    "# ]\n",
    "dlkwargs = {\n",
    "    'batch_size': 512,\n",
    "    'num_workers': int(os.environ.get(\"SLURM_JOB_CPUS_PER_TASK\", 8)),\n",
    "    'pin_memory': torch.cuda.is_available(),\n",
    "}\n",
    "\n",
    "for name, collate_fn in collate_fns:\n",
    "#     test_dataset_subset = Subset(test_dataset, range(500))\n",
    "#     systematic_dataset_subset = Subset(systematic_dataset, range(500))\n",
    "\n",
    "    # train_loader = DataLoader(train_dataset, shuffle=True, collate_fn, **dlkwargs)\n",
    "    test_loader = DataLoader(test_dataset, shuffle=False, collate_fn=collate_fn, **dlkwargs)\n",
    "    systematic_loader = DataLoader(systematic_dataset, shuffle=False, collate_fn=collate_fn, **dlkwargs)\n",
    "\n",
    "    results[name] = trainer.test(training_model, dataloaders=[test_loader, systematic_loader])"
   ]
  },
  {
   "cell_type": "code",
   "execution_count": null,
   "id": "ed1b6078",
   "metadata": {},
   "outputs": [],
   "source": [
    "categories = results.keys()\n",
    "values1 = [results[cat][0]['test_acc/dataloader_idx_0'] for cat in categories]\n",
    "values2 = [results[cat][1]['systematic_test_acc/dataloader_idx_1'] for cat in categories]\n",
    "valuesR = [random_baseline[cat] for cat in categories]\n",
    "\n",
    "# Define width of bars\n",
    "bar_width = 0.25\n",
    "\n",
    "# Create bars for each category\n",
    "plt.bar([x - bar_width for x in range(len(categories))], values1, width=bar_width, label='Test')\n",
    "plt.bar([x for x in range(len(categories))], values2, width=bar_width, label='Systematic')\n",
    "plt.bar([x + bar_width for x in range(len(categories))], valuesR, width=bar_width, label='Random')\n",
    "\n",
    "# Add labels and title\n",
    "plt.xlabel('Measure')\n",
    "plt.ylabel('Accuracy')\n",
    "plt.ylim(0., 1.)\n",
    "# plt.title('Bar Chart with Two Columns Per Category')\n",
    "plt.xticks(range(len(categories)), categories)\n",
    "plt.legend()\n",
    "\n",
    "# Show plot\n",
    "plt.show()"
   ]
  },
  {
   "cell_type": "code",
   "execution_count": null,
   "id": "73ad0ca7",
   "metadata": {},
   "outputs": [],
   "source": []
  },
  {
   "cell_type": "code",
   "execution_count": null,
   "id": "297a0324",
   "metadata": {},
   "outputs": [],
   "source": []
  },
  {
   "cell_type": "code",
   "execution_count": null,
   "id": "2630b490",
   "metadata": {},
   "outputs": [],
   "source": []
  },
  {
   "cell_type": "code",
   "execution_count": null,
   "id": "e20bf6c6",
   "metadata": {},
   "outputs": [],
   "source": []
  },
  {
   "cell_type": "code",
   "execution_count": null,
   "id": "24a8ab75",
   "metadata": {},
   "outputs": [],
   "source": []
  },
  {
   "cell_type": "code",
   "execution_count": null,
   "id": "13476262",
   "metadata": {},
   "outputs": [],
   "source": []
  },
  {
   "cell_type": "code",
   "execution_count": null,
   "id": "bae804f5",
   "metadata": {},
   "outputs": [],
   "source": []
  },
  {
   "cell_type": "code",
   "execution_count": null,
   "id": "b3627299",
   "metadata": {},
   "outputs": [],
   "source": [
    "assert False"
   ]
  },
  {
   "cell_type": "code",
   "execution_count": null,
   "id": "8441ae22",
   "metadata": {},
   "outputs": [],
   "source": [
    "idx = 30\n",
    "question = train_dataset.questions[idx]\n",
    "image_idx = question['image_index']\n",
    "scene = train_dataset.indexed_scenes[image_idx]\n",
    "\n",
    "question_str = question['question']\n",
    "answer_str = question['answer']"
   ]
  },
  {
   "cell_type": "code",
   "execution_count": null,
   "id": "859aa415",
   "metadata": {},
   "outputs": [],
   "source": [
    "config.rels_to_sample = 0\n",
    "config.only_front_right_relations = False\n",
    "config.filter_symmetric_relations = True\n",
    "config.display_object_properties = False\n",
    "\n",
    "s = Scene.from_dict(scene,\n",
    "                    shuffle_relations=True,\n",
    "                    relations_to_sample=config.rels_to_sample,\n",
    "                    only_front_right=config.only_front_right_relations,\n",
    "                    filter_symmetric=config.filter_symmetric_relations,\n",
    "                    always_display_properties=config.display_object_properties)"
   ]
  },
  {
   "cell_type": "code",
   "execution_count": null,
   "id": "7b4e1b61",
   "metadata": {},
   "outputs": [],
   "source": []
  },
  {
   "cell_type": "code",
   "execution_count": null,
   "id": "82c17801",
   "metadata": {},
   "outputs": [],
   "source": [
    "config.rels_to_sample, config.only_front_right_relations, config.filter_symmetric_relations, config.display_object_properties"
   ]
  },
  {
   "cell_type": "code",
   "execution_count": null,
   "id": "8146c164",
   "metadata": {},
   "outputs": [],
   "source": [
    "len(s.relations), list(enumerate(s.relations))"
   ]
  },
  {
   "cell_type": "code",
   "execution_count": null,
   "id": "98fbbe85",
   "metadata": {},
   "outputs": [],
   "source": [
    "s.objects"
   ]
  },
  {
   "cell_type": "code",
   "execution_count": null,
   "id": "5c78f77c",
   "metadata": {},
   "outputs": [],
   "source": [
    "str(s)"
   ]
  },
  {
   "cell_type": "code",
   "execution_count": null,
   "id": "b1b68555",
   "metadata": {},
   "outputs": [],
   "source": []
  },
  {
   "cell_type": "code",
   "execution_count": null,
   "id": "6cc6f426",
   "metadata": {},
   "outputs": [],
   "source": []
  },
  {
   "cell_type": "code",
   "execution_count": null,
   "id": "702ed7b0",
   "metadata": {},
   "outputs": [],
   "source": [
    "relations_to_sample = 20\n",
    "only_front_right_relations = False\n",
    "filter_symmetric_relations = True\n",
    "display_object_properties = False\n",
    "\n",
    "n_rels = []\n",
    "n_tokens = []\n",
    "for idx in range(len(train_dataset)):\n",
    "    question = train_dataset.questions[idx]\n",
    "\n",
    "    image_idx = question['image_index']\n",
    "    scene = train_dataset.indexed_scenes[image_idx]\n",
    "\n",
    "    question_str = question['question']\n",
    "    answer_str = question['answer']\n",
    "\n",
    "    s = Scene.from_dict(scene,\n",
    "                        shuffle_relations=True,\n",
    "                        relations_to_sample=relations_to_sample,\n",
    "                        only_front_right=only_front_right_relations,\n",
    "                        filter_symmetric=filter_symmetric_relations,\n",
    "                        always_display_properties=display_object_properties)\n",
    "    \n",
    "    n_rels.append(len(s.relations))\n",
    "    n_tokens.append(len(str(s).split()))"
   ]
  },
  {
   "cell_type": "code",
   "execution_count": null,
   "id": "6150a7dd",
   "metadata": {},
   "outputs": [],
   "source": [
    "print(min(n_rels), max(n_rels))\n",
    "print(min(n_tokens), max(n_tokens))"
   ]
  },
  {
   "cell_type": "code",
   "execution_count": null,
   "id": "da05b1c4",
   "metadata": {},
   "outputs": [],
   "source": [
    "plt.hist(n_rels, bins=10)\n",
    "plt.plot()"
   ]
  },
  {
   "cell_type": "code",
   "execution_count": null,
   "id": "3c47ea5b",
   "metadata": {},
   "outputs": [],
   "source": [
    "plt.hist(n_tokens, bins=10)\n",
    "plt.plot()"
   ]
  },
  {
   "cell_type": "code",
   "execution_count": null,
   "id": "fee4db64",
   "metadata": {},
   "outputs": [],
   "source": [
    "max(n_tokens)"
   ]
  },
  {
   "cell_type": "code",
   "execution_count": null,
   "id": "80e88e5d",
   "metadata": {},
   "outputs": [],
   "source": []
  },
  {
   "cell_type": "code",
   "execution_count": null,
   "id": "0216c902",
   "metadata": {},
   "outputs": [],
   "source": []
  },
  {
   "cell_type": "code",
   "execution_count": null,
   "id": "a0e7b808",
   "metadata": {},
   "outputs": [],
   "source": [
    "only_front_right_relations = False\n",
    "filter_symmetric_relations = True\n",
    "display_object_properties = False\n",
    "\n",
    "n_rels = []\n",
    "n_tokens = []\n",
    "for idx in range(len(train_dataset)):\n",
    "    question = train_dataset.questions[idx]\n",
    "\n",
    "    image_idx = question['image_index']\n",
    "    scene = train_dataset.indexed_scenes[image_idx]\n",
    "\n",
    "    question_str = question['question']\n",
    "    answer_str = question['answer']\n",
    "    \n",
    "    s = Scene.from_dict(scene,\n",
    "                        shuffle_relations=True,\n",
    "                        relations_to_sample=50,\n",
    "                        only_front_right=only_front_right_relations,\n",
    "                        filter_symmetric=filter_symmetric_relations,\n",
    "                        always_display_properties=display_object_properties)\n",
    "    \n",
    "    n_rels.append(len(s.relations))\n",
    "    n_tokens.append(len(str(s).split()))\n",
    "    "
   ]
  },
  {
   "cell_type": "code",
   "execution_count": null,
   "id": "092324ec",
   "metadata": {},
   "outputs": [],
   "source": [
    "print(min(n_rels), max(n_rels))\n",
    "print(min(n_tokens), max(n_tokens))"
   ]
  },
  {
   "cell_type": "code",
   "execution_count": null,
   "id": "bb872efc",
   "metadata": {},
   "outputs": [],
   "source": [
    "plt.hist(n_rels, bins=10)\n",
    "plt.plot()"
   ]
  },
  {
   "cell_type": "code",
   "execution_count": null,
   "id": "17502686",
   "metadata": {},
   "outputs": [],
   "source": [
    "plt.hist(n_tokens, bins=10)\n",
    "plt.plot()"
   ]
  },
  {
   "cell_type": "code",
   "execution_count": null,
   "id": "f8520f7b",
   "metadata": {},
   "outputs": [],
   "source": []
  },
  {
   "cell_type": "code",
   "execution_count": null,
   "id": "9cf923ae",
   "metadata": {},
   "outputs": [],
   "source": [
    "only_front_right_relations = False\n",
    "filter_symmetric_relations = True\n",
    "display_object_properties = True\n",
    "\n",
    "n_rels = []\n",
    "n_tokens = []\n",
    "for idx in range(len(train_dataset)):\n",
    "    question = train_dataset.questions[idx]\n",
    "\n",
    "    image_idx = question['image_index']\n",
    "    scene = train_dataset.indexed_scenes[image_idx]\n",
    "\n",
    "    question_str = question['question']\n",
    "    answer_str = question['answer']\n",
    "\n",
    "    s = Scene.from_dict(scene,\n",
    "                        shuffle_relations=True,\n",
    "                        relations_to_sample=50,\n",
    "                        only_front_right=only_front_right_relations,\n",
    "                        filter_symmetric=filter_symmetric_relations,\n",
    "                        always_display_properties=display_object_properties)\n",
    "    \n",
    "    n_rels.append(len(s.relations))\n",
    "    n_tokens.append(len(str(s).split()))\n",
    "    "
   ]
  },
  {
   "cell_type": "code",
   "execution_count": null,
   "id": "75b616d5",
   "metadata": {},
   "outputs": [],
   "source": [
    "print(min(n_rels), max(n_rels))\n",
    "print(min(n_tokens), max(n_tokens))"
   ]
  },
  {
   "cell_type": "code",
   "execution_count": null,
   "id": "92f7ecc3",
   "metadata": {},
   "outputs": [],
   "source": [
    "plt.hist(n_rels, bins=10)\n",
    "plt.plot()"
   ]
  },
  {
   "cell_type": "code",
   "execution_count": null,
   "id": "7f8d472d",
   "metadata": {},
   "outputs": [],
   "source": [
    "plt.hist(n_tokens, bins=10)\n",
    "plt.plot()"
   ]
  },
  {
   "cell_type": "code",
   "execution_count": null,
   "id": "559d9638",
   "metadata": {},
   "outputs": [],
   "source": []
  },
  {
   "cell_type": "code",
   "execution_count": null,
   "id": "384dd217",
   "metadata": {},
   "outputs": [],
   "source": []
  },
  {
   "cell_type": "code",
   "execution_count": null,
   "id": "0c4bdfe0",
   "metadata": {},
   "outputs": [],
   "source": []
  },
  {
   "cell_type": "code",
   "execution_count": null,
   "id": "2bc2f2dc",
   "metadata": {},
   "outputs": [],
   "source": []
  },
  {
   "cell_type": "code",
   "execution_count": null,
   "id": "1475e6e4",
   "metadata": {},
   "outputs": [],
   "source": []
  },
  {
   "cell_type": "code",
   "execution_count": null,
   "id": "489ca00e",
   "metadata": {},
   "outputs": [],
   "source": []
  },
  {
   "cell_type": "code",
   "execution_count": null,
   "id": "e7eafbdc",
   "metadata": {},
   "outputs": [],
   "source": [
    "dataset_path = Path('/mnt/ialabnas/datasets/CLEVR_CoGenT_v1.0')\n",
    "scenes_path = dataset_path / 'scenes/CLEVR_trainA_scenes.json'\n",
    "with scenes_path.open('r') as fp:\n",
    "    scenes = json.load(fp)\n",
    "    \n",
    "questions_path = dataset_path / 'questions/CLEVR_trainA_questions.json'\n",
    "with questions_path.open('r') as fp:\n",
    "    questions = json.load(fp)"
   ]
  },
  {
   "cell_type": "code",
   "execution_count": null,
   "id": "c4346263",
   "metadata": {},
   "outputs": [],
   "source": [
    "questions['questions'][3]"
   ]
  },
  {
   "cell_type": "code",
   "execution_count": null,
   "id": "45657d59",
   "metadata": {
    "scrolled": false
   },
   "outputs": [],
   "source": [
    "def n_relations(scene):\n",
    "    relations = ['behind', 'front']#, 'left', 'right']\n",
    "    count = 0\n",
    "    relationships = scene['relationships']\n",
    "    for r in relations:\n",
    "        count += sum(map(len, relationships[r]))\n",
    "    return count\n",
    "\n",
    "n_relations(scenes['scenes'][0])"
   ]
  },
  {
   "cell_type": "code",
   "execution_count": null,
   "id": "c149062a",
   "metadata": {},
   "outputs": [],
   "source": [
    "(scenes['scenes'][0])"
   ]
  },
  {
   "cell_type": "code",
   "execution_count": null,
   "id": "1ef143a2",
   "metadata": {},
   "outputs": [],
   "source": [
    "n_relations_per_example = list(map(n_relations, scenes['scenes']))\n",
    "plt.hist(n_relations_per_example)\n",
    "plt.plot()"
   ]
  },
  {
   "cell_type": "code",
   "execution_count": null,
   "id": "658ed4d0",
   "metadata": {},
   "outputs": [],
   "source": [
    "def n_objects(scene):\n",
    "    return len(scene['objects'])"
   ]
  },
  {
   "cell_type": "code",
   "execution_count": null,
   "id": "6413840d",
   "metadata": {},
   "outputs": [],
   "source": [
    "n_objects_per_example = list(map(n_objects, scenes['scenes']))\n",
    "plt.hist(n_objects_per_example, bins=max(n_objects_per_example)-3)\n",
    "plt.plot()"
   ]
  },
  {
   "cell_type": "code",
   "execution_count": null,
   "id": "ead396e0",
   "metadata": {},
   "outputs": [],
   "source": []
  },
  {
   "cell_type": "code",
   "execution_count": null,
   "id": "0b918555",
   "metadata": {},
   "outputs": [],
   "source": [
    "def object_to_text(obj, obj_idx):\n",
    "    properties = ['size', 'color', 'material', 'shape']\n",
    "    obj_str = [f'[O{obj_idx}]'] + [obj[prop] for prop in properties]\n",
    "    return ' '.join(obj_str)\n",
    "\n",
    "def relations_to_text(relations):\n",
    "#     relation_types = ['behind', 'front', 'left', 'right']\n",
    "    relation_types = ['front', 'right'] # symetric relations\n",
    "\n",
    "    relations_str = []\n",
    "    for relation_type in relation_types:\n",
    "        relation = relations[relation_type]\n",
    "        for obj, subjs in enumerate(relation):\n",
    "            relation_str = [f'[O{obj}] {relation_type} [O{subj}]' for subj in subjs]\n",
    "            relations_str.extend(relation_str)\n",
    "    \n",
    "    return relations_str\n",
    "\n",
    "def scene_to_txt(scene, rels_to_sample=None, shuffle=True):\n",
    "    objs_strs = []\n",
    "    for obj_idx, obj in enumerate(scene['objects']):\n",
    "        objs_strs.append(object_to_text(obj, obj_idx=obj_idx))\n",
    "    \n",
    "    relations_strs = relations_to_text(scene['relationships'])\n",
    "    if rels_to_sample and rels_to_sample < len(relations_strs):\n",
    "        relations_strs = random.sample(relations_strs, k)\n",
    "    if shuffle:\n",
    "        random.shuffle(relations_strs)\n",
    "\n",
    "    return ' [SEP] '.join(objs_strs + relations_strs)"
   ]
  },
  {
   "cell_type": "code",
   "execution_count": null,
   "id": "b3acc5b7",
   "metadata": {},
   "outputs": [],
   "source": [
    "from PIL import Image\n",
    "ip = '/mnt/ialabnas/datasets/CLEVR_CoGenT_v1.0/images/trainA/' + questions['questions'][8888]['image_filename']\n",
    "Image.open(ip)"
   ]
  },
  {
   "cell_type": "code",
   "execution_count": null,
   "id": "33315679",
   "metadata": {},
   "outputs": [],
   "source": [
    "object_to_text(scenes['scenes'][8888]['objects'][0], obj_idx=0)"
   ]
  },
  {
   "cell_type": "code",
   "execution_count": null,
   "id": "cae611da",
   "metadata": {},
   "outputs": [],
   "source": [
    "object_to_text(scenes['scenes'][8888]['objects'][1], obj_idx=1)"
   ]
  },
  {
   "cell_type": "code",
   "execution_count": null,
   "id": "645397ce",
   "metadata": {},
   "outputs": [],
   "source": [
    "relations_to_text(scenes['scenes'][8888]['relationships'])"
   ]
  },
  {
   "cell_type": "code",
   "execution_count": null,
   "id": "6b1f83d5",
   "metadata": {},
   "outputs": [],
   "source": [
    "scene_to_txt(scenes['scenes'][8888])"
   ]
  },
  {
   "cell_type": "code",
   "execution_count": null,
   "id": "87e241e2",
   "metadata": {},
   "outputs": [],
   "source": [
    "# scene_to_txt(scenes['scenes'][8888], rels_to_sample=5)"
   ]
  },
  {
   "cell_type": "code",
   "execution_count": null,
   "id": "917e20f4",
   "metadata": {},
   "outputs": [],
   "source": []
  },
  {
   "cell_type": "code",
   "execution_count": null,
   "id": "2c36bb25",
   "metadata": {},
   "outputs": [],
   "source": [
    "to_str = lambda s: str(Scene.from_dict(s, \n",
    "                                        relations_to_sample=config.rels_to_sample,\n",
    "                                        only_front_right=config.only_front_right_relations,\n",
    "                                        filter_symmetric=config.filter_symmetric_relations,\n",
    "                                        always_display_properties=config.display_object_properties))\n",
    "\n",
    "str_len_per_example = list(map(len, map(str.split, map(to_str, scenes['scenes']))))\n",
    "plt.hist(str_len_per_example)\n",
    "plt.plot()"
   ]
  },
  {
   "cell_type": "code",
   "execution_count": null,
   "id": "dd81824d",
   "metadata": {},
   "outputs": [],
   "source": [
    "str_fnc = lambda s: str(Scene.from_dict(s, relations_to_sample=50,\n",
    "                                        only_front_right=config.only_front_right_relations,\n",
    "                                        filter_symmetric=config.filter_symmetric_relations,\n",
    "                                        always_display_properties=config.display_object_properties))\n",
    "\n",
    "str_len_per_example = list(map(len, map(str.split, map(str_fnc, scenes['scenes']))))\n",
    "plt.hist(str_len_per_example)\n",
    "plt.plot()"
   ]
  },
  {
   "cell_type": "code",
   "execution_count": null,
   "id": "d2e96374",
   "metadata": {},
   "outputs": [],
   "source": []
  },
  {
   "cell_type": "code",
   "execution_count": null,
   "id": "f888d4c4",
   "metadata": {},
   "outputs": [],
   "source": [
    "vocabulary = set()\n",
    "for scene in scenes['scenes']:\n",
    "    scene_text = scene_to_txt(scene)\n",
    "    vocabulary.update(scene_text.split())\n",
    "\n",
    "vocabulary = ['[CLS]', '[PAD]'] + list(sorted(vocabulary))"
   ]
  },
  {
   "cell_type": "code",
   "execution_count": null,
   "id": "07bf1900",
   "metadata": {},
   "outputs": [],
   "source": [
    "len(vocabulary), vocabulary"
   ]
  },
  {
   "cell_type": "code",
   "execution_count": null,
   "id": "02f493b3",
   "metadata": {},
   "outputs": [],
   "source": []
  },
  {
   "cell_type": "code",
   "execution_count": null,
   "id": "68b352b3",
   "metadata": {},
   "outputs": [],
   "source": []
  },
  {
   "cell_type": "code",
   "execution_count": null,
   "id": "693dc9b0",
   "metadata": {},
   "outputs": [],
   "source": []
  },
  {
   "cell_type": "code",
   "execution_count": null,
   "id": "37e5c00c",
   "metadata": {},
   "outputs": [],
   "source": []
  }
 ],
 "metadata": {
  "kernelspec": {
   "display_name": "Python 3 (ipykernel)",
   "language": "python",
   "name": "python3"
  },
  "language_info": {
   "codemirror_mode": {
    "name": "ipython",
    "version": 3
   },
   "file_extension": ".py",
   "mimetype": "text/x-python",
   "name": "python",
   "nbconvert_exporter": "python",
   "pygments_lexer": "ipython3",
   "version": "3.7.5"
  }
 },
 "nbformat": 4,
 "nbformat_minor": 5
}

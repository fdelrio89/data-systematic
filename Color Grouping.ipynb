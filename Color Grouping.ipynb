{
 "cells": [
  {
   "cell_type": "code",
   "execution_count": 1,
   "id": "25c9023d",
   "metadata": {},
   "outputs": [],
   "source": [
    "import json\n",
    "import numpy as np"
   ]
  },
  {
   "cell_type": "code",
   "execution_count": 2,
   "id": "71bb1e6b",
   "metadata": {},
   "outputs": [],
   "source": [
    "import colorsys"
   ]
  },
  {
   "cell_type": "code",
   "execution_count": 3,
   "id": "f13ab9d6",
   "metadata": {},
   "outputs": [],
   "source": [
    "n_colors = '70b'\n",
    "\n",
    "properties_dir = '/mnt/ialabnas/homes/fidelrio/clevr-dataset-gen/image_generation/data/multicolored'\n",
    "properties_path = f'{properties_dir}/properties-{n_colors}.json'\n",
    "\n",
    "with open(properties_path) as fp:\n",
    "    properties = json.load(fp)\n",
    "    named_colors = properties['colors']"
   ]
  },
  {
   "cell_type": "code",
   "execution_count": 4,
   "id": "2ecb4d64",
   "metadata": {},
   "outputs": [],
   "source": [
    "color_names = list(named_colors.keys())\n",
    "raw_color_values = [named_colors[cn] for cn in color_names]"
   ]
  },
  {
   "cell_type": "code",
   "execution_count": 5,
   "id": "ca51bee3",
   "metadata": {},
   "outputs": [],
   "source": [
    "rgb_color_values = np.array(raw_color_values) / 255\n",
    "\n",
    "hls_color_values = np.array([colorsys.rgb_to_hls(*c) for c in raw_color_values])\n",
    "hls_max_min = (hls_color_values.max(0) - hls_color_values.min(0))\n",
    "hls_min = hls_color_values.min(0)\n",
    "hls_color_values = (hls_color_values - hls_min) / hls_max_min\n",
    "\n",
    "hsv_color_values = np.array([colorsys.rgb_to_hsv(*c) for c in raw_color_values])\n",
    "hsv_max_min = (hsv_color_values.max(0) - hsv_color_values.min(0))\n",
    "hsv_min = hsv_color_values.min(0)\n",
    "hsv_color_values = (hsv_color_values - hsv_min) / hsv_max_min\n",
    "\n",
    "color_values_by_repr = {\n",
    "    'rgb': rgb_color_values,\n",
    "    'hls': hls_color_values,\n",
    "    'hsv': hsv_color_values,\n",
    "}\n",
    "\n",
    "raw_color_values = np.array(raw_color_values)"
   ]
  },
  {
   "cell_type": "code",
   "execution_count": 6,
   "id": "60bf5592",
   "metadata": {},
   "outputs": [
    {
     "data": {
      "text/plain": [
       "((70, 3), (70, 3), (70, 3))"
      ]
     },
     "execution_count": 6,
     "metadata": {},
     "output_type": "execute_result"
    }
   ],
   "source": [
    "rgb_color_values.shape, hls_color_values.shape, hsv_color_values.shape"
   ]
  },
  {
   "cell_type": "code",
   "execution_count": null,
   "id": "f0057426",
   "metadata": {},
   "outputs": [],
   "source": []
  },
  {
   "cell_type": "code",
   "execution_count": 7,
   "id": "774aefb0",
   "metadata": {},
   "outputs": [],
   "source": [
    "num_clusters = 8\n",
    "balanced = True\n",
    "representation = 'hls'\n",
    "\n",
    "color_values = color_values_by_repr[representation]"
   ]
  },
  {
   "cell_type": "code",
   "execution_count": 8,
   "id": "6b093e17",
   "metadata": {},
   "outputs": [
    {
     "ename": "KeyboardInterrupt",
     "evalue": "",
     "output_type": "error",
     "traceback": [
      "\u001b[0;31m---------------------------------------------------------------------------\u001b[0m",
      "\u001b[0;31mKeyboardInterrupt\u001b[0m                         Traceback (most recent call last)",
      "\u001b[0;32m/tmp/ipykernel_29929/2303688279.py\u001b[0m in \u001b[0;36m<module>\u001b[0;34m\u001b[0m\n\u001b[1;32m     52\u001b[0m \u001b[0;34m\u001b[0m\u001b[0m\n\u001b[1;32m     53\u001b[0m \u001b[0;32mif\u001b[0m \u001b[0mbalanced\u001b[0m\u001b[0;34m:\u001b[0m\u001b[0;34m\u001b[0m\u001b[0;34m\u001b[0m\u001b[0m\n\u001b[0;32m---> 54\u001b[0;31m     \u001b[0mcolor_assign\u001b[0m\u001b[0;34m,\u001b[0m \u001b[0mcluster_centers\u001b[0m \u001b[0;34m=\u001b[0m \u001b[0mbalanced_k_means\u001b[0m\u001b[0;34m(\u001b[0m\u001b[0mcolor_values\u001b[0m\u001b[0;34m,\u001b[0m \u001b[0mn_clusters\u001b[0m\u001b[0;34m=\u001b[0m\u001b[0mnum_clusters\u001b[0m\u001b[0;34m,\u001b[0m \u001b[0mmax_iter\u001b[0m\u001b[0;34m=\u001b[0m\u001b[0;36m100\u001b[0m\u001b[0;34m)\u001b[0m\u001b[0;34m\u001b[0m\u001b[0;34m\u001b[0m\u001b[0m\n\u001b[0m\u001b[1;32m     55\u001b[0m \u001b[0;32melse\u001b[0m\u001b[0;34m:\u001b[0m\u001b[0;34m\u001b[0m\u001b[0;34m\u001b[0m\u001b[0m\n\u001b[1;32m     56\u001b[0m     \u001b[0mcolor_assign\u001b[0m\u001b[0;34m,\u001b[0m \u001b[0mcluster_centers\u001b[0m \u001b[0;34m=\u001b[0m \u001b[0mk_means\u001b[0m\u001b[0;34m(\u001b[0m\u001b[0mcolor_values\u001b[0m\u001b[0;34m,\u001b[0m \u001b[0mn_clusters\u001b[0m\u001b[0;34m=\u001b[0m\u001b[0mnum_clusters\u001b[0m\u001b[0;34m)\u001b[0m\u001b[0;34m\u001b[0m\u001b[0;34m\u001b[0m\u001b[0m\n",
      "\u001b[0;32m/tmp/ipykernel_29929/2303688279.py\u001b[0m in \u001b[0;36mbalanced_k_means\u001b[0;34m(X, n_clusters, max_iter, random_state)\u001b[0m\n\u001b[1;32m     22\u001b[0m         \u001b[0;31m# Balance clusters by redistributing samples if necessary\u001b[0m\u001b[0;34m\u001b[0m\u001b[0;34m\u001b[0m\u001b[0;34m\u001b[0m\u001b[0m\n\u001b[1;32m     23\u001b[0m         \u001b[0;32mfor\u001b[0m \u001b[0mcluster\u001b[0m \u001b[0;32min\u001b[0m \u001b[0mclusters\u001b[0m\u001b[0;34m:\u001b[0m\u001b[0;34m\u001b[0m\u001b[0;34m\u001b[0m\u001b[0m\n\u001b[0;32m---> 24\u001b[0;31m             \u001b[0;32mwhile\u001b[0m \u001b[0mlen\u001b[0m\u001b[0;34m(\u001b[0m\u001b[0mcluster\u001b[0m\u001b[0;34m)\u001b[0m \u001b[0;34m>\u001b[0m \u001b[0msize_per_cluster\u001b[0m\u001b[0;34m+\u001b[0m\u001b[0;36m1\u001b[0m\u001b[0;34m:\u001b[0m\u001b[0;34m\u001b[0m\u001b[0;34m\u001b[0m\u001b[0m\n\u001b[0m\u001b[1;32m     25\u001b[0m                 \u001b[0;32mfor\u001b[0m \u001b[0mtarget_cluster\u001b[0m \u001b[0;32min\u001b[0m \u001b[0mclusters\u001b[0m\u001b[0;34m:\u001b[0m\u001b[0;34m\u001b[0m\u001b[0;34m\u001b[0m\u001b[0m\n\u001b[1;32m     26\u001b[0m                     \u001b[0;32mif\u001b[0m \u001b[0mlen\u001b[0m\u001b[0;34m(\u001b[0m\u001b[0mtarget_cluster\u001b[0m\u001b[0;34m)\u001b[0m \u001b[0;34m<\u001b[0m \u001b[0msize_per_cluster\u001b[0m\u001b[0;34m:\u001b[0m\u001b[0;34m\u001b[0m\u001b[0;34m\u001b[0m\u001b[0m\n",
      "\u001b[0;31mKeyboardInterrupt\u001b[0m: "
     ]
    }
   ],
   "source": [
    "from sklearn.cluster import KMeans\n",
    "from sklearn.metrics import pairwise_distances_argmin_min\n",
    "\n",
    "def balanced_k_means(X, n_clusters, max_iter=100, random_state=None):\n",
    "    np.random.seed(random_state)\n",
    "    n_samples, n_features = X.shape\n",
    "    size_per_cluster = n_samples // n_clusters\n",
    "\n",
    "    # Initialize centroids by randomly selecting k unique points\n",
    "    initial_indices = np.random.choice(n_samples, n_clusters, replace=False)\n",
    "    centroids = X[initial_indices]\n",
    "\n",
    "    for iteration in range(max_iter):\n",
    "        # Assign each sample to the nearest centroid\n",
    "        labels, _ = pairwise_distances_argmin_min(X, centroids)\n",
    "        \n",
    "        # Create clusters ensuring balance\n",
    "        clusters = [[] for _ in range(n_clusters)]\n",
    "        for idx, label in enumerate(labels):\n",
    "            clusters[label].append(idx)\n",
    "        \n",
    "        # Balance clusters by redistributing samples if necessary\n",
    "        for cluster in clusters:\n",
    "            while len(cluster) > size_per_cluster+1:\n",
    "                for target_cluster in clusters:\n",
    "                    if len(target_cluster) < size_per_cluster:\n",
    "                        target_cluster.append(cluster.pop())\n",
    "                        if len(cluster) == size_per_cluster or len(cluster) == (size_per_cluster+1):\n",
    "                            break\n",
    "                if len(cluster) == size_per_cluster or len(cluster) == (size_per_cluster+1):\n",
    "                    break\n",
    "        \n",
    "        # Calculate new centroids\n",
    "        new_centroids = np.array([X[cluster].mean(axis=0) for cluster in clusters])\n",
    "        \n",
    "        # Check for convergence\n",
    "        if np.all(centroids == new_centroids):\n",
    "            break\n",
    "        centroids = new_centroids\n",
    "    \n",
    "    assignation = np.zeros(len(X), dtype=int)\n",
    "    for cluster_idx, cluster in enumerate(clusters):\n",
    "        assignation[cluster] = cluster_idx\n",
    "    return assignation, centroids\n",
    "\n",
    "def k_means(X, num_clusters):\n",
    "    kmeans = KMeans(n_clusters=num_clusters)\n",
    "    y = kmeans.fit_predict(X)\n",
    "    cluster_centers = kmeans.cluster_centers_\n",
    "    return y, cluster_centers\n",
    "\n",
    "\n",
    "if balanced:\n",
    "    color_assign, cluster_centers = balanced_k_means(color_values, n_clusters=num_clusters, max_iter=100)\n",
    "else:\n",
    "    color_assign, cluster_centers = k_means(color_values, n_clusters=num_clusters)"
   ]
  },
  {
   "cell_type": "code",
   "execution_count": null,
   "id": "d4001170",
   "metadata": {},
   "outputs": [],
   "source": []
  },
  {
   "cell_type": "code",
   "execution_count": 9,
   "id": "e41c2c41",
   "metadata": {},
   "outputs": [
    {
     "ename": "NameError",
     "evalue": "name 'cluster_centers' is not defined",
     "output_type": "error",
     "traceback": [
      "\u001b[0;31m---------------------------------------------------------------------------\u001b[0m",
      "\u001b[0;31mNameError\u001b[0m                                 Traceback (most recent call last)",
      "\u001b[0;32m/tmp/ipykernel_29929/2092840241.py\u001b[0m in \u001b[0;36m<module>\u001b[0;34m\u001b[0m\n\u001b[0;32m----> 1\u001b[0;31m \u001b[0mcentroid_closest_colors\u001b[0m\u001b[0;34m,\u001b[0m \u001b[0m_\u001b[0m \u001b[0;34m=\u001b[0m \u001b[0mpairwise_distances_argmin_min\u001b[0m\u001b[0;34m(\u001b[0m\u001b[0mcluster_centers\u001b[0m\u001b[0;34m,\u001b[0m \u001b[0mcolor_values\u001b[0m\u001b[0;34m)\u001b[0m\u001b[0;34m\u001b[0m\u001b[0;34m\u001b[0m\u001b[0m\n\u001b[0m\u001b[1;32m      2\u001b[0m \u001b[0;34m\u001b[0m\u001b[0m\n\u001b[1;32m      3\u001b[0m \u001b[0mcentroid_color_names\u001b[0m \u001b[0;34m=\u001b[0m \u001b[0;34m[\u001b[0m\u001b[0mcolor_names\u001b[0m\u001b[0;34m[\u001b[0m\u001b[0mcidx\u001b[0m\u001b[0;34m]\u001b[0m \u001b[0;32mfor\u001b[0m \u001b[0mcidx\u001b[0m \u001b[0;32min\u001b[0m \u001b[0mcentroid_closest_colors\u001b[0m\u001b[0;34m]\u001b[0m\u001b[0;34m\u001b[0m\u001b[0;34m\u001b[0m\u001b[0m\n\u001b[1;32m      4\u001b[0m \u001b[0;34m\u001b[0m\u001b[0m\n\u001b[1;32m      5\u001b[0m \u001b[0mcolor_translation\u001b[0m \u001b[0;34m=\u001b[0m \u001b[0;34m{\u001b[0m\u001b[0;34m}\u001b[0m\u001b[0;34m\u001b[0m\u001b[0;34m\u001b[0m\u001b[0m\n",
      "\u001b[0;31mNameError\u001b[0m: name 'cluster_centers' is not defined"
     ]
    }
   ],
   "source": [
    "centroid_closest_colors, _ = pairwise_distances_argmin_min(cluster_centers, color_values)\n",
    "\n",
    "centroid_color_names = [color_names[cidx] for cidx in centroid_closest_colors]\n",
    "\n",
    "color_translation = {}\n",
    "for cname, cluster in zip(color_names, color_assign.tolist()):\n",
    "    color_translation[cname] = centroid_color_names[cluster]"
   ]
  },
  {
   "cell_type": "code",
   "execution_count": 10,
   "id": "2fe5b174",
   "metadata": {},
   "outputs": [],
   "source": [
    "# cluster_centers, color_values[centroid_closest_colors]"
   ]
  },
  {
   "cell_type": "code",
   "execution_count": null,
   "id": "016d2728",
   "metadata": {},
   "outputs": [],
   "source": []
  },
  {
   "cell_type": "code",
   "execution_count": 11,
   "id": "beff7270",
   "metadata": {},
   "outputs": [
    {
     "ename": "NameError",
     "evalue": "name 'centroid_color_names' is not defined",
     "output_type": "error",
     "traceback": [
      "\u001b[0;31m---------------------------------------------------------------------------\u001b[0m",
      "\u001b[0;31mNameError\u001b[0m                                 Traceback (most recent call last)",
      "\u001b[0;32m/tmp/ipykernel_29929/1739756491.py\u001b[0m in \u001b[0;36m<module>\u001b[0;34m\u001b[0m\n\u001b[0;32m----> 1\u001b[0;31m \u001b[0mcentroid_color_names\u001b[0m\u001b[0;34m\u001b[0m\u001b[0;34m\u001b[0m\u001b[0m\n\u001b[0m",
      "\u001b[0;31mNameError\u001b[0m: name 'centroid_color_names' is not defined"
     ]
    }
   ],
   "source": [
    "centroid_color_names"
   ]
  },
  {
   "cell_type": "code",
   "execution_count": 12,
   "id": "97eafc10",
   "metadata": {},
   "outputs": [
    {
     "ename": "NameError",
     "evalue": "name 'color_translation' is not defined",
     "output_type": "error",
     "traceback": [
      "\u001b[0;31m---------------------------------------------------------------------------\u001b[0m",
      "\u001b[0;31mNameError\u001b[0m                                 Traceback (most recent call last)",
      "\u001b[0;32m/tmp/ipykernel_29929/719882295.py\u001b[0m in \u001b[0;36m<module>\u001b[0;34m\u001b[0m\n\u001b[0;32m----> 1\u001b[0;31m \u001b[0mcolor_translation\u001b[0m\u001b[0;34m\u001b[0m\u001b[0;34m\u001b[0m\u001b[0m\n\u001b[0m",
      "\u001b[0;31mNameError\u001b[0m: name 'color_translation' is not defined"
     ]
    }
   ],
   "source": [
    "color_translation"
   ]
  },
  {
   "cell_type": "code",
   "execution_count": 13,
   "id": "6b56d7b0",
   "metadata": {},
   "outputs": [],
   "source": [
    "# with open(f'data/color_translation_{representation}_169b_to_{num_clusters}.json', 'w') as fp:\n",
    "#     json.dump(color_translation, fp)"
   ]
  },
  {
   "cell_type": "code",
   "execution_count": null,
   "id": "69c4f93d",
   "metadata": {},
   "outputs": [],
   "source": []
  },
  {
   "cell_type": "code",
   "execution_count": 14,
   "id": "3d25caaf",
   "metadata": {},
   "outputs": [],
   "source": [
    "import math\n",
    "import matplotlib.pyplot as plt\n",
    "\n",
    "def display_colors(color_array, patches_per_row=10, patch_size=1):\n",
    "    \"\"\"\n",
    "    Display a list of colors using matplotlib in multiple rows and larger patches.\n",
    "    \n",
    "    Parameters:\n",
    "    color_array (numpy.ndarray): A 2D NumPy array with shape (n, 3), where each row represents an RGB color.\n",
    "    patches_per_row (int): The number of color patches per row.\n",
    "    patch_size (int or float): The size of each color patch.\n",
    "    \"\"\"\n",
    "    num_colors = color_array.shape[0]\n",
    "    num_rows = math.ceil(num_colors / patches_per_row)\n",
    "    \n",
    "    # Create a figure and a set of subplots\n",
    "    fig, ax = plt.subplots(figsize=(patches_per_row * patch_size, num_rows * patch_size))\n",
    "    \n",
    "    # Create a patch for each color\n",
    "    for idx, color in enumerate(color_array):\n",
    "        # Normalize the RGB values to the range [0, 1]\n",
    "        normalized_color = color / 255.0\n",
    "        row = idx // patches_per_row\n",
    "        col = idx % patches_per_row\n",
    "        ax.add_patch(\n",
    "            plt.Rectangle(\n",
    "                (col * patch_size, row * patch_size), patch_size, patch_size, color=normalized_color))\n",
    "    \n",
    "    # Set the limits and hide the axes\n",
    "    ax.set_xlim(0, patches_per_row * patch_size)\n",
    "    ax.set_ylim(0, num_rows * patch_size)\n",
    "    ax.invert_yaxis()\n",
    "    ax.axis('off')\n",
    "    \n",
    "    plt.show()"
   ]
  },
  {
   "cell_type": "code",
   "execution_count": null,
   "id": "cb03a62b",
   "metadata": {},
   "outputs": [],
   "source": []
  },
  {
   "cell_type": "code",
   "execution_count": 15,
   "id": "84a7a52d",
   "metadata": {},
   "outputs": [
    {
     "ename": "NameError",
     "evalue": "name 'cluster_centers' is not defined",
     "output_type": "error",
     "traceback": [
      "\u001b[0;31m---------------------------------------------------------------------------\u001b[0m",
      "\u001b[0;31mNameError\u001b[0m                                 Traceback (most recent call last)",
      "\u001b[0;32m/tmp/ipykernel_29929/3118270141.py\u001b[0m in \u001b[0;36m<module>\u001b[0;34m\u001b[0m\n\u001b[0;32m----> 1\u001b[0;31m \u001b[0mhls_cluster_centers\u001b[0m \u001b[0;34m=\u001b[0m \u001b[0mcluster_centers\u001b[0m\u001b[0;34m*\u001b[0m\u001b[0mhls_max_min\u001b[0m \u001b[0;34m+\u001b[0m \u001b[0mhls_min\u001b[0m\u001b[0;34m\u001b[0m\u001b[0;34m\u001b[0m\u001b[0m\n\u001b[0m\u001b[1;32m      2\u001b[0m \u001b[0mhls_cluster_centers\u001b[0m \u001b[0;34m=\u001b[0m \u001b[0;34m[\u001b[0m\u001b[0mnp\u001b[0m\u001b[0;34m.\u001b[0m\u001b[0mclip\u001b[0m\u001b[0;34m(\u001b[0m\u001b[0mcolorsys\u001b[0m\u001b[0;34m.\u001b[0m\u001b[0mhls_to_rgb\u001b[0m\u001b[0;34m(\u001b[0m\u001b[0;34m*\u001b[0m\u001b[0mc\u001b[0m\u001b[0;34m)\u001b[0m\u001b[0;34m,\u001b[0m\u001b[0;36m0\u001b[0m\u001b[0;34m,\u001b[0m\u001b[0;36m255\u001b[0m\u001b[0;34m)\u001b[0m \u001b[0;32mfor\u001b[0m \u001b[0mc\u001b[0m \u001b[0;32min\u001b[0m \u001b[0mhls_cluster_centers\u001b[0m\u001b[0;34m]\u001b[0m\u001b[0;34m\u001b[0m\u001b[0;34m\u001b[0m\u001b[0m\n\u001b[1;32m      3\u001b[0m \u001b[0;34m\u001b[0m\u001b[0m\n\u001b[1;32m      4\u001b[0m \u001b[0mhsv_cluster_centers\u001b[0m \u001b[0;34m=\u001b[0m \u001b[0mcluster_centers\u001b[0m\u001b[0;34m*\u001b[0m\u001b[0mhsv_max_min\u001b[0m \u001b[0;34m+\u001b[0m \u001b[0mhsv_min\u001b[0m\u001b[0;34m\u001b[0m\u001b[0;34m\u001b[0m\u001b[0m\n\u001b[1;32m      5\u001b[0m \u001b[0mhsv_cluster_centers\u001b[0m \u001b[0;34m=\u001b[0m \u001b[0;34m[\u001b[0m\u001b[0mnp\u001b[0m\u001b[0;34m.\u001b[0m\u001b[0mclip\u001b[0m\u001b[0;34m(\u001b[0m\u001b[0mcolorsys\u001b[0m\u001b[0;34m.\u001b[0m\u001b[0mhsv_to_rgb\u001b[0m\u001b[0;34m(\u001b[0m\u001b[0;34m*\u001b[0m\u001b[0mc\u001b[0m\u001b[0;34m)\u001b[0m\u001b[0;34m,\u001b[0m\u001b[0;36m0\u001b[0m\u001b[0;34m,\u001b[0m\u001b[0;36m255\u001b[0m\u001b[0;34m)\u001b[0m \u001b[0;32mfor\u001b[0m \u001b[0mc\u001b[0m \u001b[0;32min\u001b[0m \u001b[0mhsv_cluster_centers\u001b[0m\u001b[0;34m]\u001b[0m\u001b[0;34m\u001b[0m\u001b[0;34m\u001b[0m\u001b[0m\n",
      "\u001b[0;31mNameError\u001b[0m: name 'cluster_centers' is not defined"
     ]
    }
   ],
   "source": [
    "hls_cluster_centers = cluster_centers*hls_max_min + hls_min\n",
    "hls_cluster_centers = [np.clip(colorsys.hls_to_rgb(*c),0,255) for c in hls_cluster_centers]\n",
    "\n",
    "hsv_cluster_centers = cluster_centers*hsv_max_min + hsv_min\n",
    "hsv_cluster_centers = [np.clip(colorsys.hsv_to_rgb(*c),0,255) for c in hsv_cluster_centers]\n",
    "\n",
    "cluster_centers_rgb = {\n",
    "    'rgb': cluster_centers*255,\n",
    "    'hls': np.array(hls_cluster_centers),\n",
    "    'hsv': np.array(hsv_cluster_centers),\n",
    "}[representation] \n",
    "display_colors(cluster_centers_rgb)"
   ]
  },
  {
   "cell_type": "code",
   "execution_count": null,
   "id": "3bbc76f1",
   "metadata": {},
   "outputs": [],
   "source": [
    "display_colors(np.array([named_colors[cname] for cname in centroid_color_names]))"
   ]
  },
  {
   "cell_type": "code",
   "execution_count": null,
   "id": "d6f4cc13",
   "metadata": {},
   "outputs": [],
   "source": [
    "display_colors(raw_color_values[color_assign == 0])"
   ]
  },
  {
   "cell_type": "code",
   "execution_count": 16,
   "id": "633445df",
   "metadata": {},
   "outputs": [
    {
     "ename": "NameError",
     "evalue": "name 'color_assign' is not defined",
     "output_type": "error",
     "traceback": [
      "\u001b[0;31m---------------------------------------------------------------------------\u001b[0m",
      "\u001b[0;31mNameError\u001b[0m                                 Traceback (most recent call last)",
      "\u001b[0;32m/tmp/ipykernel_29929/3617395974.py\u001b[0m in \u001b[0;36m<module>\u001b[0;34m\u001b[0m\n\u001b[0;32m----> 1\u001b[0;31m \u001b[0mdisplay_colors\u001b[0m\u001b[0;34m(\u001b[0m\u001b[0mraw_color_values\u001b[0m\u001b[0;34m[\u001b[0m\u001b[0mcolor_assign\u001b[0m \u001b[0;34m==\u001b[0m \u001b[0;36m1\u001b[0m\u001b[0;34m]\u001b[0m\u001b[0;34m)\u001b[0m\u001b[0;34m\u001b[0m\u001b[0;34m\u001b[0m\u001b[0m\n\u001b[0m",
      "\u001b[0;31mNameError\u001b[0m: name 'color_assign' is not defined"
     ]
    }
   ],
   "source": [
    "display_colors(raw_color_values[color_assign == 1])"
   ]
  },
  {
   "cell_type": "code",
   "execution_count": 17,
   "id": "8e04a99a",
   "metadata": {},
   "outputs": [
    {
     "ename": "NameError",
     "evalue": "name 'color_assign' is not defined",
     "output_type": "error",
     "traceback": [
      "\u001b[0;31m---------------------------------------------------------------------------\u001b[0m",
      "\u001b[0;31mNameError\u001b[0m                                 Traceback (most recent call last)",
      "\u001b[0;32m/tmp/ipykernel_29929/1672811768.py\u001b[0m in \u001b[0;36m<module>\u001b[0;34m\u001b[0m\n\u001b[0;32m----> 1\u001b[0;31m \u001b[0mdisplay_colors\u001b[0m\u001b[0;34m(\u001b[0m\u001b[0mraw_color_values\u001b[0m\u001b[0;34m[\u001b[0m\u001b[0mcolor_assign\u001b[0m \u001b[0;34m==\u001b[0m \u001b[0;36m2\u001b[0m\u001b[0;34m]\u001b[0m\u001b[0;34m)\u001b[0m\u001b[0;34m\u001b[0m\u001b[0;34m\u001b[0m\u001b[0m\n\u001b[0m",
      "\u001b[0;31mNameError\u001b[0m: name 'color_assign' is not defined"
     ]
    }
   ],
   "source": [
    "display_colors(raw_color_values[color_assign == 2])"
   ]
  },
  {
   "cell_type": "code",
   "execution_count": 18,
   "id": "ac21b470",
   "metadata": {},
   "outputs": [
    {
     "ename": "NameError",
     "evalue": "name 'color_assign' is not defined",
     "output_type": "error",
     "traceback": [
      "\u001b[0;31m---------------------------------------------------------------------------\u001b[0m",
      "\u001b[0;31mNameError\u001b[0m                                 Traceback (most recent call last)",
      "\u001b[0;32m/tmp/ipykernel_29929/2695663804.py\u001b[0m in \u001b[0;36m<module>\u001b[0;34m\u001b[0m\n\u001b[0;32m----> 1\u001b[0;31m \u001b[0mdisplay_colors\u001b[0m\u001b[0;34m(\u001b[0m\u001b[0mraw_color_values\u001b[0m\u001b[0;34m[\u001b[0m\u001b[0mcolor_assign\u001b[0m \u001b[0;34m==\u001b[0m \u001b[0;36m3\u001b[0m\u001b[0;34m]\u001b[0m\u001b[0;34m)\u001b[0m\u001b[0;34m\u001b[0m\u001b[0;34m\u001b[0m\u001b[0m\n\u001b[0m",
      "\u001b[0;31mNameError\u001b[0m: name 'color_assign' is not defined"
     ]
    }
   ],
   "source": [
    "display_colors(raw_color_values[color_assign == 3])"
   ]
  },
  {
   "cell_type": "code",
   "execution_count": 19,
   "id": "fc8914d8",
   "metadata": {},
   "outputs": [
    {
     "ename": "NameError",
     "evalue": "name 'color_assign' is not defined",
     "output_type": "error",
     "traceback": [
      "\u001b[0;31m---------------------------------------------------------------------------\u001b[0m",
      "\u001b[0;31mNameError\u001b[0m                                 Traceback (most recent call last)",
      "\u001b[0;32m/tmp/ipykernel_29929/2486283472.py\u001b[0m in \u001b[0;36m<module>\u001b[0;34m\u001b[0m\n\u001b[0;32m----> 1\u001b[0;31m \u001b[0mdisplay_colors\u001b[0m\u001b[0;34m(\u001b[0m\u001b[0mraw_color_values\u001b[0m\u001b[0;34m[\u001b[0m\u001b[0mcolor_assign\u001b[0m \u001b[0;34m==\u001b[0m \u001b[0;36m4\u001b[0m\u001b[0;34m]\u001b[0m\u001b[0;34m)\u001b[0m\u001b[0;34m\u001b[0m\u001b[0;34m\u001b[0m\u001b[0m\n\u001b[0m",
      "\u001b[0;31mNameError\u001b[0m: name 'color_assign' is not defined"
     ]
    }
   ],
   "source": [
    "display_colors(raw_color_values[color_assign == 4])"
   ]
  },
  {
   "cell_type": "code",
   "execution_count": 20,
   "id": "9b34b5ac",
   "metadata": {},
   "outputs": [
    {
     "ename": "NameError",
     "evalue": "name 'color_assign' is not defined",
     "output_type": "error",
     "traceback": [
      "\u001b[0;31m---------------------------------------------------------------------------\u001b[0m",
      "\u001b[0;31mNameError\u001b[0m                                 Traceback (most recent call last)",
      "\u001b[0;32m/tmp/ipykernel_29929/2636523142.py\u001b[0m in \u001b[0;36m<module>\u001b[0;34m\u001b[0m\n\u001b[0;32m----> 1\u001b[0;31m \u001b[0mdisplay_colors\u001b[0m\u001b[0;34m(\u001b[0m\u001b[0mraw_color_values\u001b[0m\u001b[0;34m[\u001b[0m\u001b[0mcolor_assign\u001b[0m \u001b[0;34m==\u001b[0m \u001b[0;36m5\u001b[0m\u001b[0;34m]\u001b[0m\u001b[0;34m)\u001b[0m\u001b[0;34m\u001b[0m\u001b[0;34m\u001b[0m\u001b[0m\n\u001b[0m",
      "\u001b[0;31mNameError\u001b[0m: name 'color_assign' is not defined"
     ]
    }
   ],
   "source": [
    "display_colors(raw_color_values[color_assign == 5])"
   ]
  },
  {
   "cell_type": "code",
   "execution_count": 21,
   "id": "c0abc850",
   "metadata": {},
   "outputs": [
    {
     "ename": "NameError",
     "evalue": "name 'color_assign' is not defined",
     "output_type": "error",
     "traceback": [
      "\u001b[0;31m---------------------------------------------------------------------------\u001b[0m",
      "\u001b[0;31mNameError\u001b[0m                                 Traceback (most recent call last)",
      "\u001b[0;32m/tmp/ipykernel_29929/1986075885.py\u001b[0m in \u001b[0;36m<module>\u001b[0;34m\u001b[0m\n\u001b[0;32m----> 1\u001b[0;31m \u001b[0mdisplay_colors\u001b[0m\u001b[0;34m(\u001b[0m\u001b[0mraw_color_values\u001b[0m\u001b[0;34m[\u001b[0m\u001b[0mcolor_assign\u001b[0m \u001b[0;34m==\u001b[0m \u001b[0;36m6\u001b[0m\u001b[0;34m]\u001b[0m\u001b[0;34m)\u001b[0m\u001b[0;34m\u001b[0m\u001b[0;34m\u001b[0m\u001b[0m\n\u001b[0m",
      "\u001b[0;31mNameError\u001b[0m: name 'color_assign' is not defined"
     ]
    }
   ],
   "source": [
    "display_colors(raw_color_values[color_assign == 6])"
   ]
  },
  {
   "cell_type": "code",
   "execution_count": 22,
   "id": "d1d5dd0e",
   "metadata": {},
   "outputs": [
    {
     "ename": "NameError",
     "evalue": "name 'color_assign' is not defined",
     "output_type": "error",
     "traceback": [
      "\u001b[0;31m---------------------------------------------------------------------------\u001b[0m",
      "\u001b[0;31mNameError\u001b[0m                                 Traceback (most recent call last)",
      "\u001b[0;32m/tmp/ipykernel_29929/2485945727.py\u001b[0m in \u001b[0;36m<module>\u001b[0;34m\u001b[0m\n\u001b[0;32m----> 1\u001b[0;31m \u001b[0mdisplay_colors\u001b[0m\u001b[0;34m(\u001b[0m\u001b[0mraw_color_values\u001b[0m\u001b[0;34m[\u001b[0m\u001b[0mcolor_assign\u001b[0m \u001b[0;34m==\u001b[0m \u001b[0;36m7\u001b[0m\u001b[0;34m]\u001b[0m\u001b[0;34m)\u001b[0m\u001b[0;34m\u001b[0m\u001b[0;34m\u001b[0m\u001b[0m\n\u001b[0m",
      "\u001b[0;31mNameError\u001b[0m: name 'color_assign' is not defined"
     ]
    }
   ],
   "source": [
    "display_colors(raw_color_values[color_assign == 7])"
   ]
  },
  {
   "cell_type": "code",
   "execution_count": null,
   "id": "cac8d607",
   "metadata": {},
   "outputs": [],
   "source": []
  },
  {
   "cell_type": "code",
   "execution_count": 23,
   "id": "721691ee",
   "metadata": {},
   "outputs": [
    {
     "name": "stdout",
     "output_type": "stream",
     "text": [
      "['sienna', 'dark-slate-gray', 'dark-orchid', 'medium-turquoise']\n",
      "['light-steel-blue', 'dark-slate-gray', 'sienna', 'golden-rod']\n",
      "\n",
      "['golden-rod', 'lime', 'dark-violet', 'lime']\n",
      "['rosy-brown', 'dark-violet', 'golden-rod', 'lime']\n",
      "\n",
      "['golden-rod', 'teal', 'teal', 'turquoise']\n",
      "['dark-khaki', 'turquoise', 'golden-rod', 'golden-rod']\n",
      "\n"
     ]
    }
   ],
   "source": [
    "num_clusters = 8\n",
    "for rep in ['rgb','hls','hsv']:\n",
    "    with open(f'data/color_translation_{rep}_169b_to_{num_clusters}.json') as fp:\n",
    "        color_hash = json.load(fp)\n",
    "\n",
    "    print([color_hash[c] for c in [\"red\", \"green\", \"purple\", \"cyan\"]])\n",
    "    print([color_hash[c] for c in [\"dim-grey\", \"blue\", \"brown\", \"yellow\"]])\n",
    "    print()\n"
   ]
  },
  {
   "cell_type": "code",
   "execution_count": null,
   "id": "0bb2fe1d",
   "metadata": {},
   "outputs": [],
   "source": []
  },
  {
   "cell_type": "code",
   "execution_count": null,
   "id": "6b412e68",
   "metadata": {},
   "outputs": [],
   "source": []
  },
  {
   "cell_type": "code",
   "execution_count": null,
   "id": "32bcbdd0",
   "metadata": {},
   "outputs": [],
   "source": []
  },
  {
   "cell_type": "code",
   "execution_count": 47,
   "id": "11de977e",
   "metadata": {},
   "outputs": [],
   "source": [
    "num_clusters = 4\n",
    "n_colors = '70b'"
   ]
  },
  {
   "cell_type": "code",
   "execution_count": null,
   "id": "a7b38645",
   "metadata": {},
   "outputs": [],
   "source": []
  },
  {
   "cell_type": "code",
   "execution_count": 48,
   "id": "b7923b6f",
   "metadata": {},
   "outputs": [],
   "source": [
    "if n_colors == '8':\n",
    "    properties_dir = '/mnt/ialabnas/homes/fidelrio/clevr-dataset-gen/image_generation/data/'\n",
    "    properties_path = f'{properties_dir}/properties.json'\n",
    "else:\n",
    "    properties_dir = '/mnt/ialabnas/homes/fidelrio/clevr-dataset-gen/image_generation/data/multicolored'\n",
    "    properties_path = f'{properties_dir}/properties-{n_colors}.json'\n",
    "\n",
    "with open(properties_path) as fp:\n",
    "    properties = json.load(fp)\n",
    "    named_colors = properties['colors']"
   ]
  },
  {
   "cell_type": "code",
   "execution_count": 49,
   "id": "fc7aa01e",
   "metadata": {},
   "outputs": [],
   "source": [
    "color_names = list(named_colors.keys())\n",
    "raw_color_values = [named_colors[cn] for cn in color_names]"
   ]
  },
  {
   "cell_type": "code",
   "execution_count": 50,
   "id": "4bc9d80f",
   "metadata": {},
   "outputs": [],
   "source": [
    "if n_colors == '8':\n",
    "    base_dir = '/mnt/ialabnas/homes/fidelrio/clevr-dataset-gen/image_generation/data/'\n",
    "    B_split_path = f'{base_dir}/CoGenT_B.json'\n",
    "else:\n",
    "    base_dir = '/mnt/ialabnas/homes/fidelrio/clevr-dataset-gen/image_generation/data/multicolored'\n",
    "    B_split_path = f'{base_dir}/CoGenT_B-{n_colors}.json'\n",
    "\n",
    "with open(B_split_path) as fp:\n",
    "    split_prop = json.load(fp)\n",
    "    systematic_color_groups = [\n",
    "        split_prop[\"cube\"],\n",
    "        split_prop[\"cylinder\"],\n",
    "    ]"
   ]
  },
  {
   "cell_type": "code",
   "execution_count": 51,
   "id": "d77ae92b",
   "metadata": {},
   "outputs": [],
   "source": [
    "from itertools import chain\n",
    "\n",
    "# systematic_color_groups = [[\"red\", \"green\", \"purple\", \"cyan\"],\n",
    "#                            [\"dim-grey\", \"blue\", \"brown\", \"yellow\"]]\n",
    "systematic_colors = list(chain(*systematic_color_groups))\n",
    "non_systematic_colors = [c for c in color_names if c not in systematic_colors]"
   ]
  },
  {
   "cell_type": "code",
   "execution_count": 52,
   "id": "db4adcc8",
   "metadata": {},
   "outputs": [
    {
     "data": {
      "text/plain": [
       "(8, 62)"
      ]
     },
     "execution_count": 52,
     "metadata": {},
     "output_type": "execute_result"
    }
   ],
   "source": [
    "len(systematic_colors), len(non_systematic_colors)"
   ]
  },
  {
   "cell_type": "code",
   "execution_count": 53,
   "id": "f243d0d9",
   "metadata": {},
   "outputs": [
    {
     "data": {
      "text/plain": [
       "[['indian-red', 'forest-green', 'purple', 'cyan'],\n",
       " ['grey', 'blue', 'brown', 'light-yellow']]"
      ]
     },
     "execution_count": 53,
     "metadata": {},
     "output_type": "execute_result"
    }
   ],
   "source": [
    "systematic_color_groups"
   ]
  },
  {
   "cell_type": "code",
   "execution_count": 54,
   "id": "b06468a2",
   "metadata": {},
   "outputs": [],
   "source": [
    "clusters_per_group = num_clusters // len(systematic_color_groups)\n",
    "assert num_clusters % len(systematic_color_groups) == 0 or num_clusters > len(systematic_colors)"
   ]
  },
  {
   "cell_type": "code",
   "execution_count": null,
   "id": "4be96ffd",
   "metadata": {},
   "outputs": [],
   "source": []
  },
  {
   "cell_type": "code",
   "execution_count": 56,
   "id": "0955c997",
   "metadata": {},
   "outputs": [],
   "source": [
    "if num_clusters > len(systematic_colors):\n",
    "    random.shuffle(non_systematic_colors)\n",
    "    diff = num_clusters - len(systematic_colors)\n",
    "    target_colors = list(systematic_colors) + non_systematic_colors[:diff]\n",
    "else:\n",
    "    target_colors_by_group = [group[:clusters_per_group] for group in systematic_color_groups]\n",
    "    target_colors = list(chain(*target_colors_by_group))\n",
    "\n",
    "origin_colors = [c for c in color_names if c not in target_colors]"
   ]
  },
  {
   "cell_type": "code",
   "execution_count": 57,
   "id": "2845e7eb",
   "metadata": {},
   "outputs": [
    {
     "data": {
      "text/plain": [
       "(4, 66)"
      ]
     },
     "execution_count": 57,
     "metadata": {},
     "output_type": "execute_result"
    }
   ],
   "source": [
    "len(target_colors), len(origin_colors)"
   ]
  },
  {
   "cell_type": "code",
   "execution_count": 58,
   "id": "18936531",
   "metadata": {},
   "outputs": [],
   "source": [
    "import random\n",
    "random.shuffle(origin_colors)\n",
    "\n",
    "equal_pieces_size = len(origin_colors) // len(target_colors)\n",
    "unequal_pieces_size = equal_pieces_size + 1\n",
    "num_unequal_pieces = len(origin_colors) % len(target_colors)\n",
    "num_equal_pieces = len(target_colors) - num_unequal_pieces\n",
    "offset = equal_pieces_size * num_equal_pieces\n",
    "\n",
    "start_end_idxs = ([(i*equal_pieces_size,(i+1)*equal_pieces_size) for i in range(num_equal_pieces)]\n",
    "                  + [(offset+i*unequal_pieces_size,offset+(i+1)*unequal_pieces_size) for i in range(num_unequal_pieces)])\n",
    "\n",
    "systematic_color_translation = {}\n",
    "for pcolor, (start, end) in zip(target_colors, start_end_idxs):\n",
    "    systematic_color_translation[pcolor] = pcolor\n",
    "    for color in origin_colors[start:end]:\n",
    "        systematic_color_translation[color] = pcolor"
   ]
  },
  {
   "cell_type": "code",
   "execution_count": 59,
   "id": "772217b0",
   "metadata": {},
   "outputs": [
    {
     "name": "stdout",
     "output_type": "stream",
     "text": [
      "data/color_translation_random_70b_to_4.json\n"
     ]
    }
   ],
   "source": [
    "print(f'data/color_translation_random_{n_colors}_to_{num_clusters}.json')\n",
    "with open(f'data/color_translation_random_{n_colors}_to_{num_clusters}.json', 'w') as fp:\n",
    "    json.dump(systematic_color_translation, fp)"
   ]
  },
  {
   "cell_type": "code",
   "execution_count": 60,
   "id": "6ca43302",
   "metadata": {},
   "outputs": [
    {
     "data": {
      "text/plain": [
       "{'indian-red': 'indian-red',\n",
       " 'lavender': 'indian-red',\n",
       " 'dark-magenta': 'indian-red',\n",
       " 'light-salmon': 'indian-red',\n",
       " 'medium-turquoise': 'indian-red',\n",
       " 'light-slate-gray': 'indian-red',\n",
       " 'maroon': 'indian-red',\n",
       " 'plum': 'indian-red',\n",
       " 'light-yellow': 'indian-red',\n",
       " 'burly-wood': 'indian-red',\n",
       " 'deep-pink': 'indian-red',\n",
       " 'golden-rod': 'indian-red',\n",
       " 'wheat': 'indian-red',\n",
       " 'dark-khaki': 'indian-red',\n",
       " 'bisque': 'indian-red',\n",
       " 'brown': 'indian-red',\n",
       " 'yellow-green': 'indian-red',\n",
       " 'forest-green': 'forest-green',\n",
       " 'honeydew': 'forest-green',\n",
       " 'chartreuse': 'forest-green',\n",
       " 'mint-cream': 'forest-green',\n",
       " 'navajo-white': 'forest-green',\n",
       " 'tomato': 'forest-green',\n",
       " 'gainsboro': 'forest-green',\n",
       " 'dark-turquoise': 'forest-green',\n",
       " 'sea-green': 'forest-green',\n",
       " 'corn-flower-blue': 'forest-green',\n",
       " 'silver': 'forest-green',\n",
       " 'dark-orchid': 'forest-green',\n",
       " 'sky-blue': 'forest-green',\n",
       " 'papaya-whip': 'forest-green',\n",
       " 'olive-drab': 'forest-green',\n",
       " 'blue-violet': 'forest-green',\n",
       " 'dark-cyan': 'forest-green',\n",
       " 'grey': 'grey',\n",
       " 'sienna': 'grey',\n",
       " 'alice-blue': 'grey',\n",
       " 'peru': 'grey',\n",
       " 'dark-salmon': 'grey',\n",
       " 'purple': 'grey',\n",
       " 'dark-slate-gray': 'grey',\n",
       " 'medium-spring-green': 'grey',\n",
       " 'dodger-blue': 'grey',\n",
       " 'rosy-brown': 'grey',\n",
       " 'antique-white': 'grey',\n",
       " 'magenta-': 'grey',\n",
       " 'lemon-chiffon': 'grey',\n",
       " 'pale-green': 'grey',\n",
       " 'misty-rose': 'grey',\n",
       " 'lime-green': 'grey',\n",
       " 'cadet-blue': 'grey',\n",
       " 'cyan': 'grey',\n",
       " 'blue': 'blue',\n",
       " 'midnight-blue': 'blue',\n",
       " 'olive': 'blue',\n",
       " 'medium-sea-green': 'blue',\n",
       " 'azure': 'blue',\n",
       " 'white': 'blue',\n",
       " 'medium-violet-red': 'blue',\n",
       " 'gold': 'blue',\n",
       " 'dark-orange': 'blue',\n",
       " 'linen': 'blue',\n",
       " 'medium-slate-blue': 'blue',\n",
       " 'crimson': 'blue',\n",
       " 'dark-green': 'blue',\n",
       " 'black': 'blue',\n",
       " 'light-pink': 'blue',\n",
       " 'dark-blue': 'blue',\n",
       " 'dark-slate-blue': 'blue',\n",
       " 'aqua-marine': 'blue'}"
      ]
     },
     "execution_count": 60,
     "metadata": {},
     "output_type": "execute_result"
    }
   ],
   "source": [
    "systematic_color_translation"
   ]
  },
  {
   "cell_type": "code",
   "execution_count": 61,
   "id": "5c9ed38a",
   "metadata": {
    "scrolled": true
   },
   "outputs": [
    {
     "data": {
      "text/plain": [
       "(4, 70)"
      ]
     },
     "execution_count": 61,
     "metadata": {},
     "output_type": "execute_result"
    }
   ],
   "source": [
    "len(set(systematic_color_translation.values())), len(set(systematic_color_translation.keys()))"
   ]
  },
  {
   "cell_type": "code",
   "execution_count": null,
   "id": "bdee7f80",
   "metadata": {},
   "outputs": [],
   "source": []
  },
  {
   "cell_type": "code",
   "execution_count": null,
   "id": "12f5954b",
   "metadata": {},
   "outputs": [],
   "source": []
  },
  {
   "cell_type": "code",
   "execution_count": null,
   "id": "3c3b3b73",
   "metadata": {},
   "outputs": [],
   "source": []
  },
  {
   "cell_type": "code",
   "execution_count": null,
   "id": "745e9eca",
   "metadata": {},
   "outputs": [],
   "source": []
  },
  {
   "cell_type": "code",
   "execution_count": null,
   "id": "e4ffdbdd",
   "metadata": {},
   "outputs": [],
   "source": []
  }
 ],
 "metadata": {
  "kernelspec": {
   "display_name": "Python 3 (ipykernel)",
   "language": "python",
   "name": "python3"
  },
  "language_info": {
   "codemirror_mode": {
    "name": "ipython",
    "version": 3
   },
   "file_extension": ".py",
   "mimetype": "text/x-python",
   "name": "python",
   "nbconvert_exporter": "python",
   "pygments_lexer": "ipython3",
   "version": "3.7.5"
  }
 },
 "nbformat": 4,
 "nbformat_minor": 5
}

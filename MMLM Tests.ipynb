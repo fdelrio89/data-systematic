{
 "cells": [
  {
   "cell_type": "code",
   "execution_count": 1,
   "id": "bc18d515",
   "metadata": {},
   "outputs": [
    {
     "name": "stderr",
     "output_type": "stream",
     "text": [
      "2024-06-15 14:35:44.648980: W tensorflow/stream_executor/platform/default/dso_loader.cc:64] Could not load dynamic library 'libcudart.so.11.0'; dlerror: libcudart.so.11.0: cannot open shared object file: No such file or directory; LD_LIBRARY_PATH: /usr/local/cuda-8.0/lib64/\n",
      "2024-06-15 14:35:44.649043: I tensorflow/stream_executor/cuda/cudart_stub.cc:29] Ignore above cudart dlerror if you do not have a GPU set up on your machine.\n"
     ]
    }
   ],
   "source": [
    "import json\n",
    "from pathlib import Path\n",
    "import random\n",
    "import pprint\n",
    "\n",
    "import matplotlib\n",
    "import matplotlib.pyplot as plt\n",
    "\n",
    "import os\n",
    "\n",
    "import torch\n",
    "\n",
    "from config import load_config\n",
    "from data import build_datasets, CollatorForMaskedSelectedTokens, CollatorForMaskedRandomSelectedTokens, IdentityCollator\n",
    "from data import ALL_POSSIBLE_COLORS\n",
    "from model import MultimodalModel, MultimodalPretrainingModel\n",
    "from lightning import Trainer, seed_everything\n",
    "from tqdm.auto import tqdm, trange\n",
    "\n",
    "from PIL import Image\n",
    "\n",
    "from torch.utils.data import DataLoader, Subset\n",
    "from torch.nn.functional import softmax\n",
    "\n",
    "\n",
    "pp = pprint.PrettyPrinter(indent=2)"
   ]
  },
  {
   "cell_type": "code",
   "execution_count": null,
   "id": "4b0608ef",
   "metadata": {},
   "outputs": [],
   "source": []
  },
  {
   "cell_type": "code",
   "execution_count": 2,
   "id": "07b47f2f",
   "metadata": {},
   "outputs": [],
   "source": [
    "def scene_tensor_to_txt(tensor):\n",
    "    return ' '.join([processor.inv_vocabulary[t] for t in tensor.tolist()])\n",
    "\n",
    "def print_scene_tensor(tensor):\n",
    "    scene_text = scene_tensor_to_txt(tensor)\n",
    "    print(scene_text.replace('[PAD]', '').replace('[SEP]','\\n     '))\n",
    "    \n",
    "def print_parallel(tensor0, tensor1, tensor2, confidences, titles):\n",
    "    ttl0, ttl1, ttl2 = titles\n",
    "    print(f'{ttl0:6.6s} {ttl1:6.6s} {ttl2:6.6s}')\n",
    "    for t0, t1, t2, conf in zip(\n",
    "            tensor0.tolist(), tensor1.tolist(), tensor2.tolist(), confidences.tolist()):\n",
    "        w0 = processor.inv_vocabulary[t0]\n",
    "        w1 = processor.inv_vocabulary[t1]\n",
    "        w2 = processor.inv_vocabulary[t2]\n",
    "        \n",
    "        if w0 == '[SEP]':\n",
    "            print()\n",
    "            continue\n",
    "        if w0 == '[PAD]':\n",
    "            break\n",
    "        \n",
    "        print_txt = f'{w0:6.6s} {w1:6.6s} {w2:6.6s} ({conf:.4f})'\n",
    "        if w0 != w2:\n",
    "            print_txt = bold(print_txt)\n",
    "            \n",
    "\n",
    "        print(print_txt)\n",
    "        \n",
    "def bold(text):\n",
    "    return (\"\\033[1m\" + text + \"\\033[0m\")"
   ]
  },
  {
   "cell_type": "code",
   "execution_count": 3,
   "id": "3a64e591",
   "metadata": {},
   "outputs": [
    {
     "name": "stdout",
     "output_type": "stream",
     "text": [
      "Epoch: 999\n"
     ]
    }
   ],
   "source": [
    "exp_name = 'multimodal-pretraining-v3--mlm_probability=0.15' \n",
    "# exp_name = 'multimodal-pretraining-v3--n_colors=139--mlm_probability=0.15'\n",
    "# exp_name = 'multimodal-pretraining-v3--n_colors=139b--mlm_probability=0.15'\n",
    "# exp_name = 'multimodal-pretraining-v3--n_colors=216b--mlm_probability=0.15'\n",
    "# exp_name = 'multimodal-pretraining-v3--n_colors=139b_to_8_by_random--mlm_probability=0.15'\n",
    "# exp_name = 'multimodal-pretraining-v3--n_colors=216b_to_8_by_random--mlm_probability=0.15'\n",
    "\n",
    "title_exp_name = {\n",
    "    'multimodal-pretraining-v3--mlm_probability=0.15' : '8 Colors (Base)',\n",
    "    'multimodal-pretraining-v3--n_colors=139--mlm_probability=0.15' : '139 Colors Dataset A',\n",
    "    'multimodal-pretraining-v3--n_colors=139b--mlm_probability=0.15' : '139 Colors Dataset B',\n",
    "    'multimodal-pretraining-v3--n_colors=216b--mlm_probability=0.15' : '216 Colors Dataset B',\n",
    "    'multimodal-pretraining-v3--vit--mlm_probability=0.15' : '8 Colors Vit Encoder',\n",
    "    'multimodal-pretraining-v3--n_colors=139b_to_8_by_random--mlm_probability=0.15': '139 Colors with Label Pooling',\n",
    "    'multimodal-pretraining-v3--n_colors=216b_to_8_by_random--mlm_probability=0.15': '216 Colors with Label Pooling',\n",
    "}[exp_name]\n",
    "\n",
    "resume_from_path = f'outputs/{exp_name}/last.ckpt'\n",
    "# resume_from_path = f'outputs/{exp_name}/last-v1.ckpt'\n",
    "\n",
    "checkpoint = torch.load(resume_from_path)\n",
    "\n",
    "print('Epoch:', checkpoint['epoch'])"
   ]
  },
  {
   "cell_type": "code",
   "execution_count": 4,
   "id": "e92f3603",
   "metadata": {
    "scrolled": true
   },
   "outputs": [
    {
     "name": "stdout",
     "output_type": "stream",
     "text": [
      "'epoch=109-step=15070.ckpt'  'epoch=579-step=79460.ckpt'\r\n",
      "'epoch=119-step=16440.ckpt'  'epoch=589-step=80830.ckpt'\r\n",
      "'epoch=129-step=17810.ckpt'  'epoch=599-step=82200.ckpt'\r\n",
      "'epoch=139-step=19180.ckpt'  'epoch=59-step=8220.ckpt'\r\n",
      "'epoch=149-step=20550.ckpt'  'epoch=609-step=83570.ckpt'\r\n",
      "'epoch=159-step=21920.ckpt'  'epoch=619-step=84940.ckpt'\r\n",
      "'epoch=169-step=23290.ckpt'  'epoch=629-step=86310.ckpt'\r\n",
      "'epoch=179-step=24660.ckpt'  'epoch=639-step=87680.ckpt'\r\n",
      "'epoch=189-step=26030.ckpt'  'epoch=649-step=89050.ckpt'\r\n",
      "'epoch=199-step=27400.ckpt'  'epoch=659-step=90420.ckpt'\r\n",
      "'epoch=19-step=2740.ckpt'    'epoch=669-step=91790.ckpt'\r\n",
      "'epoch=209-step=28770.ckpt'  'epoch=679-step=93160.ckpt'\r\n",
      "'epoch=219-step=30140.ckpt'  'epoch=689-step=94530.ckpt'\r\n",
      "'epoch=229-step=31510.ckpt'  'epoch=699-step=95900.ckpt'\r\n",
      "'epoch=239-step=32880.ckpt'  'epoch=69-step=9590.ckpt'\r\n",
      "'epoch=249-step=34250.ckpt'  'epoch=709-step=97270.ckpt'\r\n",
      "'epoch=259-step=35620.ckpt'  'epoch=719-step=98640.ckpt'\r\n",
      "'epoch=269-step=36990.ckpt'  'epoch=729-step=100010.ckpt'\r\n",
      "'epoch=279-step=38360.ckpt'  'epoch=739-step=101380.ckpt'\r\n",
      "'epoch=289-step=39730.ckpt'  'epoch=749-step=102750.ckpt'\r\n",
      "'epoch=299-step=41100.ckpt'  'epoch=759-step=104120.ckpt'\r\n",
      "'epoch=29-step=4110.ckpt'    'epoch=769-step=105490.ckpt'\r\n",
      "'epoch=309-step=42470.ckpt'  'epoch=779-step=106860.ckpt'\r\n",
      "'epoch=319-step=43840.ckpt'  'epoch=789-step=108230.ckpt'\r\n",
      "'epoch=329-step=45210.ckpt'  'epoch=799-step=109600.ckpt'\r\n",
      "'epoch=339-step=46580.ckpt'  'epoch=79-step=10960.ckpt'\r\n",
      "'epoch=349-step=47950.ckpt'  'epoch=809-step=110970.ckpt'\r\n",
      "'epoch=359-step=49320.ckpt'  'epoch=819-step=112340.ckpt'\r\n",
      "'epoch=369-step=50690.ckpt'  'epoch=829-step=113710.ckpt'\r\n",
      "'epoch=379-step=52060.ckpt'  'epoch=839-step=115080.ckpt'\r\n",
      "'epoch=389-step=53430.ckpt'  'epoch=849-step=116450.ckpt'\r\n",
      "'epoch=399-step=54800.ckpt'  'epoch=859-step=117820.ckpt'\r\n",
      "'epoch=39-step=5480.ckpt'    'epoch=869-step=119190.ckpt'\r\n",
      "'epoch=409-step=56170.ckpt'  'epoch=879-step=120560.ckpt'\r\n",
      "'epoch=419-step=57540.ckpt'  'epoch=889-step=121930.ckpt'\r\n",
      "'epoch=429-step=58910.ckpt'  'epoch=899-step=123300.ckpt'\r\n",
      "'epoch=439-step=60280.ckpt'  'epoch=89-step=12330.ckpt'\r\n",
      "'epoch=449-step=61650.ckpt'  'epoch=909-step=124670.ckpt'\r\n",
      "'epoch=459-step=63020.ckpt'  'epoch=919-step=126040.ckpt'\r\n",
      "'epoch=469-step=64390.ckpt'  'epoch=929-step=127410.ckpt'\r\n",
      "'epoch=479-step=65760.ckpt'  'epoch=939-step=128780.ckpt'\r\n",
      "'epoch=489-step=67130.ckpt'  'epoch=949-step=130150.ckpt'\r\n",
      "'epoch=499-step=68500.ckpt'  'epoch=959-step=131520.ckpt'\r\n",
      "'epoch=49-step=6850.ckpt'    'epoch=969-step=132890.ckpt'\r\n",
      "'epoch=509-step=69870.ckpt'  'epoch=979-step=134260.ckpt'\r\n",
      "'epoch=519-step=71240.ckpt'  'epoch=989-step=135630.ckpt'\r\n",
      "'epoch=529-step=72610.ckpt'  'epoch=999-step=137000.ckpt'\r\n",
      "'epoch=539-step=73980.ckpt'  'epoch=99-step=13700.ckpt'\r\n",
      "'epoch=549-step=75350.ckpt'  'epoch=9-step=1370.ckpt'\r\n",
      "'epoch=559-step=76720.ckpt'   last.ckpt\r\n",
      "'epoch=569-step=78090.ckpt'   restults.csv\r\n"
     ]
    }
   ],
   "source": [
    "!ls outputs/$exp_name"
   ]
  },
  {
   "cell_type": "code",
   "execution_count": 5,
   "id": "9d1336bf",
   "metadata": {},
   "outputs": [
    {
     "name": "stdout",
     "output_type": "stream",
     "text": [
      "Loading multimodal-pretraining-v3--mlm_probability=0.15 last checkpoint config from outputs/multimodal-pretraining-v3--mlm_probability=0.15/last.ckpt\n",
      "Add new arg: use_embedding_loaded = \n",
      "Add new arg: adapt_embedding_from = 0\n",
      "Add new arg: use_vit_embedding_loaded = False\n",
      "Add new arg: token_translation_path = \n",
      "Add new arg: use_curriculum = False\n"
     ]
    }
   ],
   "source": [
    "config = load_config(exp_name)\n",
    "\n",
    "config.vocabulary_path = config.vocabulary_path.replace('/workspace/' ,'/workspace1/')\n",
    "config.base_path = config.base_path.replace('/workspace/' ,'/workspace1/')"
   ]
  },
  {
   "cell_type": "code",
   "execution_count": 6,
   "id": "671ee85c",
   "metadata": {},
   "outputs": [
    {
     "name": "stdout",
     "output_type": "stream",
     "text": [
      "{ 'adapt_embedding_from': 0,\n",
      "  'aug_zero': 0,\n",
      "  'aug_zero_independent': False,\n",
      "  'base_path': '/workspace1/fidelrio/CLEVR_CoGenT_v1.0',\n",
      "  'batch_size': 256,\n",
      "  'comet_experiment_key': '88cbee2f282648bfa37fa8f27872f8af',\n",
      "  'd_hidden': 256,\n",
      "  'display_object_properties': False,\n",
      "  'filter_symmetric_relations': True,\n",
      "  'freeze_vit_embedding': False,\n",
      "  'image_pretraining': False,\n",
      "  'lr': 0.0001,\n",
      "  'max_epochs': 1000,\n",
      "  'max_question_size': 45,\n",
      "  'max_scene_size': 60,\n",
      "  'mlm_probability': 0.15,\n",
      "  'mp_probability': 0.75,\n",
      "  'multimodal_pretraining': True,\n",
      "  'multimodal_training': False,\n",
      "  'n_head': 4,\n",
      "  'n_layers': 4,\n",
      "  'n_outputs': 28,\n",
      "  'n_patches': 196,\n",
      "  'n_tokens': 96,\n",
      "  'not_normalize_image': False,\n",
      "  'only_front_right_relations': False,\n",
      "  'optimizer': 'adam',\n",
      "  'pad_idx': 1,\n",
      "  'patch_height': 16,\n",
      "  'patch_width': 16,\n",
      "  'profile': False,\n",
      "  'rels_to_sample': 0,\n",
      "  'resume_training': False,\n",
      "  'seed': 42,\n",
      "  'shuffle_object_identities': True,\n",
      "  'start_from': '',\n",
      "  'token_translation_path': '',\n",
      "  'use_curriculum': False,\n",
      "  'use_embedding_loaded': '',\n",
      "  'use_txt_scene': False,\n",
      "  'use_vit_embedding': False,\n",
      "  'use_vit_embedding_loaded': False,\n",
      "  'vocabulary_path': '/workspace1/fidelrio/CLEVR_CoGenT_v1.0/vocab.txt',\n",
      "  'wandb_experiment_id': '8hvd9yc2',\n",
      "  'weight_decay': False}\n"
     ]
    }
   ],
   "source": [
    "pp.pprint(vars(config))"
   ]
  },
  {
   "cell_type": "code",
   "execution_count": 7,
   "id": "e653b46b",
   "metadata": {},
   "outputs": [],
   "source": [
    "train_dataset, test_dataset, systematic_dataset = build_datasets(config)\n",
    "config.pad_idx = train_dataset.pad_idx"
   ]
  },
  {
   "cell_type": "code",
   "execution_count": 8,
   "id": "06c8fe3b",
   "metadata": {},
   "outputs": [
    {
     "name": "stderr",
     "output_type": "stream",
     "text": [
      "/home/fidelrio/.pyenv/versions/systematicity/lib/python3.7/site-packages/lightning/pytorch/utilities/parsing.py:270: UserWarning: Attribute 'model' is an instance of `nn.Module` and is already saved during checkpointing. It is recommended to ignore them using `self.save_hyperparameters(ignore=['model'])`.\n",
      "  f\"Attribute {k!r} is an instance of `nn.Module` and is already saved during checkpointing.\"\n"
     ]
    },
    {
     "data": {
      "text/plain": [
       "<All keys matched successfully>"
      ]
     },
     "execution_count": 8,
     "metadata": {},
     "output_type": "execute_result"
    }
   ],
   "source": [
    "model = MultimodalModel(config)\n",
    "training_model = MultimodalPretrainingModel(model, config)\n",
    "training_model.load_state_dict(checkpoint['state_dict'])"
   ]
  },
  {
   "cell_type": "code",
   "execution_count": null,
   "id": "b1adc0a1",
   "metadata": {},
   "outputs": [],
   "source": []
  },
  {
   "cell_type": "code",
   "execution_count": 15,
   "id": "69e5b1ad",
   "metadata": {},
   "outputs": [
    {
     "data": {
      "text/plain": [
       "5575008"
      ]
     },
     "execution_count": 15,
     "metadata": {},
     "output_type": "execute_result"
    }
   ],
   "source": [
    "sum(p.numel() for p in model.parameters() if p.requires_grad)"
   ]
  },
  {
   "cell_type": "code",
   "execution_count": null,
   "id": "f3ba4dfc",
   "metadata": {},
   "outputs": [],
   "source": []
  },
  {
   "cell_type": "code",
   "execution_count": 9,
   "id": "a26f537b",
   "metadata": {},
   "outputs": [],
   "source": [
    "processor = test_dataset.processor"
   ]
  },
  {
   "cell_type": "code",
   "execution_count": 10,
   "id": "aa7f06bf",
   "metadata": {},
   "outputs": [],
   "source": [
    "relation_tokens = sorted([processor.vocabulary[w] for w in ['left', 'right', 'behind', 'front']])\n",
    "color_tokens = sorted(\n",
    "    [processor.vocabulary[w] for w in ALL_POSSIBLE_COLORS if w in processor.vocabulary])\n",
    "shapes_tokens = sorted([processor.vocabulary[w] for w in ['cylinder', 'sphere', 'cube']])\n",
    "materials_tokens = sorted([processor.vocabulary[w] for w in ['metal', 'rubber']])\n",
    "size_tokens = sorted([processor.vocabulary[w] for w in ['small', 'large']])"
   ]
  },
  {
   "cell_type": "code",
   "execution_count": null,
   "id": "a2ca80e9",
   "metadata": {},
   "outputs": [],
   "source": []
  },
  {
   "cell_type": "code",
   "execution_count": 11,
   "id": "884e2101",
   "metadata": {},
   "outputs": [],
   "source": [
    "# collator = CollatorForMaskedLanguageModeling(config, processor)\n",
    "collator = CollatorForMaskedSelectedTokens(config, processor, tokens=color_tokens)\n",
    "# collator = CollatorForMaskedRandomSelectedTokens(config, processor, tokens=shapes_tokens, p=0.2)\n",
    "# collator = IdentityCollator(config, processor)"
   ]
  },
  {
   "cell_type": "code",
   "execution_count": 12,
   "id": "ddee22b9",
   "metadata": {},
   "outputs": [
    {
     "name": "stdout",
     "output_type": "stream",
     "text": [
      "9747\n"
     ]
    }
   ],
   "source": [
    "# sample_idx = 333\n",
    "sample_idx = random.randint(0, len(test_dataset))\n",
    "image, scene = test_dataset.retrieve_raw(sample_idx)\n",
    "image_tensor, scene_tensor = test_dataset[sample_idx]\n",
    "\n",
    "collated_images, collated_scenes, collated_labels = collator([(image_tensor, scene_tensor)])\n",
    "\n",
    "print(sample_idx)"
   ]
  },
  {
   "cell_type": "code",
   "execution_count": 13,
   "id": "6d2f3561",
   "metadata": {
    "scrolled": false
   },
   "outputs": [
    {
     "name": "stdout",
     "output_type": "stream",
     "text": [
      "[CLS] [O2] small yellow rubber cube \n",
      "      [O6] large red rubber cylinder \n",
      "      [O9] small green metal sphere \n",
      "      [O5] large gray rubber sphere \n",
      "      [O4] large red metal sphere \n",
      "      [O1] large yellow metal cube \n",
      "      [O3] small cyan metal sphere \n",
      "      [O7] large blue rubber cube \n",
      "      [O0] large yellow metal cube \n",
      "      [O8] small yellow rubber cube\n",
      "\n",
      "[CLS] [O2] small [MASK] rubber cube \n",
      "      [O6] large [MASK] rubber cylinder \n",
      "      [O9] small [MASK] metal sphere \n",
      "      [O5] large [MASK] rubber sphere \n",
      "      [O4] large [MASK] metal sphere \n",
      "      [O1] large [MASK] metal cube \n",
      "      [O3] small [MASK] metal sphere \n",
      "      [O7] large [MASK] rubber cube \n",
      "      [O0] large [MASK] metal cube \n",
      "      [O8] small [MASK] rubber cube\n"
     ]
    },
    {
     "data": {
      "image/png": "[encoded data removed]",
      "text/plain": [
       "<PIL.Image.Image image mode=RGB size=480x320 at 0x7F6C76773E50>"
      ]
     },
     "execution_count": 13,
     "metadata": {},
     "output_type": "execute_result"
    }
   ],
   "source": [
    "print_scene_tensor(scene_tensor)\n",
    "print()\n",
    "print_scene_tensor(collated_scenes[0])\n",
    "\n",
    "image"
   ]
  },
  {
   "cell_type": "code",
   "execution_count": 14,
   "id": "0cc27064",
   "metadata": {},
   "outputs": [],
   "source": [
    "output_logits = model(collated_images, collated_scenes)\n",
    "\n",
    "confidences = softmax(output_logits, dim=-1).max(dim=-1).values\n",
    "predictions = output_logits.argmax(dim=-1)"
   ]
  },
  {
   "cell_type": "code",
   "execution_count": null,
   "id": "ebd8f0ac",
   "metadata": {},
   "outputs": [],
   "source": [
    "print_parallel(\n",
    "    scene_tensor,\n",
    "    collated_scenes[0],\n",
    "    predictions[0][-config.max_scene_size:],\n",
    "    confidences[0][-config.max_scene_size:],\n",
    "    titles=['gd_tth', 'input', 'output']\n",
    ")"
   ]
  },
  {
   "cell_type": "code",
   "execution_count": null,
   "id": "1632e2b3",
   "metadata": {},
   "outputs": [],
   "source": []
  },
  {
   "cell_type": "code",
   "execution_count": null,
   "id": "08be2d2f",
   "metadata": {},
   "outputs": [],
   "source": []
  },
  {
   "cell_type": "code",
   "execution_count": null,
   "id": "ca97753c",
   "metadata": {},
   "outputs": [],
   "source": [
    "trainer = Trainer(max_epochs=config.max_epochs,\n",
    "                  accelerator=\"gpu\",\n",
    "                  devices=torch.cuda.device_count()\n",
    ")"
   ]
  },
  {
   "cell_type": "code",
   "execution_count": null,
   "id": "d24c802b",
   "metadata": {},
   "outputs": [],
   "source": [
    "vocab = processor.vocabulary\n",
    "\n",
    "relation_tokens = sorted(\n",
    "    [vocab[w] for w in ['left', 'right', 'behind', 'front'] if w in vocab])\n",
    "color_tokens = sorted(\n",
    "    [vocab[w] for w in ALL_POSSIBLE_COLORS if w in vocab])\n",
    "#     [vocab[w] for w in ['blue', 'brown', 'cyan', 'green', 'red', 'purple', 'yellow', 'gray']])\n",
    "shapes_tokens = sorted(\n",
    "    [vocab[w] for w in ['cylinder', 'sphere', 'cube'] if w in vocab])\n",
    "materials_tokens = sorted(\n",
    "    [vocab[w] for w in ['metal', 'rubber'] if w in vocab])\n",
    "size_tokens = sorted(\n",
    "    [vocab[w] for w in ['small', 'large'] if w in vocab])\n",
    "\n",
    "random_baseline = {\n",
    "    'relation':  1 / len(relation_tokens),\n",
    "    'color':  1 / len(color_tokens),\n",
    "    'shapes':  1 / len(shapes_tokens),\n",
    "    'materials':  1 / len(materials_tokens),\n",
    "    'size':  1 / len(size_tokens),\n",
    "    'identity':  1 / len(processor.vocabulary),\n",
    "}"
   ]
  },
  {
   "cell_type": "code",
   "execution_count": null,
   "id": "56f065ac",
   "metadata": {},
   "outputs": [],
   "source": [
    "random_baseline"
   ]
  },
  {
   "cell_type": "code",
   "execution_count": null,
   "id": "617f6b11",
   "metadata": {},
   "outputs": [],
   "source": [
    "from torch.utils.data import Subset\n",
    "import random"
   ]
  },
  {
   "cell_type": "code",
   "execution_count": null,
   "id": "dd1b03ea",
   "metadata": {},
   "outputs": [],
   "source": [
    "test_dataset_original = test_dataset\n",
    "systematic_dataset_original = systematic_dataset"
   ]
  },
  {
   "cell_type": "code",
   "execution_count": null,
   "id": "73416785",
   "metadata": {},
   "outputs": [],
   "source": [
    "# train_indices = random.sample(range(len(train_dataset)), k=5000)\n",
    "# train_dataset_subset = Subset(train_dataset, train_indices)\n",
    "# test_indices = random.sample(range(len(test_dataset)), k=5000)\n",
    "# test_dataset_subset = Subset(test_dataset, test_indices)\n",
    "# systematic_indices = random.sample(range(len(systematic_dataset)), k=5000)\n",
    "# systematic_dataset_subset = Subset(systematic_dataset, systematic_indices)\n",
    "\n",
    "train_dataset_subset = train_dataset\n",
    "test_dataset_subset = test_dataset\n",
    "systematic_dataset_subset = systematic_dataset"
   ]
  },
  {
   "cell_type": "code",
   "execution_count": null,
   "id": "5ff3a885",
   "metadata": {},
   "outputs": [],
   "source": []
  },
  {
   "cell_type": "code",
   "execution_count": null,
   "id": "c35be82f",
   "metadata": {
    "scrolled": true
   },
   "outputs": [],
   "source": [
    "%%time\n",
    "\n",
    "collate_fns = {\n",
    "    'selected': [\n",
    "        ('color', CollatorForMaskedSelectedTokens(config, processor, tokens=color_tokens)),\n",
    "        ('shapes', CollatorForMaskedSelectedTokens(config, processor, tokens=shapes_tokens)),\n",
    "        ('materials', CollatorForMaskedSelectedTokens(config, processor, tokens=materials_tokens)),\n",
    "        ('size', CollatorForMaskedSelectedTokens(config, processor, tokens=size_tokens)),\n",
    "    #     ('relation', CollatorForMaskedSelectedTokens(config, processor, tokens=relation_tokens)),\n",
    "    #     ('identity', IdentityCollator(config, processor)),\n",
    "    ],\n",
    "    'random': [\n",
    "        ('color', CollatorForMaskedRandomSelectedTokens(config, processor, tokens=color_tokens, p=0.2)),\n",
    "        ('shapes', CollatorForMaskedRandomSelectedTokens(config, processor, tokens=shapes_tokens, p=0.2)),\n",
    "        ('materials', CollatorForMaskedRandomSelectedTokens(config, processor, tokens=materials_tokens, p=0.2)),\n",
    "        ('size', CollatorForMaskedRandomSelectedTokens(config, processor, tokens=size_tokens, p=0.2)),\n",
    "    #     ('relation', CollatorForMaskedRandomSelectedTokens(config, processor, tokens=relation_tokens, p=0.2)),\n",
    "    #     ('identity', IdentityCollator(config, processor)),\n",
    "    ]\n",
    "}\n",
    "dlkwargs = {\n",
    "    'batch_size': 512,\n",
    "    'num_workers': int(os.environ.get(\"SLURM_CPUS_PER_TASK\", 4)),\n",
    "    'pin_memory': torch.cuda.is_available(),\n",
    "}\n",
    "\n",
    "all_results = {}\n",
    "for type_, fns_by_category in collate_fns.items():\n",
    "    results = {}\n",
    "    for name, collate_fn in fns_by_category:\n",
    "        train_loader = DataLoader(train_dataset_subset, shuffle=True, collate_fn=collate_fn, **dlkwargs)\n",
    "        test_loader = DataLoader(test_dataset_subset, shuffle=False, collate_fn=collate_fn, **dlkwargs)\n",
    "        systematic_loader = DataLoader(systematic_dataset_subset, shuffle=False, collate_fn=collate_fn, **dlkwargs)\n",
    "\n",
    "        results[name] = trainer.test(training_model, dataloaders=[test_loader, systematic_loader])\n",
    "        train_results = trainer.test(training_model, dataloaders=[train_loader, train_loader])\n",
    "        train_results = [{k.replace('test_', 'train_'): v for k, v in train_results[0].items()}]\n",
    "        results[name] = results[name] + train_results\n",
    "\n",
    "    all_results[type_] = results"
   ]
  },
  {
   "cell_type": "code",
   "execution_count": null,
   "id": "da526945",
   "metadata": {},
   "outputs": [],
   "source": [
    "all_results['config'] = vars(config)\n",
    "all_results['random_baseline'] = random_baseline"
   ]
  },
  {
   "cell_type": "code",
   "execution_count": null,
   "id": "d5d74cf9",
   "metadata": {},
   "outputs": [],
   "source": [
    "with open(f'outputs/results/{exp_name}.json', 'w') as fp:\n",
    "    json.dump(all_results, fp)"
   ]
  },
  {
   "cell_type": "code",
   "execution_count": null,
   "id": "ed1b6078",
   "metadata": {},
   "outputs": [],
   "source": [
    "results = all_results['selected']\n",
    "categories = results.keys()\n",
    "values1 = [results[cat][0]['test_acc/dataloader_idx_0'] for cat in categories]\n",
    "values2 = [results[cat][1]['systematic_test_acc/dataloader_idx_1'] for cat in categories]\n",
    "values0 = [results[cat][2]['train_acc/dataloader_idx_0'] for cat in categories]\n",
    "valuesR = [random_baseline[cat] for cat in categories]\n",
    "\n",
    "plt.figure(figsize=(9,5))\n",
    "\n",
    "# Define width of bars\n",
    "bar_width = 0.2\n",
    "\n",
    "# Create bars for each category\n",
    "plt.bar([x - 1.5*bar_width for x in range(len(categories))], values0, width=bar_width, label='Train')\n",
    "plt.bar([x - 0.5*bar_width for x in range(len(categories))], values1, width=bar_width, label='Test')\n",
    "plt.bar([x + 0.5*bar_width for x in range(len(categories))], values2, width=bar_width, label='Systematic')\n",
    "plt.bar([x + 1.5*bar_width for x in range(len(categories))], valuesR, width=bar_width, label='Random')\n",
    "\n",
    "xs =  list(range(len(categories)))\n",
    "for i, (v0, v1, v2, vr) in enumerate(zip(values0, values1,values2, valuesR)):\n",
    "    plt.text(xs[i] - 1.5*bar_width, v0 + 0.01, f'{v0:.2f}', ha='center')\n",
    "    plt.text(xs[i] - 0.5*bar_width, v1 + 0.01, f'{v1:.2f}', ha='center')\n",
    "    plt.text(xs[i] + 0.5*bar_width, v2 + 0.01, f'{v2:.2f}', ha='center')\n",
    "    plt.text(xs[i] + 1.5*bar_width, vr + 0.01, f'{vr:.2f}', ha='center')\n",
    "\n",
    "# Add labels and title\n",
    "plt.title(title_exp_name)\n",
    "plt.xlabel('Measure')\n",
    "plt.ylabel('Accuracy')\n",
    "plt.ylim(0., 1.05)\n",
    "# plt.title('Bar Chart with Two Columns Per Category')\n",
    "plt.xticks(range(len(categories)), categories)\n",
    "plt.legend(framealpha=0.8)\n",
    "\n",
    "# Show plot\n",
    "plt.show()"
   ]
  },
  {
   "cell_type": "code",
   "execution_count": null,
   "id": "fbc2446b",
   "metadata": {},
   "outputs": [],
   "source": [
    "results = all_results['random']\n",
    "categories = results.keys()\n",
    "values1 = [results[cat][0]['test_acc/dataloader_idx_0'] for cat in categories]\n",
    "values2 = [results[cat][1]['systematic_test_acc/dataloader_idx_1'] for cat in categories]\n",
    "values0 = [results[cat][2]['train_acc/dataloader_idx_0'] for cat in categories]\n",
    "valuesR = [random_baseline[cat] for cat in categories]\n",
    "\n",
    "plt.figure(figsize=(9,5))\n",
    "\n",
    "# Define width of bars\n",
    "bar_width = 0.2\n",
    "\n",
    "# Create bars for each category\n",
    "plt.bar([x - 1.5*bar_width for x in range(len(categories))], values0, width=bar_width, label='Train')\n",
    "plt.bar([x - 0.5*bar_width for x in range(len(categories))], values1, width=bar_width, label='Test')\n",
    "plt.bar([x + 0.5*bar_width for x in range(len(categories))], values2, width=bar_width, label='Systematic')\n",
    "plt.bar([x + 1.5*bar_width for x in range(len(categories))], valuesR, width=bar_width, label='Random')\n",
    "\n",
    "xs =  list(range(len(categories)))\n",
    "for i, (v0, v1, v2, vr) in enumerate(zip(values0, values1,values2, valuesR)):\n",
    "    plt.text(xs[i] - 1.5*bar_width, v0 + 0.01, f'{v0:.2f}', ha='center')\n",
    "    plt.text(xs[i] - 0.5*bar_width, v1 + 0.01, f'{v1:.2f}', ha='center')\n",
    "    plt.text(xs[i] + 0.5*bar_width, v2 + 0.01, f'{v2:.2f}', ha='center')\n",
    "    plt.text(xs[i] + 1.5*bar_width, vr + 0.01, f'{vr:.2f}', ha='center')\n",
    "\n",
    "# Add labels and title\n",
    "plt.title(title_exp_name)\n",
    "plt.xlabel('Measure')\n",
    "plt.ylabel('Accuracy')\n",
    "plt.ylim(0., 1.05)\n",
    "# plt.title('Bar Chart with Two Columns Per Category')\n",
    "plt.xticks(range(len(categories)), categories)\n",
    "plt.legend()\n",
    "\n",
    "# Show plot\n",
    "plt.show()"
   ]
  },
  {
   "cell_type": "code",
   "execution_count": null,
   "id": "73ad0ca7",
   "metadata": {},
   "outputs": [],
   "source": []
  },
  {
   "cell_type": "code",
   "execution_count": null,
   "id": "2630b490",
   "metadata": {},
   "outputs": [],
   "source": []
  },
  {
   "cell_type": "code",
   "execution_count": null,
   "id": "e20bf6c6",
   "metadata": {},
   "outputs": [],
   "source": []
  },
  {
   "cell_type": "code",
   "execution_count": null,
   "id": "24a8ab75",
   "metadata": {},
   "outputs": [],
   "source": []
  },
  {
   "cell_type": "code",
   "execution_count": null,
   "id": "13476262",
   "metadata": {},
   "outputs": [],
   "source": []
  },
  {
   "cell_type": "code",
   "execution_count": null,
   "id": "bae804f5",
   "metadata": {},
   "outputs": [],
   "source": []
  },
  {
   "cell_type": "code",
   "execution_count": null,
   "id": "b3627299",
   "metadata": {},
   "outputs": [],
   "source": [
    "assert False"
   ]
  },
  {
   "cell_type": "code",
   "execution_count": null,
   "id": "8441ae22",
   "metadata": {},
   "outputs": [],
   "source": [
    "idx = 30\n",
    "question = train_dataset.questions[idx]\n",
    "image_idx = question['image_index']\n",
    "scene = train_dataset.indexed_scenes[image_idx]\n",
    "\n",
    "question_str = question['question']\n",
    "answer_str = question['answer']"
   ]
  },
  {
   "cell_type": "code",
   "execution_count": null,
   "id": "859aa415",
   "metadata": {},
   "outputs": [],
   "source": [
    "config.rels_to_sample = 0\n",
    "config.only_front_right_relations = False\n",
    "config.filter_symmetric_relations = True\n",
    "config.display_object_properties = False\n",
    "\n",
    "s = Scene.from_dict(scene,\n",
    "                    shuffle_relations=True,\n",
    "                    relations_to_sample=config.rels_to_sample,\n",
    "                    only_front_right=config.only_front_right_relations,\n",
    "                    filter_symmetric=config.filter_symmetric_relations,\n",
    "                    always_display_properties=config.display_object_properties)"
   ]
  },
  {
   "cell_type": "code",
   "execution_count": null,
   "id": "7b4e1b61",
   "metadata": {},
   "outputs": [],
   "source": []
  },
  {
   "cell_type": "code",
   "execution_count": null,
   "id": "82c17801",
   "metadata": {},
   "outputs": [],
   "source": [
    "config.rels_to_sample, config.only_front_right_relations, config.filter_symmetric_relations, config.display_object_properties"
   ]
  },
  {
   "cell_type": "code",
   "execution_count": null,
   "id": "8146c164",
   "metadata": {},
   "outputs": [],
   "source": [
    "len(s.relations), list(enumerate(s.relations))"
   ]
  },
  {
   "cell_type": "code",
   "execution_count": null,
   "id": "98fbbe85",
   "metadata": {},
   "outputs": [],
   "source": [
    "s.objects"
   ]
  },
  {
   "cell_type": "code",
   "execution_count": null,
   "id": "5c78f77c",
   "metadata": {},
   "outputs": [],
   "source": [
    "str(s)"
   ]
  },
  {
   "cell_type": "code",
   "execution_count": null,
   "id": "b1b68555",
   "metadata": {},
   "outputs": [],
   "source": []
  },
  {
   "cell_type": "code",
   "execution_count": null,
   "id": "6cc6f426",
   "metadata": {},
   "outputs": [],
   "source": []
  },
  {
   "cell_type": "code",
   "execution_count": null,
   "id": "702ed7b0",
   "metadata": {},
   "outputs": [],
   "source": [
    "relations_to_sample = 20\n",
    "only_front_right_relations = False\n",
    "filter_symmetric_relations = True\n",
    "display_object_properties = False\n",
    "\n",
    "n_rels = []\n",
    "n_tokens = []\n",
    "for idx in range(len(train_dataset)):\n",
    "    question = train_dataset.questions[idx]\n",
    "\n",
    "    image_idx = question['image_index']\n",
    "    scene = train_dataset.indexed_scenes[image_idx]\n",
    "\n",
    "    question_str = question['question']\n",
    "    answer_str = question['answer']\n",
    "\n",
    "    s = Scene.from_dict(scene,\n",
    "                        shuffle_relations=True,\n",
    "                        relations_to_sample=relations_to_sample,\n",
    "                        only_front_right=only_front_right_relations,\n",
    "                        filter_symmetric=filter_symmetric_relations,\n",
    "                        always_display_properties=display_object_properties)\n",
    "    \n",
    "    n_rels.append(len(s.relations))\n",
    "    n_tokens.append(len(str(s).split()))"
   ]
  },
  {
   "cell_type": "code",
   "execution_count": null,
   "id": "6150a7dd",
   "metadata": {},
   "outputs": [],
   "source": [
    "print(min(n_rels), max(n_rels))\n",
    "print(min(n_tokens), max(n_tokens))"
   ]
  },
  {
   "cell_type": "code",
   "execution_count": null,
   "id": "da05b1c4",
   "metadata": {},
   "outputs": [],
   "source": [
    "plt.hist(n_rels, bins=10)\n",
    "plt.plot()"
   ]
  },
  {
   "cell_type": "code",
   "execution_count": null,
   "id": "3c47ea5b",
   "metadata": {},
   "outputs": [],
   "source": [
    "plt.hist(n_tokens, bins=10)\n",
    "plt.plot()"
   ]
  },
  {
   "cell_type": "code",
   "execution_count": null,
   "id": "fee4db64",
   "metadata": {},
   "outputs": [],
   "source": [
    "max(n_tokens)"
   ]
  },
  {
   "cell_type": "code",
   "execution_count": null,
   "id": "80e88e5d",
   "metadata": {},
   "outputs": [],
   "source": []
  },
  {
   "cell_type": "code",
   "execution_count": null,
   "id": "0216c902",
   "metadata": {},
   "outputs": [],
   "source": []
  },
  {
   "cell_type": "code",
   "execution_count": null,
   "id": "a0e7b808",
   "metadata": {},
   "outputs": [],
   "source": [
    "only_front_right_relations = False\n",
    "filter_symmetric_relations = True\n",
    "display_object_properties = False\n",
    "\n",
    "n_rels = []\n",
    "n_tokens = []\n",
    "for idx in range(len(train_dataset)):\n",
    "    question = train_dataset.questions[idx]\n",
    "\n",
    "    image_idx = question['image_index']\n",
    "    scene = train_dataset.indexed_scenes[image_idx]\n",
    "\n",
    "    question_str = question['question']\n",
    "    answer_str = question['answer']\n",
    "    \n",
    "    s = Scene.from_dict(scene,\n",
    "                        shuffle_relations=True,\n",
    "                        relations_to_sample=50,\n",
    "                        only_front_right=only_front_right_relations,\n",
    "                        filter_symmetric=filter_symmetric_relations,\n",
    "                        always_display_properties=display_object_properties)\n",
    "    \n",
    "    n_rels.append(len(s.relations))\n",
    "    n_tokens.append(len(str(s).split()))\n",
    "    "
   ]
  },
  {
   "cell_type": "code",
   "execution_count": null,
   "id": "092324ec",
   "metadata": {},
   "outputs": [],
   "source": [
    "print(min(n_rels), max(n_rels))\n",
    "print(min(n_tokens), max(n_tokens))"
   ]
  },
  {
   "cell_type": "code",
   "execution_count": null,
   "id": "bb872efc",
   "metadata": {},
   "outputs": [],
   "source": [
    "plt.hist(n_rels, bins=10)\n",
    "plt.plot()"
   ]
  },
  {
   "cell_type": "code",
   "execution_count": null,
   "id": "17502686",
   "metadata": {},
   "outputs": [],
   "source": [
    "plt.hist(n_tokens, bins=10)\n",
    "plt.plot()"
   ]
  },
  {
   "cell_type": "code",
   "execution_count": null,
   "id": "f8520f7b",
   "metadata": {},
   "outputs": [],
   "source": []
  },
  {
   "cell_type": "code",
   "execution_count": null,
   "id": "9cf923ae",
   "metadata": {},
   "outputs": [],
   "source": [
    "only_front_right_relations = False\n",
    "filter_symmetric_relations = True\n",
    "display_object_properties = True\n",
    "\n",
    "n_rels = []\n",
    "n_tokens = []\n",
    "for idx in range(len(train_dataset)):\n",
    "    question = train_dataset.questions[idx]\n",
    "\n",
    "    image_idx = question['image_index']\n",
    "    scene = train_dataset.indexed_scenes[image_idx]\n",
    "\n",
    "    question_str = question['question']\n",
    "    answer_str = question['answer']\n",
    "\n",
    "    s = Scene.from_dict(scene,\n",
    "                        shuffle_relations=True,\n",
    "                        relations_to_sample=50,\n",
    "                        only_front_right=only_front_right_relations,\n",
    "                        filter_symmetric=filter_symmetric_relations,\n",
    "                        always_display_properties=display_object_properties)\n",
    "    \n",
    "    n_rels.append(len(s.relations))\n",
    "    n_tokens.append(len(str(s).split()))\n",
    "    "
   ]
  },
  {
   "cell_type": "code",
   "execution_count": null,
   "id": "75b616d5",
   "metadata": {},
   "outputs": [],
   "source": [
    "print(min(n_rels), max(n_rels))\n",
    "print(min(n_tokens), max(n_tokens))"
   ]
  },
  {
   "cell_type": "code",
   "execution_count": null,
   "id": "92f7ecc3",
   "metadata": {},
   "outputs": [],
   "source": [
    "plt.hist(n_rels, bins=10)\n",
    "plt.plot()"
   ]
  },
  {
   "cell_type": "code",
   "execution_count": null,
   "id": "7f8d472d",
   "metadata": {},
   "outputs": [],
   "source": [
    "plt.hist(n_tokens, bins=10)\n",
    "plt.plot()"
   ]
  },
  {
   "cell_type": "code",
   "execution_count": null,
   "id": "559d9638",
   "metadata": {},
   "outputs": [],
   "source": []
  },
  {
   "cell_type": "code",
   "execution_count": null,
   "id": "384dd217",
   "metadata": {},
   "outputs": [],
   "source": []
  },
  {
   "cell_type": "code",
   "execution_count": null,
   "id": "0c4bdfe0",
   "metadata": {},
   "outputs": [],
   "source": []
  },
  {
   "cell_type": "code",
   "execution_count": null,
   "id": "2bc2f2dc",
   "metadata": {},
   "outputs": [],
   "source": []
  },
  {
   "cell_type": "code",
   "execution_count": null,
   "id": "1475e6e4",
   "metadata": {},
   "outputs": [],
   "source": []
  },
  {
   "cell_type": "code",
   "execution_count": null,
   "id": "489ca00e",
   "metadata": {},
   "outputs": [],
   "source": []
  },
  {
   "cell_type": "code",
   "execution_count": null,
   "id": "e7eafbdc",
   "metadata": {},
   "outputs": [],
   "source": [
    "dataset_path = Path('/mnt/ialabnas/datasets/CLEVR_CoGenT_v1.0')\n",
    "scenes_path = dataset_path / 'scenes/CLEVR_trainA_scenes.json'\n",
    "with scenes_path.open('r') as fp:\n",
    "    scenes = json.load(fp)\n",
    "    \n",
    "questions_path = dataset_path / 'questions/CLEVR_trainA_questions.json'\n",
    "with questions_path.open('r') as fp:\n",
    "    questions = json.load(fp)"
   ]
  },
  {
   "cell_type": "code",
   "execution_count": null,
   "id": "c4346263",
   "metadata": {},
   "outputs": [],
   "source": [
    "questions['questions'][3]"
   ]
  },
  {
   "cell_type": "code",
   "execution_count": null,
   "id": "45657d59",
   "metadata": {
    "scrolled": false
   },
   "outputs": [],
   "source": [
    "def n_relations(scene):\n",
    "    relations = ['behind', 'front']#, 'left', 'right']\n",
    "    count = 0\n",
    "    relationships = scene['relationships']\n",
    "    for r in relations:\n",
    "        count += sum(map(len, relationships[r]))\n",
    "    return count\n",
    "\n",
    "n_relations(scenes['scenes'][0])"
   ]
  },
  {
   "cell_type": "code",
   "execution_count": null,
   "id": "c149062a",
   "metadata": {},
   "outputs": [],
   "source": [
    "(scenes['scenes'][0])"
   ]
  },
  {
   "cell_type": "code",
   "execution_count": null,
   "id": "1ef143a2",
   "metadata": {},
   "outputs": [],
   "source": [
    "n_relations_per_example = list(map(n_relations, scenes['scenes']))\n",
    "plt.hist(n_relations_per_example)\n",
    "plt.plot()"
   ]
  },
  {
   "cell_type": "code",
   "execution_count": null,
   "id": "658ed4d0",
   "metadata": {},
   "outputs": [],
   "source": [
    "def n_objects(scene):\n",
    "    return len(scene['objects'])"
   ]
  },
  {
   "cell_type": "code",
   "execution_count": null,
   "id": "6413840d",
   "metadata": {},
   "outputs": [],
   "source": [
    "n_objects_per_example = list(map(n_objects, scenes['scenes']))\n",
    "plt.hist(n_objects_per_example, bins=max(n_objects_per_example)-3)\n",
    "plt.plot()"
   ]
  },
  {
   "cell_type": "code",
   "execution_count": null,
   "id": "ead396e0",
   "metadata": {},
   "outputs": [],
   "source": []
  },
  {
   "cell_type": "code",
   "execution_count": null,
   "id": "0b918555",
   "metadata": {},
   "outputs": [],
   "source": [
    "def object_to_text(obj, obj_idx):\n",
    "    properties = ['size', 'color', 'material', 'shape']\n",
    "    obj_str = [f'[O{obj_idx}]'] + [obj[prop] for prop in properties]\n",
    "    return ' '.join(obj_str)\n",
    "\n",
    "def relations_to_text(relations):\n",
    "#     relation_types = ['behind', 'front', 'left', 'right']\n",
    "    relation_types = ['front', 'right'] # symetric relations\n",
    "\n",
    "    relations_str = []\n",
    "    for relation_type in relation_types:\n",
    "        relation = relations[relation_type]\n",
    "        for obj, subjs in enumerate(relation):\n",
    "            relation_str = [f'[O{obj}] {relation_type} [O{subj}]' for subj in subjs]\n",
    "            relations_str.extend(relation_str)\n",
    "    \n",
    "    return relations_str\n",
    "\n",
    "def scene_to_txt(scene, rels_to_sample=None, shuffle=True):\n",
    "    objs_strs = []\n",
    "    for obj_idx, obj in enumerate(scene['objects']):\n",
    "        objs_strs.append(object_to_text(obj, obj_idx=obj_idx))\n",
    "    \n",
    "    relations_strs = relations_to_text(scene['relationships'])\n",
    "    if rels_to_sample and rels_to_sample < len(relations_strs):\n",
    "        relations_strs = random.sample(relations_strs, k)\n",
    "    if shuffle:\n",
    "        random.shuffle(relations_strs)\n",
    "\n",
    "    return ' [SEP] '.join(objs_strs + relations_strs)"
   ]
  },
  {
   "cell_type": "code",
   "execution_count": null,
   "id": "b3acc5b7",
   "metadata": {},
   "outputs": [],
   "source": [
    "from PIL import Image\n",
    "ip = '/mnt/ialabnas/datasets/CLEVR_CoGenT_v1.0/images/trainA/' + questions['questions'][8888]['image_filename']\n",
    "Image.open(ip)"
   ]
  },
  {
   "cell_type": "code",
   "execution_count": null,
   "id": "33315679",
   "metadata": {},
   "outputs": [],
   "source": [
    "object_to_text(scenes['scenes'][8888]['objects'][0], obj_idx=0)"
   ]
  },
  {
   "cell_type": "code",
   "execution_count": null,
   "id": "cae611da",
   "metadata": {},
   "outputs": [],
   "source": [
    "object_to_text(scenes['scenes'][8888]['objects'][1], obj_idx=1)"
   ]
  },
  {
   "cell_type": "code",
   "execution_count": null,
   "id": "645397ce",
   "metadata": {},
   "outputs": [],
   "source": [
    "relations_to_text(scenes['scenes'][8888]['relationships'])"
   ]
  },
  {
   "cell_type": "code",
   "execution_count": null,
   "id": "6b1f83d5",
   "metadata": {},
   "outputs": [],
   "source": [
    "scene_to_txt(scenes['scenes'][8888])"
   ]
  },
  {
   "cell_type": "code",
   "execution_count": null,
   "id": "87e241e2",
   "metadata": {},
   "outputs": [],
   "source": [
    "# scene_to_txt(scenes['scenes'][8888], rels_to_sample=5)"
   ]
  },
  {
   "cell_type": "code",
   "execution_count": null,
   "id": "917e20f4",
   "metadata": {},
   "outputs": [],
   "source": []
  },
  {
   "cell_type": "code",
   "execution_count": null,
   "id": "2c36bb25",
   "metadata": {},
   "outputs": [],
   "source": [
    "to_str = lambda s: str(Scene.from_dict(s, \n",
    "                                        relations_to_sample=config.rels_to_sample,\n",
    "                                        only_front_right=config.only_front_right_relations,\n",
    "                                        filter_symmetric=config.filter_symmetric_relations,\n",
    "                                        always_display_properties=config.display_object_properties))\n",
    "\n",
    "str_len_per_example = list(map(len, map(str.split, map(to_str, scenes['scenes']))))\n",
    "plt.hist(str_len_per_example)\n",
    "plt.plot()"
   ]
  },
  {
   "cell_type": "code",
   "execution_count": null,
   "id": "dd81824d",
   "metadata": {},
   "outputs": [],
   "source": [
    "str_fnc = lambda s: str(Scene.from_dict(s, relations_to_sample=50,\n",
    "                                        only_front_right=config.only_front_right_relations,\n",
    "                                        filter_symmetric=config.filter_symmetric_relations,\n",
    "                                        always_display_properties=config.display_object_properties))\n",
    "\n",
    "str_len_per_example = list(map(len, map(str.split, map(str_fnc, scenes['scenes']))))\n",
    "plt.hist(str_len_per_example)\n",
    "plt.plot()"
   ]
  },
  {
   "cell_type": "code",
   "execution_count": null,
   "id": "d2e96374",
   "metadata": {},
   "outputs": [],
   "source": []
  },
  {
   "cell_type": "code",
   "execution_count": null,
   "id": "f888d4c4",
   "metadata": {},
   "outputs": [],
   "source": [
    "vocabulary = set()\n",
    "for scene in scenes['scenes']:\n",
    "    scene_text = scene_to_txt(scene)\n",
    "    vocabulary.update(scene_text.split())\n",
    "\n",
    "vocabulary = ['[CLS]', '[PAD]'] + list(sorted(vocabulary))"
   ]
  },
  {
   "cell_type": "code",
   "execution_count": null,
   "id": "07bf1900",
   "metadata": {},
   "outputs": [],
   "source": [
    "len(vocabulary), vocabulary"
   ]
  },
  {
   "cell_type": "code",
   "execution_count": null,
   "id": "02f493b3",
   "metadata": {},
   "outputs": [],
   "source": []
  },
  {
   "cell_type": "code",
   "execution_count": null,
   "id": "68b352b3",
   "metadata": {},
   "outputs": [],
   "source": []
  },
  {
   "cell_type": "code",
   "execution_count": null,
   "id": "693dc9b0",
   "metadata": {},
   "outputs": [],
   "source": []
  },
  {
   "cell_type": "code",
   "execution_count": null,
   "id": "37e5c00c",
   "metadata": {},
   "outputs": [],
   "source": []
  }
 ],
 "metadata": {
  "kernelspec": {
   "display_name": "Python 3 (ipykernel)",
   "language": "python",
   "name": "python3"
  },
  "language_info": {
   "codemirror_mode": {
    "name": "ipython",
    "version": 3
   },
   "file_extension": ".py",
   "mimetype": "text/x-python",
   "name": "python",
   "nbconvert_exporter": "python",
   "pygments_lexer": "ipython3",
   "version": "3.7.5"
  }
 },
 "nbformat": 4,
 "nbformat_minor": 5
}
